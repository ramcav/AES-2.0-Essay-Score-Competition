{
 "cells": [
  {
   "cell_type": "markdown",
   "id": "f67e71ad",
   "metadata": {
    "papermill": {
     "duration": 0.023036,
     "end_time": "2024-05-19T18:14:51.071865",
     "exception": false,
     "start_time": "2024-05-19T18:14:51.048829",
     "status": "completed"
    },
    "tags": []
   },
   "source": [
    "<center><img src=\"https://keras.io/img/logo-small.png\" alt=\"Keras logo\" width=\"100\"><br/>\n",
    "This starter notebook is provided by the Keras team.</center>"
   ]
  },
  {
   "cell_type": "markdown",
   "id": "c0893983",
   "metadata": {
    "papermill": {
     "duration": 0.022109,
     "end_time": "2024-05-19T18:14:51.117489",
     "exception": false,
     "start_time": "2024-05-19T18:14:51.095380",
     "status": "completed"
    },
    "tags": []
   },
   "source": [
    "# Automated Essay Scoring 2.0 with [KerasNLP](https://github.com/keras-team/keras-nlp) and [Keras](https://github.com/keras-team/keras)\n",
    "\n",
    "<div align=\"center\">\n",
    "    <img src=\"https://i.ibb.co/BrZf1MC/AESv2.jpg\">\n",
    "</div>\n",
    "\n",
    "In this competition, our aim is to develop an AI model that can score student essays. This competition is actually an updated version of an old one that took place over a decade ago. In this version, we aim to improve upon essay scoring algorithms to enhance student learning outcomes. This notebook will guide you through the process of fine-tuning the **DebertaV3** model using **Ordinal Regression/Classification** to score student essays using KerasNLP.\n",
    "\n",
    "**Did you know**: This notebook is backend-agnostic, which means it supports TensorFlow, PyTorch, and JAX backends. However, the best performance can be achieved with `JAX`. KerasNLP and Keras enable the choice of the preferred backend. Explore further details on [Keras](https://keras.io/keras_3/).\n",
    "\n",
    "**Note**: For a deeper understanding of KerasNLP, refer to the [KerasNLP guides](https://keras.io/keras_nlp/)."
   ]
  },
  {
   "cell_type": "code",
   "execution_count": 1,
   "id": "bfe1572e",
   "metadata": {
    "execution": {
     "iopub.execute_input": "2024-05-19T18:14:51.163778Z",
     "iopub.status.busy": "2024-05-19T18:14:51.163424Z",
     "iopub.status.idle": "2024-05-19T18:14:51.167989Z",
     "shell.execute_reply": "2024-05-19T18:14:51.167250Z"
    },
    "papermill": {
     "duration": 0.030076,
     "end_time": "2024-05-19T18:14:51.169829",
     "exception": false,
     "start_time": "2024-05-19T18:14:51.139753",
     "status": "completed"
    },
    "tags": []
   },
   "outputs": [],
   "source": [
    "# !pip install textstat"
   ]
  },
  {
   "cell_type": "markdown",
   "id": "56ab017b",
   "metadata": {
    "papermill": {
     "duration": 0.02186,
     "end_time": "2024-05-19T18:14:51.213921",
     "exception": false,
     "start_time": "2024-05-19T18:14:51.192061",
     "status": "completed"
    },
    "tags": []
   },
   "source": [
    "# 📚 | Import Libraries "
   ]
  },
  {
   "cell_type": "code",
   "execution_count": 2,
   "id": "3ccce920",
   "metadata": {
    "_kg_hide-output": true,
    "execution": {
     "iopub.execute_input": "2024-05-19T18:14:51.259281Z",
     "iopub.status.busy": "2024-05-19T18:14:51.258968Z",
     "iopub.status.idle": "2024-05-19T18:15:06.054382Z",
     "shell.execute_reply": "2024-05-19T18:15:06.053569Z"
    },
    "papermill": {
     "duration": 14.820615,
     "end_time": "2024-05-19T18:15:06.056629",
     "exception": false,
     "start_time": "2024-05-19T18:14:51.236014",
     "status": "completed"
    },
    "tags": []
   },
   "outputs": [
    {
     "name": "stderr",
     "output_type": "stream",
     "text": [
      "2024-05-19 18:14:52.850759: E external/local_xla/xla/stream_executor/cuda/cuda_dnn.cc:9261] Unable to register cuDNN factory: Attempting to register factory for plugin cuDNN when one has already been registered\n",
      "2024-05-19 18:14:52.850858: E external/local_xla/xla/stream_executor/cuda/cuda_fft.cc:607] Unable to register cuFFT factory: Attempting to register factory for plugin cuFFT when one has already been registered\n",
      "2024-05-19 18:14:52.973183: E external/local_xla/xla/stream_executor/cuda/cuda_blas.cc:1515] Unable to register cuBLAS factory: Attempting to register factory for plugin cuBLAS when one has already been registered\n",
      "/opt/conda/lib/python3.10/site-packages/nltk/twitter/__init__.py:20: UserWarning: The twython library has not been installed. Some functionality from the twitter package will not be available.\n",
      "  warnings.warn(\"The twython library has not been installed. \"\n"
     ]
    }
   ],
   "source": [
    "import os\n",
    "os.environ[\"KERAS_BACKEND\"] = \"jax\"  # \"jax\" or \"tensorflow\" or \"torch\" \n",
    "\n",
    "import keras_nlp\n",
    "import keras\n",
    "import keras.backend as K\n",
    "import tensorflow as tf\n",
    "\n",
    "import numpy as np \n",
    "import pandas as pd\n",
    "\n",
    "import matplotlib.pyplot as plt\n",
    "import matplotlib as mpl\n",
    "\n",
    "\n",
    "# DEPENDENCIES FOR FEATURE ENGINEERING AND EDA (INSPO TAKEN FROM https://www.kaggle.com/code/tariqcp/understanding-aes-2-0-data-a-comprehensive-eda)\n",
    "from nltk.sentiment.vader import SentimentIntensityAnalyzer\n",
    "from sklearn.feature_extraction.text import TfidfVectorizer, CountVectorizer\n",
    "from sklearn.decomposition import LatentDirichletAllocation, NMF\n",
    "# import textstat\n",
    "import seaborn as sns\n",
    "\n",
    "cmap = plt.get_cmap('coolwarm')"
   ]
  },
  {
   "cell_type": "markdown",
   "id": "3bd0d18d",
   "metadata": {
    "papermill": {
     "duration": 0.022026,
     "end_time": "2024-05-19T18:15:06.101292",
     "exception": false,
     "start_time": "2024-05-19T18:15:06.079266",
     "status": "completed"
    },
    "tags": []
   },
   "source": []
  },
  {
   "cell_type": "code",
   "execution_count": null,
   "id": "c60e95f8",
   "metadata": {
    "papermill": {
     "duration": 0.021923,
     "end_time": "2024-05-19T18:15:06.145649",
     "exception": false,
     "start_time": "2024-05-19T18:15:06.123726",
     "status": "completed"
    },
    "tags": []
   },
   "outputs": [],
   "source": []
  },
  {
   "cell_type": "markdown",
   "id": "5d53f993",
   "metadata": {
    "papermill": {
     "duration": 0.021825,
     "end_time": "2024-05-19T18:15:06.189597",
     "exception": false,
     "start_time": "2024-05-19T18:15:06.167772",
     "status": "completed"
    },
    "tags": []
   },
   "source": [
    "## Library Version"
   ]
  },
  {
   "cell_type": "code",
   "execution_count": 3,
   "id": "7458ff6e",
   "metadata": {
    "_kg_hide-input": true,
    "execution": {
     "iopub.execute_input": "2024-05-19T18:15:06.235771Z",
     "iopub.status.busy": "2024-05-19T18:15:06.235017Z",
     "iopub.status.idle": "2024-05-19T18:15:06.240260Z",
     "shell.execute_reply": "2024-05-19T18:15:06.239400Z"
    },
    "papermill": {
     "duration": 0.03077,
     "end_time": "2024-05-19T18:15:06.242481",
     "exception": false,
     "start_time": "2024-05-19T18:15:06.211711",
     "status": "completed"
    },
    "tags": []
   },
   "outputs": [
    {
     "name": "stdout",
     "output_type": "stream",
     "text": [
      "TensorFlow: 2.15.0\n",
      "Keras: 3.2.1\n",
      "KerasNLP: 0.9.3\n"
     ]
    }
   ],
   "source": [
    "print(\"TensorFlow:\", tf.__version__)\n",
    "print(\"Keras:\", keras.__version__)\n",
    "print(\"KerasNLP:\", keras_nlp.__version__)"
   ]
  },
  {
   "cell_type": "markdown",
   "id": "4f30ef40",
   "metadata": {
    "papermill": {
     "duration": 0.022185,
     "end_time": "2024-05-19T18:15:06.286844",
     "exception": false,
     "start_time": "2024-05-19T18:15:06.264659",
     "status": "completed"
    },
    "tags": []
   },
   "source": [
    "# ⚙️ | Configuration"
   ]
  },
  {
   "cell_type": "code",
   "execution_count": 4,
   "id": "0944627c",
   "metadata": {
    "_kg_hide-input": true,
    "execution": {
     "iopub.execute_input": "2024-05-19T18:15:06.375979Z",
     "iopub.status.busy": "2024-05-19T18:15:06.375650Z",
     "iopub.status.idle": "2024-05-19T18:15:06.380416Z",
     "shell.execute_reply": "2024-05-19T18:15:06.379541Z"
    },
    "papermill": {
     "duration": 0.072971,
     "end_time": "2024-05-19T18:15:06.382275",
     "exception": false,
     "start_time": "2024-05-19T18:15:06.309304",
     "status": "completed"
    },
    "tags": []
   },
   "outputs": [],
   "source": [
    "class CFG:\n",
    "    seed = 42  # Random seed\n",
    "    preset = \"deberta_v3_extra_small_en\" # Name of pretrained models\n",
    "    sequence_length = 512  # Input sequence length\n",
    "    epochs = 5 # Training epochs\n",
    "    batch_size = 32  # Batch size\n",
    "    scheduler = 'cosine'  # Learning rate scheduler"
   ]
  },
  {
   "cell_type": "markdown",
   "id": "9b04601b",
   "metadata": {
    "papermill": {
     "duration": 0.022167,
     "end_time": "2024-05-19T18:15:06.426830",
     "exception": false,
     "start_time": "2024-05-19T18:15:06.404663",
     "status": "completed"
    },
    "tags": []
   },
   "source": [
    "# ♻️ | Reproducibility \n",
    "Sets value for random seed to produce similar result in each run."
   ]
  },
  {
   "cell_type": "code",
   "execution_count": 5,
   "id": "081188ad",
   "metadata": {
    "execution": {
     "iopub.execute_input": "2024-05-19T18:15:06.473237Z",
     "iopub.status.busy": "2024-05-19T18:15:06.472881Z",
     "iopub.status.idle": "2024-05-19T18:15:06.477391Z",
     "shell.execute_reply": "2024-05-19T18:15:06.476460Z"
    },
    "papermill": {
     "duration": 0.030069,
     "end_time": "2024-05-19T18:15:06.479406",
     "exception": false,
     "start_time": "2024-05-19T18:15:06.449337",
     "status": "completed"
    },
    "tags": []
   },
   "outputs": [],
   "source": [
    "keras.utils.set_random_seed(CFG.seed)"
   ]
  },
  {
   "cell_type": "markdown",
   "id": "99891248",
   "metadata": {
    "papermill": {
     "duration": 0.022444,
     "end_time": "2024-05-19T18:15:06.524915",
     "exception": false,
     "start_time": "2024-05-19T18:15:06.502471",
     "status": "completed"
    },
    "tags": []
   },
   "source": [
    "# 🧮 | Mixed Precision"
   ]
  },
  {
   "cell_type": "code",
   "execution_count": 6,
   "id": "3b0b4c0c",
   "metadata": {
    "execution": {
     "iopub.execute_input": "2024-05-19T18:15:06.571794Z",
     "iopub.status.busy": "2024-05-19T18:15:06.570972Z",
     "iopub.status.idle": "2024-05-19T18:15:06.575293Z",
     "shell.execute_reply": "2024-05-19T18:15:06.574426Z"
    },
    "papermill": {
     "duration": 0.029624,
     "end_time": "2024-05-19T18:15:06.577199",
     "exception": false,
     "start_time": "2024-05-19T18:15:06.547575",
     "status": "completed"
    },
    "tags": []
   },
   "outputs": [],
   "source": [
    "keras.mixed_precision.set_global_policy(\"mixed_float16\")"
   ]
  },
  {
   "cell_type": "markdown",
   "id": "2abb23eb",
   "metadata": {
    "papermill": {
     "duration": 0.02235,
     "end_time": "2024-05-19T18:15:06.622467",
     "exception": false,
     "start_time": "2024-05-19T18:15:06.600117",
     "status": "completed"
    },
    "tags": []
   },
   "source": [
    "# 📁 | Dataset Path "
   ]
  },
  {
   "cell_type": "code",
   "execution_count": 7,
   "id": "1911523d",
   "metadata": {
    "execution": {
     "iopub.execute_input": "2024-05-19T18:15:06.668965Z",
     "iopub.status.busy": "2024-05-19T18:15:06.668306Z",
     "iopub.status.idle": "2024-05-19T18:15:06.672439Z",
     "shell.execute_reply": "2024-05-19T18:15:06.671560Z"
    },
    "papermill": {
     "duration": 0.029396,
     "end_time": "2024-05-19T18:15:06.674323",
     "exception": false,
     "start_time": "2024-05-19T18:15:06.644927",
     "status": "completed"
    },
    "tags": []
   },
   "outputs": [],
   "source": [
    "BASE_PATH = '/kaggle/input/learning-agency-lab-automated-essay-scoring-2'"
   ]
  },
  {
   "cell_type": "markdown",
   "id": "027af46a",
   "metadata": {
    "papermill": {
     "duration": 0.022327,
     "end_time": "2024-05-19T18:15:06.719011",
     "exception": false,
     "start_time": "2024-05-19T18:15:06.696684",
     "status": "completed"
    },
    "tags": []
   },
   "source": [
    "# 📖 | Meta Data\n",
    "\n",
    "**Files in the dataset:**\n",
    "\n",
    "- `{test|train}.csv`\n",
    "  - `essay_id`: Unique identifier for each essay.\n",
    "  - `full_text`: Essay text.\n",
    "  - `score`: Essay's score from `1-6`.\n",
    "- `sample_submission.csv`: Valid sample submission.\n",
    "\n",
    "**What does the `score` mean?**\n",
    "\n",
    "The `score` represents the quality of student-written argumentative essays. Essays were rated based on a rubric covering perspective development, critical thinking, evidence use, organization, language, and grammar/mechanics. Here's a summary of the scoring criteria:\n",
    "\n",
    "| Score | Description |\n",
    "|-------|-------------|\n",
    "| 6     | Clear mastery with few errors, outstanding critical thinking, appropriate evidence, well-organized, skilled language use. |\n",
    "| 5     | Reasonable mastery with occasional errors, strong critical thinking, generally appropriate evidence, well-organized, good language use. |\n",
    "| 4     | Adequate mastery with some lapses, competent critical thinking, adequate evidence, generally organized, fair language use. |\n",
    "| 3     | Developing mastery with weaknesses, limited critical thinking, inconsistent evidence, limited organization, fair language use with weaknesses. |\n",
    "| 2     | Little mastery with serious flaws, weak critical thinking, insufficient evidence, poor organization, limited language use with frequent errors. |\n",
    "| 1     | Very little or no mastery, severely flawed, no viable point of view, disorganized, fundamental language flaws, pervasive grammar/mechanics errors. |\n",
    "\n",
    "> This grading is very similar to the grading used in the [ETS GRE (Graduate Record Examinations) AWA](https://www.ets.org/gre/test-takers/general-test/prepare/content/analytical-writing.html) exam, where prospective graduate students are asked to write essays to judge their analytical abilities, and their scores are later used for graduate admission. \n"
   ]
  },
  {
   "cell_type": "code",
   "execution_count": 8,
   "id": "f1ebe1e4",
   "metadata": {
    "_kg_hide-input": true,
    "execution": {
     "iopub.execute_input": "2024-05-19T18:15:06.764672Z",
     "iopub.status.busy": "2024-05-19T18:15:06.764385Z",
     "iopub.status.idle": "2024-05-19T18:15:07.549153Z",
     "shell.execute_reply": "2024-05-19T18:15:07.548239Z"
    },
    "papermill": {
     "duration": 0.810076,
     "end_time": "2024-05-19T18:15:07.551244",
     "exception": false,
     "start_time": "2024-05-19T18:15:06.741168",
     "status": "completed"
    },
    "tags": []
   },
   "outputs": [
    {
     "name": "stdout",
     "output_type": "stream",
     "text": [
      "# Train Data: 17,307\n",
      "# Sample:\n"
     ]
    },
    {
     "data": {
      "text/html": [
       "<div>\n",
       "<style scoped>\n",
       "    .dataframe tbody tr th:only-of-type {\n",
       "        vertical-align: middle;\n",
       "    }\n",
       "\n",
       "    .dataframe tbody tr th {\n",
       "        vertical-align: top;\n",
       "    }\n",
       "\n",
       "    .dataframe thead th {\n",
       "        text-align: right;\n",
       "    }\n",
       "</style>\n",
       "<table border=\"1\" class=\"dataframe\">\n",
       "  <thead>\n",
       "    <tr style=\"text-align: right;\">\n",
       "      <th></th>\n",
       "      <th>essay_id</th>\n",
       "      <th>full_text</th>\n",
       "      <th>score</th>\n",
       "    </tr>\n",
       "  </thead>\n",
       "  <tbody>\n",
       "    <tr>\n",
       "      <th>0</th>\n",
       "      <td>000d118</td>\n",
       "      <td>Many people have car where they live. The thin...</td>\n",
       "      <td>3</td>\n",
       "    </tr>\n",
       "    <tr>\n",
       "      <th>1</th>\n",
       "      <td>000fe60</td>\n",
       "      <td>I am a scientist at NASA that is discussing th...</td>\n",
       "      <td>3</td>\n",
       "    </tr>\n",
       "  </tbody>\n",
       "</table>\n",
       "</div>"
      ],
      "text/plain": [
       "  essay_id                                          full_text  score\n",
       "0  000d118  Many people have car where they live. The thin...      3\n",
       "1  000fe60  I am a scientist at NASA that is discussing th...      3"
      ]
     },
     "metadata": {},
     "output_type": "display_data"
    }
   ],
   "source": [
    "# Load data\n",
    "df = pd.read_csv(f'{BASE_PATH}/train.csv')  # Read CSV file into a DataFrame\n",
    "\n",
    "# Display information about the train data\n",
    "print(\"# Train Data: {:,}\".format(len(df)))\n",
    "print(\"# Sample:\")\n",
    "display(df.head(2))"
   ]
  },
  {
   "cell_type": "markdown",
   "id": "e085aee5",
   "metadata": {
    "papermill": {
     "duration": 0.02272,
     "end_time": "2024-05-19T18:15:07.597029",
     "exception": false,
     "start_time": "2024-05-19T18:15:07.574309",
     "status": "completed"
    },
    "tags": []
   },
   "source": [
    "# 🔪 | Data Split\n",
    "\n",
    "In the code snippet provided below, we will divide the existing **train** data into folds using a stratification of `label` column."
   ]
  },
  {
   "cell_type": "code",
   "execution_count": 9,
   "id": "f14f0ad9",
   "metadata": {
    "execution": {
     "iopub.execute_input": "2024-05-19T18:15:07.643773Z",
     "iopub.status.busy": "2024-05-19T18:15:07.643449Z",
     "iopub.status.idle": "2024-05-19T18:15:07.663088Z",
     "shell.execute_reply": "2024-05-19T18:15:07.662176Z"
    },
    "papermill": {
     "duration": 0.045587,
     "end_time": "2024-05-19T18:15:07.665131",
     "exception": false,
     "start_time": "2024-05-19T18:15:07.619544",
     "status": "completed"
    },
    "tags": []
   },
   "outputs": [],
   "source": [
    "from sklearn.model_selection import train_test_split  # Import package\n",
    "\n",
    "train_df, valid_df = train_test_split(df, test_size=0.2, stratify=df[\"score\"])"
   ]
  },
  {
   "cell_type": "markdown",
   "id": "08c94c1b",
   "metadata": {
    "papermill": {
     "duration": 0.022482,
     "end_time": "2024-05-19T18:15:07.710256",
     "exception": false,
     "start_time": "2024-05-19T18:15:07.687774",
     "status": "completed"
    },
    "tags": []
   },
   "source": [
    "# 🧂 | Process Labels for Ordinal Regression\n",
    "\n",
    "**What is Ordinal Regression?**\n",
    "Ordinal regression is a type of supervised learning algorithm used to predict an ordinal or ranked dependent variable. Unlike in typical classification problems where the target variable is categorical, in ordinal regression the target variable has a ordering or ranking. It is also different from typical regression, where the target variable is continuous. In ordinal regression, the target variable has a discrete, ordered set of values, such as levels of satisfaction or performance grades.\n",
    "\n",
    "**Why do we need it?**\n",
    "Ordinal regression is useful when the target variable (in our competition, the `score` of an essay) represents a ranking or order. Specifically, ordinal regression can capture the inherent order in the target variable, which standard classification models may not be able to do effectively.\n",
    "\n",
    "For Ordinal Regression, we have to transform the labels, which is different from typical classification or regression. The following code will convert essay scores to an ordinal matrix, which will be used as the ground truth for calculating the loss."
   ]
  },
  {
   "cell_type": "code",
   "execution_count": 10,
   "id": "8762021a",
   "metadata": {
    "execution": {
     "iopub.execute_input": "2024-05-19T18:15:07.757563Z",
     "iopub.status.busy": "2024-05-19T18:15:07.756704Z",
     "iopub.status.idle": "2024-05-19T18:15:07.765647Z",
     "shell.execute_reply": "2024-05-19T18:15:07.764765Z"
    },
    "papermill": {
     "duration": 0.034809,
     "end_time": "2024-05-19T18:15:07.767670",
     "exception": false,
     "start_time": "2024-05-19T18:15:07.732861",
     "status": "completed"
    },
    "tags": []
   },
   "outputs": [],
   "source": [
    "def to_ordinal(y, num_classes=None, dtype=\"float32\"):\n",
    "    \"\"\"Converts a class vector (integers) to an ordinal regression matrix.\n",
    "\n",
    "    This utility encodes class vector to ordinal regression/classification\n",
    "    matrix where each sample is indicated by a row and rank of that sample is\n",
    "    indicated by number of ones in that row.\n",
    "\n",
    "    Args:\n",
    "        y: Array-like with class values to be converted into a matrix\n",
    "            (integers from 0 to `num_classes - 1`).\n",
    "        num_classes: Total number of classes. If `None`, this would be inferred\n",
    "            as `max(y) + 1`.\n",
    "        dtype: The data type expected by the input. Default: `'float32'`.\n",
    "\n",
    "    Returns:\n",
    "        An ordinal regression matrix representation of the input as a NumPy\n",
    "        array. The class axis is placed last.\n",
    "    \"\"\"\n",
    "    y = np.array(y, dtype=\"int\")\n",
    "    input_shape = y.shape\n",
    "\n",
    "    # Shrink the last dimension if the shape is (..., 1).\n",
    "    if input_shape and input_shape[-1] == 1 and len(input_shape) > 1:\n",
    "        input_shape = tuple(input_shape[:-1])\n",
    "\n",
    "    y = y.reshape(-1)\n",
    "    if not num_classes:\n",
    "        num_classes = np.max(y) + 1\n",
    "    n = y.shape[0]\n",
    "    range_values = np.arange(num_classes - 1)\n",
    "    range_values = np.tile(np.expand_dims(range_values, 0), [n, 1])\n",
    "    ordinal = np.zeros((n, num_classes - 1), dtype=dtype)\n",
    "    ordinal[range_values < np.expand_dims(y, -1)] = 1\n",
    "    output_shape = input_shape + (num_classes - 1,)\n",
    "    ordinal = np.reshape(ordinal, output_shape)\n",
    "    return ordinal"
   ]
  },
  {
   "cell_type": "code",
   "execution_count": 11,
   "id": "d10db813",
   "metadata": {
    "execution": {
     "iopub.execute_input": "2024-05-19T18:15:07.814384Z",
     "iopub.status.busy": "2024-05-19T18:15:07.814072Z",
     "iopub.status.idle": "2024-05-19T18:15:07.820829Z",
     "shell.execute_reply": "2024-05-19T18:15:07.819923Z"
    },
    "papermill": {
     "duration": 0.032352,
     "end_time": "2024-05-19T18:15:07.822766",
     "exception": false,
     "start_time": "2024-05-19T18:15:07.790414",
     "status": "completed"
    },
    "tags": []
   },
   "outputs": [
    {
     "data": {
      "text/plain": [
       "array([[1., 0., 0., 0., 0., 0.],\n",
       "       [1., 1., 1., 0., 0., 0.],\n",
       "       [1., 1., 1., 1., 1., 0.],\n",
       "       [1., 1., 0., 0., 0., 0.],\n",
       "       [1., 1., 1., 1., 1., 1.]], dtype=float32)"
      ]
     },
     "execution_count": 11,
     "metadata": {},
     "output_type": "execute_result"
    }
   ],
   "source": [
    "scores = [1, 3, 5, 2, 6]\n",
    "\n",
    "to_ordinal(scores)"
   ]
  },
  {
   "cell_type": "markdown",
   "id": "50f368c5",
   "metadata": {
    "papermill": {
     "duration": 0.02252,
     "end_time": "2024-05-19T18:15:07.868294",
     "exception": false,
     "start_time": "2024-05-19T18:15:07.845774",
     "status": "completed"
    },
    "tags": []
   },
   "source": [
    "## Label Conversion"
   ]
  },
  {
   "cell_type": "code",
   "execution_count": 12,
   "id": "b1b54b11",
   "metadata": {
    "execution": {
     "iopub.execute_input": "2024-05-19T18:15:07.916054Z",
     "iopub.status.busy": "2024-05-19T18:15:07.915757Z",
     "iopub.status.idle": "2024-05-19T18:15:07.934507Z",
     "shell.execute_reply": "2024-05-19T18:15:07.933560Z"
    },
    "papermill": {
     "duration": 0.044413,
     "end_time": "2024-05-19T18:15:07.936483",
     "exception": false,
     "start_time": "2024-05-19T18:15:07.892070",
     "status": "completed"
    },
    "tags": []
   },
   "outputs": [],
   "source": [
    "train_df[\"label\"] = to_ordinal(train_df.score.values).tolist()\n",
    "valid_df[\"label\"] = to_ordinal(valid_df.score.values).tolist()"
   ]
  },
  {
   "cell_type": "markdown",
   "id": "37dc3511",
   "metadata": {
    "papermill": {
     "duration": 0.022568,
     "end_time": "2024-05-19T18:15:07.982523",
     "exception": false,
     "start_time": "2024-05-19T18:15:07.959955",
     "status": "completed"
    },
    "tags": []
   },
   "source": [
    "# 🎨 | EDA"
   ]
  },
  {
   "cell_type": "code",
   "execution_count": 13,
   "id": "8c570be8",
   "metadata": {
    "_kg_hide-input": true,
    "execution": {
     "iopub.execute_input": "2024-05-19T18:15:08.029223Z",
     "iopub.status.busy": "2024-05-19T18:15:08.028906Z",
     "iopub.status.idle": "2024-05-19T18:15:08.642192Z",
     "shell.execute_reply": "2024-05-19T18:15:08.641216Z"
    },
    "papermill": {
     "duration": 0.638954,
     "end_time": "2024-05-19T18:15:08.644146",
     "exception": false,
     "start_time": "2024-05-19T18:15:08.005192",
     "status": "completed"
    },
    "tags": []
   },
   "outputs": [
    {
     "data": {
      "image/png": "[encoded data removed]",
      "text/plain": [
       "<Figure size 800x400 with 1 Axes>"
      ]
     },
     "metadata": {},
     "output_type": "display_data"
    },
    {
     "data": {
      "image/png": "[encoded data removed]",
      "text/plain": [
       "<Figure size 800x400 with 1 Axes>"
      ]
     },
     "metadata": {},
     "output_type": "display_data"
    }
   ],
   "source": [
    "# Show distribution of answers using a bar plot\n",
    "plt.figure(figsize=(8, 4))\n",
    "df.score.value_counts().plot.bar(color=[cmap(0.0), cmap(0.25), cmap(0.65), cmap(0.9), cmap(1.0)])\n",
    "plt.xlabel(\"Score\")\n",
    "plt.ylabel(\"Count\")\n",
    "plt.title(\"Score distribution for Train Data\")\n",
    "plt.show()\n",
    "\n",
    "# Show distribution of essay length using a bar plot\n",
    "plt.figure(figsize=(8, 4))\n",
    "df['essay_length'] = df.full_text.map(len)\n",
    "df.essay_length.plot.hist(logy=False, color=cmap(0.9))\n",
    "plt.xlabel(\"Essay Length\")\n",
    "plt.ylabel(\"Count\")\n",
    "plt.title(\"Essay Length distribution for Train Data\")\n",
    "plt.show()"
   ]
  },
  {
   "cell_type": "markdown",
   "id": "30a45771",
   "metadata": {
    "papermill": {
     "duration": 0.023773,
     "end_time": "2024-05-19T18:15:08.692279",
     "exception": false,
     "start_time": "2024-05-19T18:15:08.668506",
     "status": "completed"
    },
    "tags": []
   },
   "source": [
    "# Extra EDA\n",
    "\n",
    "Apart from the default set EDA done by the competition organizers, I will conduct some additional methods to continue understanding the dataset.\n",
    "\n",
    "It is surely important to understand features like essay length, the most frequent words used, if there is any correlation between the former two and the actual essay score, among others. Thus, I will try to delve into these aspects.\n",
    "\n",
    "SOME INSPO TAKEN FROM: https://www.kaggle.com/code/tariqcp/understanding-aes-2-0-data-a-comprehensive-eda"
   ]
  },
  {
   "cell_type": "code",
   "execution_count": 14,
   "id": "cdae91d3",
   "metadata": {
    "execution": {
     "iopub.execute_input": "2024-05-19T18:15:08.741160Z",
     "iopub.status.busy": "2024-05-19T18:15:08.740831Z",
     "iopub.status.idle": "2024-05-19T18:15:08.750823Z",
     "shell.execute_reply": "2024-05-19T18:15:08.749798Z"
    },
    "papermill": {
     "duration": 0.03667,
     "end_time": "2024-05-19T18:15:08.752795",
     "exception": false,
     "start_time": "2024-05-19T18:15:08.716125",
     "status": "completed"
    },
    "tags": []
   },
   "outputs": [
    {
     "name": "stdout",
     "output_type": "stream",
     "text": [
      "Shape (13845, 4) \n",
      "\n",
      "Distribution of essay scores\n",
      "count    13845.000000\n",
      "mean         2.948573\n",
      "std          1.044910\n",
      "min          1.000000\n",
      "25%          2.000000\n",
      "50%          3.000000\n",
      "75%          4.000000\n",
      "max          6.000000\n",
      "Name: score, dtype: float64\n"
     ]
    }
   ],
   "source": [
    "# Initial EDA\n",
    "\n",
    "print(\"Shape\", train_df.shape,\"\\n\")\n",
    "\n",
    "# Distribution of the \"score\"\n",
    "\n",
    "print(\"Distribution of essay scores\")\n",
    "print(train_df[\"score\"].describe()) "
   ]
  },
  {
   "cell_type": "code",
   "execution_count": 15,
   "id": "05b80a32",
   "metadata": {
    "execution": {
     "iopub.execute_input": "2024-05-19T18:15:08.801513Z",
     "iopub.status.busy": "2024-05-19T18:15:08.801229Z",
     "iopub.status.idle": "2024-05-19T18:15:09.150315Z",
     "shell.execute_reply": "2024-05-19T18:15:09.149521Z"
    },
    "papermill": {
     "duration": 0.375863,
     "end_time": "2024-05-19T18:15:09.152451",
     "exception": false,
     "start_time": "2024-05-19T18:15:08.776588",
     "status": "completed"
    },
    "tags": []
   },
   "outputs": [],
   "source": [
    "# Get essay feature\n",
    "\n",
    "essays = train_df[\"full_text\"]\n",
    "\n",
    "# Function to split each essay\n",
    "def count_words(essay):\n",
    "    return len(essay.split())\n",
    "\n",
    "words = essays.apply(count_words)\n",
    "\n",
    "# Add essay length to train_df (both by characters and by words)\n",
    "\n",
    "train_df[\"char_essay_length\"] = essays.apply(len)\n",
    "train_df[\"words_essay_length\"] = words\n"
   ]
  },
  {
   "cell_type": "code",
   "execution_count": 16,
   "id": "a6614378",
   "metadata": {
    "execution": {
     "iopub.execute_input": "2024-05-19T18:15:09.202751Z",
     "iopub.status.busy": "2024-05-19T18:15:09.202438Z",
     "iopub.status.idle": "2024-05-19T18:15:09.210334Z",
     "shell.execute_reply": "2024-05-19T18:15:09.209301Z"
    },
    "papermill": {
     "duration": 0.035129,
     "end_time": "2024-05-19T18:15:09.212404",
     "exception": false,
     "start_time": "2024-05-19T18:15:09.177275",
     "status": "completed"
    },
    "tags": []
   },
   "outputs": [
    {
     "name": "stdout",
     "output_type": "stream",
     "text": [
      "      essay_id                                          full_text  score  \\\n",
      "14188  d0d5c01  Now a days you see everyone with cars driving ...      4   \n",
      "13755  c9f4cf0  I think we should change the elction to popula...      2   \n",
      "\n",
      "                                label  char_essay_length  words_essay_length  \n",
      "14188  [1.0, 1.0, 1.0, 1.0, 0.0, 0.0]               3879                 732  \n",
      "13755  [1.0, 1.0, 0.0, 0.0, 0.0, 0.0]               1490                 254  \n"
     ]
    }
   ],
   "source": [
    "print(train_df.head(2))\n",
    "\n",
    "# Now, our df has some new features, like the essay length both in chars and words,\n",
    "# As well as the ordinal matrix representation of the scores, which was\n",
    "# computed following the guidelines in this notebook"
   ]
  },
  {
   "cell_type": "code",
   "execution_count": 17,
   "id": "22c5d937",
   "metadata": {
    "execution": {
     "iopub.execute_input": "2024-05-19T18:15:09.261644Z",
     "iopub.status.busy": "2024-05-19T18:15:09.261385Z",
     "iopub.status.idle": "2024-05-19T18:15:09.268258Z",
     "shell.execute_reply": "2024-05-19T18:15:09.267200Z"
    },
    "papermill": {
     "duration": 0.033677,
     "end_time": "2024-05-19T18:15:09.270293",
     "exception": false,
     "start_time": "2024-05-19T18:15:09.236616",
     "status": "completed"
    },
    "tags": []
   },
   "outputs": [
    {
     "name": "stdout",
     "output_type": "stream",
     "text": [
      "Max word length: 1656 , Min word length: 150\n",
      "Max char length: 20459 , Min char length: 712\n"
     ]
    }
   ],
   "source": [
    "# Let's now understand the lengths\n",
    "\n",
    "max_word_length = train_df[\"words_essay_length\"].max()\n",
    "min_word_length = train_df[\"words_essay_length\"].min()\n",
    "max_char_length = train_df[\"char_essay_length\"].max()\n",
    "min_char_length = train_df[\"char_essay_length\"].min()\n",
    "\n",
    "print(\"Max word length:\", max_word_length, \",\" , \"Min word length:\", min_word_length)\n",
    "print(\"Max char length:\", max_char_length, \",\" , \"Min char length:\", min_char_length)"
   ]
  },
  {
   "cell_type": "code",
   "execution_count": 18,
   "id": "6369722a",
   "metadata": {
    "execution": {
     "iopub.execute_input": "2024-05-19T18:15:09.320080Z",
     "iopub.status.busy": "2024-05-19T18:15:09.319486Z",
     "iopub.status.idle": "2024-05-19T18:15:30.488424Z",
     "shell.execute_reply": "2024-05-19T18:15:30.487505Z"
    },
    "papermill": {
     "duration": 21.195739,
     "end_time": "2024-05-19T18:15:30.490417",
     "exception": false,
     "start_time": "2024-05-19T18:15:09.294678",
     "status": "completed"
    },
    "tags": []
   },
   "outputs": [
    {
     "data": {
      "image/png": "[encoded data removed]",
      "text/plain": [
       "<Figure size 640x480 with 1 Axes>"
      ]
     },
     "metadata": {},
     "output_type": "display_data"
    }
   ],
   "source": [
    "# Let's now visualize them\n",
    "train_df['char_essay_length'].value_counts().plot(kind='bar')\n",
    "plt.title('Analyzing Essay Lengths')\n",
    "plt.xlabel('Essay Length')\n",
    "plt.ylabel('No. of Essays')\n",
    "plt.show()"
   ]
  },
  {
   "cell_type": "code",
   "execution_count": 19,
   "id": "d9f7af28",
   "metadata": {
    "execution": {
     "iopub.execute_input": "2024-05-19T18:15:30.541410Z",
     "iopub.status.busy": "2024-05-19T18:15:30.540868Z",
     "iopub.status.idle": "2024-05-19T18:15:35.774326Z",
     "shell.execute_reply": "2024-05-19T18:15:35.773434Z"
    },
    "papermill": {
     "duration": 5.26108,
     "end_time": "2024-05-19T18:15:35.776602",
     "exception": false,
     "start_time": "2024-05-19T18:15:30.515522",
     "status": "completed"
    },
    "tags": []
   },
   "outputs": [
    {
     "data": {
      "image/png": "[encoded data removed]",
      "text/plain": [
       "<Figure size 640x480 with 1 Axes>"
      ]
     },
     "metadata": {},
     "output_type": "display_data"
    }
   ],
   "source": [
    "\n",
    "# Let's now visualize them\n",
    "train_df['words_essay_length'].value_counts().plot(kind='bar')\n",
    "plt.title('Analyzing Essay Lengths')\n",
    "plt.xlabel('Essay Length')\n",
    "plt.ylabel('No. of Essays')\n",
    "plt.show()"
   ]
  },
  {
   "cell_type": "code",
   "execution_count": 20,
   "id": "5e6d79f0",
   "metadata": {
    "execution": {
     "iopub.execute_input": "2024-05-19T18:15:35.832654Z",
     "iopub.status.busy": "2024-05-19T18:15:35.831886Z",
     "iopub.status.idle": "2024-05-19T18:15:36.300747Z",
     "shell.execute_reply": "2024-05-19T18:15:36.299835Z"
    },
    "papermill": {
     "duration": 0.498539,
     "end_time": "2024-05-19T18:15:36.302810",
     "exception": false,
     "start_time": "2024-05-19T18:15:35.804271",
     "status": "completed"
    },
    "tags": []
   },
   "outputs": [
    {
     "name": "stderr",
     "output_type": "stream",
     "text": [
      "/opt/conda/lib/python3.10/site-packages/seaborn/_oldcore.py:1119: FutureWarning: use_inf_as_na option is deprecated and will be removed in a future version. Convert inf values to NaN before operating instead.\n",
      "  with pd.option_context('mode.use_inf_as_na', True):\n"
     ]
    },
    {
     "data": {
      "image/png": "[encoded data removed]",
      "text/plain": [
       "<Figure size 1000x600 with 1 Axes>"
      ]
     },
     "metadata": {},
     "output_type": "display_data"
    }
   ],
   "source": [
    "# We can see that there are almost clusters of character lengths forming\n",
    "# Whilst the curve for words is much more smooth with less defined groups\n",
    "\n",
    "# Let's now see the test score distribution\n",
    "\n",
    "# Distribution plot of essay scores\n",
    "plt.figure(figsize=(10, 6))\n",
    "sns.histplot(train_df['score'], kde=True)\n",
    "plt.title(\"Analyzing Essay Scores\")\n",
    "plt.xlabel(\"Essay Score\")\n",
    "plt.ylabel(\"No. of Essays\")\n",
    "plt.show()"
   ]
  },
  {
   "cell_type": "code",
   "execution_count": 21,
   "id": "9f321467",
   "metadata": {
    "execution": {
     "iopub.execute_input": "2024-05-19T18:15:36.356408Z",
     "iopub.status.busy": "2024-05-19T18:15:36.356075Z",
     "iopub.status.idle": "2024-05-19T18:15:36.364402Z",
     "shell.execute_reply": "2024-05-19T18:15:36.363380Z"
    },
    "papermill": {
     "duration": 0.037138,
     "end_time": "2024-05-19T18:15:36.366288",
     "exception": false,
     "start_time": "2024-05-19T18:15:36.329150",
     "status": "completed"
    },
    "tags": []
   },
   "outputs": [
    {
     "name": "stdout",
     "output_type": "stream",
     "text": [
      "Correlation between Character Essay Length and Score: 0.6521325781747017\n",
      "Correlation between Word Essay Length and Score: 0.6937548479505694\n"
     ]
    }
   ],
   "source": [
    "# We can see that it almost looks like they follow a normal distribution.\n",
    "\n",
    "# Let's see if there is any correlation between word length/char length and the\n",
    "# scores\n",
    "\n",
    "# Correlation between char essay length and scores\n",
    "corr_matrix = train_df['score'].corr(train_df['char_essay_length'])\n",
    "print(\"Correlation between Character Essay Length and Score:\", corr_matrix)\n",
    "\n",
    "# Correlation between word essay length and scores\n",
    "corr_matrix = train_df['score'].corr(train_df['words_essay_length'])\n",
    "print(\"Correlation between Word Essay Length and Score:\", corr_matrix)"
   ]
  },
  {
   "cell_type": "code",
   "execution_count": 22,
   "id": "64e9f7c8",
   "metadata": {
    "execution": {
     "iopub.execute_input": "2024-05-19T18:15:36.420838Z",
     "iopub.status.busy": "2024-05-19T18:15:36.420413Z",
     "iopub.status.idle": "2024-05-19T18:15:36.425147Z",
     "shell.execute_reply": "2024-05-19T18:15:36.424068Z"
    },
    "papermill": {
     "duration": 0.035056,
     "end_time": "2024-05-19T18:15:36.427272",
     "exception": false,
     "start_time": "2024-05-19T18:15:36.392216",
     "status": "completed"
    },
    "tags": []
   },
   "outputs": [],
   "source": [
    "# We can see that the essay's length in words is more highly\n",
    "# correlated to the score than the essay length in characters."
   ]
  },
  {
   "cell_type": "code",
   "execution_count": 23,
   "id": "36825ade",
   "metadata": {
    "execution": {
     "iopub.execute_input": "2024-05-19T18:15:36.489216Z",
     "iopub.status.busy": "2024-05-19T18:15:36.488845Z",
     "iopub.status.idle": "2024-05-19T18:16:39.325285Z",
     "shell.execute_reply": "2024-05-19T18:16:39.324386Z"
    },
    "papermill": {
     "duration": 62.896119,
     "end_time": "2024-05-19T18:16:39.353185",
     "exception": false,
     "start_time": "2024-05-19T18:15:36.457066",
     "status": "completed"
    },
    "tags": []
   },
   "outputs": [
    {
     "name": "stdout",
     "output_type": "stream",
     "text": [
      "Sentiment Analysis:\n",
      "Positive essays: 11001\n",
      "Negative essays: 2842\n",
      "Neutral essays: 2\n"
     ]
    },
    {
     "data": {
      "image/png": "[encoded data removed]",
      "text/plain": [
       "<Figure size 800x600 with 1 Axes>"
      ]
     },
     "metadata": {},
     "output_type": "display_data"
    }
   ],
   "source": [
    "# Analyze Essay Sentiment (Taken from inspo notebook)\n",
    "\n",
    "# Initialize the sentiment analyzer\n",
    "sid = SentimentIntensityAnalyzer()\n",
    "\n",
    "# Analyze the sentiment of each essay\n",
    "sentiment_scores = []\n",
    "for essay in essays:\n",
    "    sentiment_scores.append(sid.polarity_scores(essay)['compound'])\n",
    "\n",
    "# Add sentiment scores to the dataframe\n",
    "train_df['sentiment_score'] = sentiment_scores\n",
    "\n",
    "# Overall sentiment analysis\n",
    "positive_count = sum(score > 0 for score in sentiment_scores)\n",
    "negative_count = sum(score < 0 for score in sentiment_scores)\n",
    "neutral_count = len(sentiment_scores) - positive_count - negative_count\n",
    "\n",
    "print(\"Sentiment Analysis:\")\n",
    "print(\"Positive essays:\", positive_count)\n",
    "print(\"Negative essays:\", negative_count)\n",
    "print(\"Neutral essays:\", neutral_count)\n",
    "\n",
    "# Data for visualization\n",
    "categories = ['Positive', 'Negative', 'Neutral']\n",
    "counts = [positive_count, negative_count, neutral_count]\n",
    "\n",
    "# Create bar plot\n",
    "plt.figure(figsize=(8, 6))\n",
    "plt.bar(categories, counts, color=['green', 'red', 'blue'])\n",
    "plt.title('Sentiment Analysis')\n",
    "plt.xlabel('Sentiment')\n",
    "plt.ylabel('Number of Essays')\n",
    "plt.show()"
   ]
  },
  {
   "cell_type": "code",
   "execution_count": 24,
   "id": "d69064f5",
   "metadata": {
    "execution": {
     "iopub.execute_input": "2024-05-19T18:16:39.407120Z",
     "iopub.status.busy": "2024-05-19T18:16:39.406779Z",
     "iopub.status.idle": "2024-05-19T18:16:39.413231Z",
     "shell.execute_reply": "2024-05-19T18:16:39.412259Z"
    },
    "papermill": {
     "duration": 0.035724,
     "end_time": "2024-05-19T18:16:39.415270",
     "exception": false,
     "start_time": "2024-05-19T18:16:39.379546",
     "status": "completed"
    },
    "tags": []
   },
   "outputs": [
    {
     "name": "stdout",
     "output_type": "stream",
     "text": [
      "Correlation between Sentiment Score and Score: 0.016222183279865403\n"
     ]
    }
   ],
   "source": [
    "# There are a lot more positive than negative essays!\n",
    "# Let's check the correlations with the scores\n",
    "\n",
    "# Correlation between sentiment score and score -> VERY LOW (Maybe do feature engineering to store\n",
    "# as a categorical var)\n",
    "corr_matrix = train_df['score'].corr(train_df['sentiment_score'])\n",
    "print(\"Correlation between Sentiment Score and Score:\", corr_matrix)\n"
   ]
  },
  {
   "cell_type": "code",
   "execution_count": 25,
   "id": "64ae4428",
   "metadata": {
    "execution": {
     "iopub.execute_input": "2024-05-19T18:16:39.469462Z",
     "iopub.status.busy": "2024-05-19T18:16:39.469159Z",
     "iopub.status.idle": "2024-05-19T18:16:39.475619Z",
     "shell.execute_reply": "2024-05-19T18:16:39.474831Z"
    },
    "papermill": {
     "duration": 0.035752,
     "end_time": "2024-05-19T18:16:39.477473",
     "exception": false,
     "start_time": "2024-05-19T18:16:39.441721",
     "status": "completed"
    },
    "tags": []
   },
   "outputs": [
    {
     "data": {
      "text/plain": [
       "\"\\nreadability_scores = []\\nfor essay in essays:\\n    # Compute Flesch-Kincaid Grade Level\\n    fkg_score = textstat.flesch_kincaid_grade(essay)\\n    \\n    # Computing Gunning Fog Index\\n    gunning_fog_score = textstat.gunning_fog(essay)\\n    \\n    # Add scores to list\\n    readability_scores.append({'Flesch-Kincaid': fkg_score, 'Gunning Fog': gunning_fog_score})\\n\\n# Creating a dataframe to store the scores\\nreadability_df = pd.DataFrame(readability_scores)\\n\\n# Create histograms for Flesch-Kincaid and Gunning Fog scores\\nplt.figure(figsize=(10, 6))\\nplt.hist(readability_df['Flesch-Kincaid'], bins=20, alpha=0.5, label='Flesch-Kincaid')\\nplt.hist(readability_df['Gunning Fog'], bins=20, alpha=0.5, label='Gunning Fog')\\nplt.title('Readability Scores Distribution')\\nplt.xlabel('Score')\\nplt.ylabel('Frequency')\\nplt.legend()\\nplt.show()\\n# Display the dataframe\\nprint(readability_df)\\n\\n\""
      ]
     },
     "execution_count": 25,
     "metadata": {},
     "output_type": "execute_result"
    }
   ],
   "source": [
    "# Analyze Readability (Taken from inspo)\n",
    "\n",
    "# Analyzing readability scores for each essay\n",
    "\"\"\"\n",
    "readability_scores = []\n",
    "for essay in essays:\n",
    "    # Compute Flesch-Kincaid Grade Level\n",
    "    fkg_score = textstat.flesch_kincaid_grade(essay)\n",
    "    \n",
    "    # Computing Gunning Fog Index\n",
    "    gunning_fog_score = textstat.gunning_fog(essay)\n",
    "    \n",
    "    # Add scores to list\n",
    "    readability_scores.append({'Flesch-Kincaid': fkg_score, 'Gunning Fog': gunning_fog_score})\n",
    "\n",
    "# Creating a dataframe to store the scores\n",
    "readability_df = pd.DataFrame(readability_scores)\n",
    "\n",
    "# Create histograms for Flesch-Kincaid and Gunning Fog scores\n",
    "plt.figure(figsize=(10, 6))\n",
    "plt.hist(readability_df['Flesch-Kincaid'], bins=20, alpha=0.5, label='Flesch-Kincaid')\n",
    "plt.hist(readability_df['Gunning Fog'], bins=20, alpha=0.5, label='Gunning Fog')\n",
    "plt.title('Readability Scores Distribution')\n",
    "plt.xlabel('Score')\n",
    "plt.ylabel('Frequency')\n",
    "plt.legend()\n",
    "plt.show()\n",
    "# Display the dataframe\n",
    "print(readability_df)\n",
    "\n",
    "\"\"\"\n"
   ]
  },
  {
   "cell_type": "code",
   "execution_count": 26,
   "id": "80f7d74e",
   "metadata": {
    "execution": {
     "iopub.execute_input": "2024-05-19T18:16:39.531664Z",
     "iopub.status.busy": "2024-05-19T18:16:39.531382Z",
     "iopub.status.idle": "2024-05-19T18:16:39.537155Z",
     "shell.execute_reply": "2024-05-19T18:16:39.536372Z"
    },
    "papermill": {
     "duration": 0.035305,
     "end_time": "2024-05-19T18:16:39.539122",
     "exception": false,
     "start_time": "2024-05-19T18:16:39.503817",
     "status": "completed"
    },
    "tags": []
   },
   "outputs": [
    {
     "data": {
      "text/plain": [
       "'\\ncorr_matrix = train_df[\\'score\\'].corr(readability_df[\\'Flesch-Kincaid\\'])\\nprint(\"Correlation between FK Readability and Score:\", corr_matrix)\\n\\ncorr_matrix = train_df[\\'score\\'].corr(readability_df[\\'Gunning Fog\\'])\\nprint(\"Correlation between GF Readability and Score:\", corr_matrix)\\n'"
      ]
     },
     "execution_count": 26,
     "metadata": {},
     "output_type": "execute_result"
    }
   ],
   "source": [
    "# The correlations are low, but, there may be hidden non-linear correlations hidden in the data.\n",
    "'''\n",
    "corr_matrix = train_df['score'].corr(readability_df['Flesch-Kincaid'])\n",
    "print(\"Correlation between FK Readability and Score:\", corr_matrix)\n",
    "\n",
    "corr_matrix = train_df['score'].corr(readability_df['Gunning Fog'])\n",
    "print(\"Correlation between GF Readability and Score:\", corr_matrix)\n",
    "'''"
   ]
  },
  {
   "cell_type": "code",
   "execution_count": 27,
   "id": "38915954",
   "metadata": {
    "execution": {
     "iopub.execute_input": "2024-05-19T18:16:39.593944Z",
     "iopub.status.busy": "2024-05-19T18:16:39.593586Z",
     "iopub.status.idle": "2024-05-19T18:16:39.599557Z",
     "shell.execute_reply": "2024-05-19T18:16:39.598728Z"
    },
    "papermill": {
     "duration": 0.035165,
     "end_time": "2024-05-19T18:16:39.601430",
     "exception": false,
     "start_time": "2024-05-19T18:16:39.566265",
     "status": "completed"
    },
    "tags": []
   },
   "outputs": [
    {
     "data": {
      "text/plain": [
       "'\\ntrain_df[\"fkg_score\"] = readability_df[\"Flesch-Kincaid\"]\\ntrain_df[\"gf_score\"] = readability_df[\"Gunning Fog\"]\\n\\ntrain_df.tail()'"
      ]
     },
     "execution_count": 27,
     "metadata": {},
     "output_type": "execute_result"
    }
   ],
   "source": [
    "# Final Train Df\n",
    "'''\n",
    "train_df[\"fkg_score\"] = readability_df[\"Flesch-Kincaid\"]\n",
    "train_df[\"gf_score\"] = readability_df[\"Gunning Fog\"]\n",
    "\n",
    "train_df.tail()'''"
   ]
  },
  {
   "cell_type": "code",
   "execution_count": 28,
   "id": "a2a4404b",
   "metadata": {
    "execution": {
     "iopub.execute_input": "2024-05-19T18:16:39.656070Z",
     "iopub.status.busy": "2024-05-19T18:16:39.655766Z",
     "iopub.status.idle": "2024-05-19T18:16:39.675106Z",
     "shell.execute_reply": "2024-05-19T18:16:39.674039Z"
    },
    "papermill": {
     "duration": 0.048888,
     "end_time": "2024-05-19T18:16:39.677096",
     "exception": false,
     "start_time": "2024-05-19T18:16:39.628208",
     "status": "completed"
    },
    "tags": []
   },
   "outputs": [
    {
     "name": "stdout",
     "output_type": "stream",
     "text": [
      "essay_id              0\n",
      "full_text             0\n",
      "score                 0\n",
      "label                 0\n",
      "char_essay_length     0\n",
      "words_essay_length    0\n",
      "sentiment_score       0\n",
      "dtype: int64\n"
     ]
    }
   ],
   "source": [
    "# Check nan_values\n",
    "nan_values_count = train_df.isnull().sum()\n",
    "print(nan_values_count)\n",
    "\n",
    "rf_df = train_df.dropna()\n"
   ]
  },
  {
   "cell_type": "markdown",
   "id": "eb9364bc",
   "metadata": {
    "papermill": {
     "duration": 0.026719,
     "end_time": "2024-05-19T18:16:39.730781",
     "exception": false,
     "start_time": "2024-05-19T18:16:39.704062",
     "status": "completed"
    },
    "tags": []
   },
   "source": [
    "# "
   ]
  },
  {
   "cell_type": "markdown",
   "id": "55a6996f",
   "metadata": {
    "papermill": {
     "duration": 0.026701,
     "end_time": "2024-05-19T18:16:39.784454",
     "exception": false,
     "start_time": "2024-05-19T18:16:39.757753",
     "status": "completed"
    },
    "tags": []
   },
   "source": []
  },
  {
   "cell_type": "code",
   "execution_count": 29,
   "id": "f92e9b1c",
   "metadata": {
    "execution": {
     "iopub.execute_input": "2024-05-19T18:16:39.839401Z",
     "iopub.status.busy": "2024-05-19T18:16:39.839073Z",
     "iopub.status.idle": "2024-05-19T18:16:39.842908Z",
     "shell.execute_reply": "2024-05-19T18:16:39.842040Z"
    },
    "papermill": {
     "duration": 0.033669,
     "end_time": "2024-05-19T18:16:39.844949",
     "exception": false,
     "start_time": "2024-05-19T18:16:39.811280",
     "status": "completed"
    },
    "tags": []
   },
   "outputs": [],
   "source": [
    "# Te"
   ]
  },
  {
   "cell_type": "markdown",
   "id": "9fae4d34",
   "metadata": {
    "papermill": {
     "duration": 0.026924,
     "end_time": "2024-05-19T18:16:39.898582",
     "exception": false,
     "start_time": "2024-05-19T18:16:39.871658",
     "status": "completed"
    },
    "tags": []
   },
   "source": [
    "# First Model of the Stack: Random Forest Classifier\n",
    "\n",
    "Now, with all the engineered features, I will create a Random Forest Classifier to then stack it with the predictions of the Keras.\n"
   ]
  },
  {
   "cell_type": "code",
   "execution_count": 30,
   "id": "43b7b13c",
   "metadata": {
    "execution": {
     "iopub.execute_input": "2024-05-19T18:16:39.953569Z",
     "iopub.status.busy": "2024-05-19T18:16:39.953283Z",
     "iopub.status.idle": "2024-05-19T18:16:39.964615Z",
     "shell.execute_reply": "2024-05-19T18:16:39.963678Z"
    },
    "papermill": {
     "duration": 0.041206,
     "end_time": "2024-05-19T18:16:39.966560",
     "exception": false,
     "start_time": "2024-05-19T18:16:39.925354",
     "status": "completed"
    },
    "tags": []
   },
   "outputs": [
    {
     "data": {
      "text/plain": [
       "\"\\ndef analyze_readability(df, text_column):\\n    # Analyzing readability scores for each essay\\n    readability_scores = []\\n    for essay in df[text_column]:\\n        # Compute Flesch-Kincaid Grade Level\\n        fkg_score = textstat.flesch_kincaid_grade(essay)\\n        \\n        # Compute Gunning Fog Index\\n        gunning_fog_score = textstat.gunning_fog(essay)\\n        \\n        # Add scores to list\\n        readability_scores.append({'Flesch-Kincaid': fkg_score, 'Gunning Fog': gunning_fog_score})\\n    \\n    # Creating a dataframe to store the scores\\n    readability_df = pd.DataFrame(readability_scores)\\n    \\n    print(readability_df)\\n    \\n    return readability_df\\n\""
      ]
     },
     "execution_count": 30,
     "metadata": {},
     "output_type": "execute_result"
    }
   ],
   "source": [
    "def calculate_essay_lengths(df, text_column):\n",
    "    df['char_essay_length'] = df[text_column].apply(len)\n",
    "    df['words_essay_length'] = df[text_column].apply(lambda x: len(x.split()))\n",
    "    return df\n",
    "\n",
    "def analyze_sentiment(df, text_column):\n",
    "    # Initialize the sentiment analyzer\n",
    "    sid = SentimentIntensityAnalyzer()\n",
    "    \n",
    "    # Analyze the sentiment of each essay\n",
    "    sentiment_scores = df[text_column].apply(lambda x: sid.polarity_scores(x)['compound'])\n",
    "    \n",
    "    # Add sentiment scores to the dataframe\n",
    "    df['sentiment_score'] = sentiment_scores\n",
    "    \n",
    "    # Overall sentiment analysis\n",
    "    positive_count = sum(sentiment_scores > 0)\n",
    "    negative_count = sum(sentiment_scores < 0)\n",
    "    neutral_count = len(sentiment_scores) - positive_count - negative_count\n",
    "    \n",
    "    print(\"Sentiment Analysis:\")\n",
    "    print(\"Positive essays:\", positive_count)\n",
    "    print(\"Negative essays:\", negative_count)\n",
    "    print(\"Neutral essays:\", neutral_count)\n",
    "    \n",
    "    # Data for visualization\n",
    "    categories = ['Positive', 'Negative', 'Neutral']\n",
    "    counts = [positive_count, negative_count, neutral_count]\n",
    "    \n",
    "    return df\n",
    "\n",
    "\n",
    "'''\n",
    "def analyze_readability(df, text_column):\n",
    "    # Analyzing readability scores for each essay\n",
    "    readability_scores = []\n",
    "    for essay in df[text_column]:\n",
    "        # Compute Flesch-Kincaid Grade Level\n",
    "        fkg_score = textstat.flesch_kincaid_grade(essay)\n",
    "        \n",
    "        # Compute Gunning Fog Index\n",
    "        gunning_fog_score = textstat.gunning_fog(essay)\n",
    "        \n",
    "        # Add scores to list\n",
    "        readability_scores.append({'Flesch-Kincaid': fkg_score, 'Gunning Fog': gunning_fog_score})\n",
    "    \n",
    "    # Creating a dataframe to store the scores\n",
    "    readability_df = pd.DataFrame(readability_scores)\n",
    "    \n",
    "    print(readability_df)\n",
    "    \n",
    "    return readability_df\n",
    "'''"
   ]
  },
  {
   "cell_type": "code",
   "execution_count": 31,
   "id": "51fb7f25",
   "metadata": {
    "execution": {
     "iopub.execute_input": "2024-05-19T18:16:40.021495Z",
     "iopub.status.busy": "2024-05-19T18:16:40.021237Z",
     "iopub.status.idle": "2024-05-19T18:16:55.858853Z",
     "shell.execute_reply": "2024-05-19T18:16:55.857667Z"
    },
    "papermill": {
     "duration": 15.867729,
     "end_time": "2024-05-19T18:16:55.861209",
     "exception": false,
     "start_time": "2024-05-19T18:16:39.993480",
     "status": "completed"
    },
    "tags": []
   },
   "outputs": [
    {
     "name": "stdout",
     "output_type": "stream",
     "text": [
      "Sentiment Analysis:\n",
      "Positive essays: 2746\n",
      "Negative essays: 716\n",
      "Neutral essays: 0\n"
     ]
    }
   ],
   "source": [
    "calculate_essay_lengths(valid_df, 'full_text')\n",
    "\n",
    "valid_essays = valid_df['full_text']\n",
    "\n",
    "analyze_sentiment(valid_df, 'full_text')\n",
    "\n",
    "'''\n",
    "valid_readability_df = analyze_readability(valid_df, 'full_text')\n",
    "valid_df[\"fkg_score\"] = valid_readability_df[\"Flesch-Kincaid\"]\n",
    "valid_df[\"gf_score\"] = valid_readability_df[\"Gunning Fog\"]\n",
    "'''\n",
    "\n",
    "valid_rf_df = valid_df.dropna()"
   ]
  },
  {
   "cell_type": "code",
   "execution_count": 32,
   "id": "101f4e0e",
   "metadata": {
    "execution": {
     "iopub.execute_input": "2024-05-19T18:16:55.920511Z",
     "iopub.status.busy": "2024-05-19T18:16:55.919809Z",
     "iopub.status.idle": "2024-05-19T18:16:55.926387Z",
     "shell.execute_reply": "2024-05-19T18:16:55.925685Z"
    },
    "papermill": {
     "duration": 0.038209,
     "end_time": "2024-05-19T18:16:55.928413",
     "exception": false,
     "start_time": "2024-05-19T18:16:55.890204",
     "status": "completed"
    },
    "tags": []
   },
   "outputs": [],
   "source": [
    "valid_rf_df = valid_df.dropna()"
   ]
  },
  {
   "cell_type": "markdown",
   "id": "6e4e4ab3",
   "metadata": {
    "papermill": {
     "duration": 0.031388,
     "end_time": "2024-05-19T18:16:55.987676",
     "exception": false,
     "start_time": "2024-05-19T18:16:55.956288",
     "status": "completed"
    },
    "tags": []
   },
   "source": []
  },
  {
   "cell_type": "markdown",
   "id": "237d9177",
   "metadata": {
    "papermill": {
     "duration": 0.028687,
     "end_time": "2024-05-19T18:16:56.049835",
     "exception": false,
     "start_time": "2024-05-19T18:16:56.021148",
     "status": "completed"
    },
    "tags": []
   },
   "source": [
    "# 🍽️ | Preprocessing\n",
    "\n",
    "**What it does:** The preprocessor takes input strings and transforms them into a dictionary (`token_ids`, `padding_mask`) containing preprocessed tensors. This process starts with tokenization, where input strings are converted into sequences of token IDs.\n",
    "\n",
    "**Why it's important:** Initially, raw text data is complex and challenging for modeling due to its high dimensionality. By converting text into a compact set of tokens, such as transforming `\"The quick brown fox\"` into `[\"the\", \"qu\", \"##ick\", \"br\", \"##own\", \"fox\"]`, we simplify the data. Many models rely on special tokens and additional tensors to understand input. These tokens help divide input and identify padding, among other tasks. Making all sequences the same length through padding boosts computational efficiency, making subsequent steps smoother.\n",
    "\n",
    "Explore the following pages to access the available preprocessing and tokenizer layers in **KerasNLP**:\n",
    "- [Preprocessing](https://keras.io/api/keras_nlp/preprocessing_layers/)\n",
    "- [Tokenizers](https://keras.io/api/keras_nlp/tokenizers/)"
   ]
  },
  {
   "cell_type": "code",
   "execution_count": 33,
   "id": "024eb0d2",
   "metadata": {
    "execution": {
     "iopub.execute_input": "2024-05-19T18:16:56.105936Z",
     "iopub.status.busy": "2024-05-19T18:16:56.105271Z",
     "iopub.status.idle": "2024-05-19T18:16:57.908917Z",
     "shell.execute_reply": "2024-05-19T18:16:57.907916Z"
    },
    "papermill": {
     "duration": 1.833999,
     "end_time": "2024-05-19T18:16:57.911284",
     "exception": false,
     "start_time": "2024-05-19T18:16:56.077285",
     "status": "completed"
    },
    "tags": []
   },
   "outputs": [
    {
     "name": "stderr",
     "output_type": "stream",
     "text": [
      "Attaching 'tokenizer.json' from model 'keras/deberta_v3/keras/deberta_v3_extra_small_en/2' to your Kaggle notebook...\n",
      "Attaching 'tokenizer.json' from model 'keras/deberta_v3/keras/deberta_v3_extra_small_en/2' to your Kaggle notebook...\n",
      "Attaching 'assets/tokenizer/vocabulary.spm' from model 'keras/deberta_v3/keras/deberta_v3_extra_small_en/2' to your Kaggle notebook...\n"
     ]
    }
   ],
   "source": [
    "preprocessor = keras_nlp.models.DebertaV3Preprocessor.from_preset(\n",
    "    preset=CFG.preset, # Name of the model\n",
    "    sequence_length=CFG.sequence_length, # Max sequence length, will be padded if shorter\n",
    ")"
   ]
  },
  {
   "cell_type": "markdown",
   "id": "8293b875",
   "metadata": {
    "papermill": {
     "duration": 0.027557,
     "end_time": "2024-05-19T18:16:57.966797",
     "exception": false,
     "start_time": "2024-05-19T18:16:57.939240",
     "status": "completed"
    },
    "tags": []
   },
   "source": [
    "Now, let's examine what the output shape of the preprocessing layer looks like. The output shape of the layer can be represented as $(num\\_choices, sequence\\_length)$."
   ]
  },
  {
   "cell_type": "code",
   "execution_count": 34,
   "id": "759d4c39",
   "metadata": {
    "execution": {
     "iopub.execute_input": "2024-05-19T18:16:58.022652Z",
     "iopub.status.busy": "2024-05-19T18:16:58.022318Z",
     "iopub.status.idle": "2024-05-19T18:16:59.178549Z",
     "shell.execute_reply": "2024-05-19T18:16:59.177469Z"
    },
    "papermill": {
     "duration": 1.186653,
     "end_time": "2024-05-19T18:16:59.180721",
     "exception": false,
     "start_time": "2024-05-19T18:16:57.994068",
     "status": "completed"
    },
    "tags": []
   },
   "outputs": [
    {
     "name": "stdout",
     "output_type": "stream",
     "text": [
      "token_ids : (512,)\n",
      "padding_mask : (512,)\n"
     ]
    }
   ],
   "source": [
    "inp = preprocessor(df.full_text.iloc[0])  # Process text for the first row\n",
    "\n",
    "# Display the shape of each processed output\n",
    "for k, v in inp.items():\n",
    "    print(k, \":\", v.shape)"
   ]
  },
  {
   "cell_type": "markdown",
   "id": "94f77734",
   "metadata": {
    "papermill": {
     "duration": 0.027361,
     "end_time": "2024-05-19T18:16:59.236437",
     "exception": false,
     "start_time": "2024-05-19T18:16:59.209076",
     "status": "completed"
    },
    "tags": []
   },
   "source": [
    "We'll use the `preprocessing_fn` function to transform each text option using the `dataset.map(preprocessing_fn)` method."
   ]
  },
  {
   "cell_type": "code",
   "execution_count": 35,
   "id": "1d1fb121",
   "metadata": {
    "execution": {
     "iopub.execute_input": "2024-05-19T18:16:59.293679Z",
     "iopub.status.busy": "2024-05-19T18:16:59.293351Z",
     "iopub.status.idle": "2024-05-19T18:16:59.297909Z",
     "shell.execute_reply": "2024-05-19T18:16:59.297070Z"
    },
    "papermill": {
     "duration": 0.036299,
     "end_time": "2024-05-19T18:16:59.299847",
     "exception": false,
     "start_time": "2024-05-19T18:16:59.263548",
     "status": "completed"
    },
    "tags": []
   },
   "outputs": [],
   "source": [
    "def preprocess_fn(text, label=None):\n",
    "    text = preprocessor(text)  # Preprocess text\n",
    "    return (text, label) if label is not None else text  # Return processed text and label if available"
   ]
  },
  {
   "cell_type": "markdown",
   "id": "46925892",
   "metadata": {
    "papermill": {
     "duration": 0.027102,
     "end_time": "2024-05-19T18:16:59.354213",
     "exception": false,
     "start_time": "2024-05-19T18:16:59.327111",
     "status": "completed"
    },
    "tags": []
   },
   "source": [
    "# 🍚 | DataLoader\n",
    "\n",
    "The code below sets up a robust data flow pipeline using `tf.data.Dataset` for data processing. Notable aspects of `tf.data` include its ability to simplify pipeline construction and represent components in sequences.\n",
    "\n",
    "To learn more about `tf.data`, refer to this [documentation](https://www.tensorflow.org/guide/data)."
   ]
  },
  {
   "cell_type": "code",
   "execution_count": 36,
   "id": "63b55fca",
   "metadata": {
    "_kg_hide-input": true,
    "execution": {
     "iopub.execute_input": "2024-05-19T18:16:59.409940Z",
     "iopub.status.busy": "2024-05-19T18:16:59.409638Z",
     "iopub.status.idle": "2024-05-19T18:16:59.416816Z",
     "shell.execute_reply": "2024-05-19T18:16:59.415950Z"
    },
    "papermill": {
     "duration": 0.037362,
     "end_time": "2024-05-19T18:16:59.418780",
     "exception": false,
     "start_time": "2024-05-19T18:16:59.381418",
     "status": "completed"
    },
    "tags": []
   },
   "outputs": [],
   "source": [
    "def build_dataset(texts, labels=None, batch_size=32,\n",
    "                  cache=True, drop_remainder=True,\n",
    "                  shuffle=1024):\n",
    "    AUTO = tf.data.AUTOTUNE  # AUTOTUNE option\n",
    "    slices = (texts,) if labels is None else (texts, labels)  # Create slices\n",
    "    ds = tf.data.Dataset.from_tensor_slices(slices)  # Create dataset from slices\n",
    "    ds = ds.cache() if cache else ds  # Cache dataset if enabled\n",
    "    ds = ds.map(preprocess_fn, num_parallel_calls=AUTO)  # Map preprocessing function\n",
    "    opt = tf.data.Options()  # Create dataset options\n",
    "    if shuffle: \n",
    "        ds = ds.shuffle(shuffle, seed=CFG.seed)  # Shuffle dataset if enabled\n",
    "        opt.experimental_deterministic = False\n",
    "    ds = ds.with_options(opt)  # Set dataset options\n",
    "    ds = ds.batch(batch_size, drop_remainder=drop_remainder)  # Batch dataset\n",
    "    ds = ds.prefetch(AUTO)  # Prefetch next batch\n",
    "    return ds"
   ]
  },
  {
   "cell_type": "markdown",
   "id": "0632ea44",
   "metadata": {
    "papermill": {
     "duration": 0.02735,
     "end_time": "2024-05-19T18:16:59.473552",
     "exception": false,
     "start_time": "2024-05-19T18:16:59.446202",
     "status": "completed"
    },
    "tags": []
   },
   "source": [
    "## Build Train/Valid Dataset\n",
    "\n",
    "The function below generates the training and validation datasets."
   ]
  },
  {
   "cell_type": "code",
   "execution_count": 37,
   "id": "86657c8c",
   "metadata": {
    "_kg_hide-input": false,
    "execution": {
     "iopub.execute_input": "2024-05-19T18:16:59.529365Z",
     "iopub.status.busy": "2024-05-19T18:16:59.529050Z",
     "iopub.status.idle": "2024-05-19T18:17:02.646774Z",
     "shell.execute_reply": "2024-05-19T18:17:02.645984Z"
    },
    "papermill": {
     "duration": 3.1485,
     "end_time": "2024-05-19T18:17:02.649237",
     "exception": false,
     "start_time": "2024-05-19T18:16:59.500737",
     "status": "completed"
    },
    "tags": []
   },
   "outputs": [],
   "source": [
    "# Train Data\n",
    "train_texts = train_df.full_text.tolist()  # Extract training texts\n",
    "train_labels = np.array(train_df.label.tolist())  # Extract training labels\n",
    "\n",
    "# Build training dataset\n",
    "train_ds = build_dataset(\n",
    "    train_texts, train_labels, batch_size=CFG.batch_size, shuffle=True\n",
    ")\n",
    "\n",
    "# Valid Data\n",
    "valid_texts = valid_df.full_text.tolist()  # Extract validation texts\n",
    "valid_labels = np.array(valid_df.label.tolist())  # Extract validation labels\n",
    "\n",
    "# Build validation dataset\n",
    "valid_ds = build_dataset(\n",
    "    valid_texts, valid_labels, batch_size=CFG.batch_size, shuffle=False\n",
    ")\n"
   ]
  },
  {
   "cell_type": "markdown",
   "id": "68c0818e",
   "metadata": {
    "papermill": {
     "duration": 0.027104,
     "end_time": "2024-05-19T18:17:02.704359",
     "exception": false,
     "start_time": "2024-05-19T18:17:02.677255",
     "status": "completed"
    },
    "tags": []
   },
   "source": [
    "# ⚓ | LR Schedule\n",
    "\n",
    "Implementing a learning rate scheduler is crucial for transfer learning. The learning rate initiates at `lr_start` and gradually tapers down to `lr_min` using various techniques, including:\n",
    "- `step`: Lowering the learning rate in step-wise manner resembling stairs.\n",
    "- `cos`: Utilizing a cosine curve to gradually reduce the learning rate.\n",
    "- `exp`: Exponentially decreasing the learning rate.\n",
    "\n",
    "**Importance:** A well-structured learning rate schedule is essential for efficient model training, ensuring optimal convergence and avoiding issues such as overshooting or stagnation."
   ]
  },
  {
   "cell_type": "code",
   "execution_count": 38,
   "id": "14d41da4",
   "metadata": {
    "_kg_hide-input": true,
    "execution": {
     "iopub.execute_input": "2024-05-19T18:17:02.760692Z",
     "iopub.status.busy": "2024-05-19T18:17:02.760058Z",
     "iopub.status.idle": "2024-05-19T18:17:02.769900Z",
     "shell.execute_reply": "2024-05-19T18:17:02.769041Z"
    },
    "papermill": {
     "duration": 0.040075,
     "end_time": "2024-05-19T18:17:02.771832",
     "exception": false,
     "start_time": "2024-05-19T18:17:02.731757",
     "status": "completed"
    },
    "tags": []
   },
   "outputs": [],
   "source": [
    "import math\n",
    "\n",
    "def get_lr_callback(batch_size=8, mode='cos', epochs=10, plot=False):\n",
    "    lr_start, lr_max, lr_min = 0.6e-5, 0.3e-5 * batch_size, 0.3e-5\n",
    "    lr_ramp_ep, lr_sus_ep, lr_decay = 2, 0, 0.75\n",
    "\n",
    "    def lrfn(epoch):  # Learning rate update function\n",
    "        if epoch < lr_ramp_ep: lr = (lr_max - lr_start) / lr_ramp_ep * epoch + lr_start\n",
    "        elif epoch < lr_ramp_ep + lr_sus_ep: lr = lr_max\n",
    "        elif mode == 'exp': lr = (lr_max - lr_min) * lr_decay**(epoch - lr_ramp_ep - lr_sus_ep) + lr_min\n",
    "        elif mode == 'step': lr = lr_max * lr_decay**((epoch - lr_ramp_ep - lr_sus_ep) // 2)\n",
    "        elif mode == 'cos':\n",
    "            decay_total_epochs, decay_epoch_index = epochs - lr_ramp_ep - lr_sus_ep + 3, epoch - lr_ramp_ep - lr_sus_ep\n",
    "            phase = math.pi * decay_epoch_index / decay_total_epochs\n",
    "            lr = (lr_max - lr_min) * 0.5 * (1 + math.cos(phase)) + lr_min\n",
    "        return lr\n",
    "\n",
    "    if plot:  # Plot lr curve if plot is True\n",
    "        plt.figure(figsize=(10, 5))\n",
    "        plt.plot(np.arange(epochs), [lrfn(epoch) for epoch in np.arange(epochs)], marker='o')\n",
    "        plt.xlabel('epoch'); plt.ylabel('lr')\n",
    "        plt.title('LR Scheduler')\n",
    "        plt.show()\n",
    "\n",
    "    return keras.callbacks.LearningRateScheduler(lrfn, verbose=False)  # Create lr callback"
   ]
  },
  {
   "cell_type": "code",
   "execution_count": 39,
   "id": "58f4e4cc",
   "metadata": {
    "execution": {
     "iopub.execute_input": "2024-05-19T18:17:02.828414Z",
     "iopub.status.busy": "2024-05-19T18:17:02.827729Z",
     "iopub.status.idle": "2024-05-19T18:17:03.082044Z",
     "shell.execute_reply": "2024-05-19T18:17:03.081207Z"
    },
    "papermill": {
     "duration": 0.284459,
     "end_time": "2024-05-19T18:17:03.084092",
     "exception": false,
     "start_time": "2024-05-19T18:17:02.799633",
     "status": "completed"
    },
    "tags": []
   },
   "outputs": [
    {
     "data": {
      "image/png": "[encoded data removed]",
      "text/plain": [
       "<Figure size 1000x500 with 1 Axes>"
      ]
     },
     "metadata": {},
     "output_type": "display_data"
    }
   ],
   "source": [
    "lr_cb = get_lr_callback(CFG.batch_size, plot=True)"
   ]
  },
  {
   "cell_type": "markdown",
   "id": "987e8224",
   "metadata": {
    "papermill": {
     "duration": 0.027583,
     "end_time": "2024-05-19T18:17:03.140074",
     "exception": false,
     "start_time": "2024-05-19T18:17:03.112491",
     "status": "completed"
    },
    "tags": []
   },
   "source": [
    "# 💾 | Model Checkpointing\n",
    "\n",
    "The following code will create a callback that will save the best checkpoint of the model during training, which we will use for inference in the submission."
   ]
  },
  {
   "cell_type": "code",
   "execution_count": 40,
   "id": "03867694",
   "metadata": {
    "execution": {
     "iopub.execute_input": "2024-05-19T18:17:03.196896Z",
     "iopub.status.busy": "2024-05-19T18:17:03.196581Z",
     "iopub.status.idle": "2024-05-19T18:17:03.200993Z",
     "shell.execute_reply": "2024-05-19T18:17:03.200213Z"
    },
    "papermill": {
     "duration": 0.035099,
     "end_time": "2024-05-19T18:17:03.202822",
     "exception": false,
     "start_time": "2024-05-19T18:17:03.167723",
     "status": "completed"
    },
    "tags": []
   },
   "outputs": [],
   "source": [
    "ckpt_cb = keras.callbacks.ModelCheckpoint(\n",
    "    \"best_model.weights.h5\",\n",
    "    monitor=\"val_weighted_kappa\",\n",
    "    save_best_only=True,\n",
    "    save_weights_only=True,\n",
    "    mode=\"max\",\n",
    ")\n"
   ]
  },
  {
   "cell_type": "markdown",
   "id": "e75c643f",
   "metadata": {
    "papermill": {
     "duration": 0.027438,
     "end_time": "2024-05-19T18:17:03.258054",
     "exception": false,
     "start_time": "2024-05-19T18:17:03.230616",
     "status": "completed"
    },
    "tags": []
   },
   "source": [
    "# 📏 | Metric\n",
    "\n",
    "The metric for this competition is quadratic **Weighted Kappa**. This metric is particularly useful for tasks involving ordinal classification (where labels have inherent order). The following code implements this metric from scratch. This metric is implemented taking inspiration from [this TensorFlow implementation](https://www.tensorflow.org/addons/api_docs/python/tfa/losses/WeightedKappaLoss). You can learn more about this metric [here](https://www.sciencedirect.com/science/article/abs/pii/S0167865517301666). \n",
    "\n",
    "> This metric implementation is a bit different than the competition metric, which was resolved by @taichiuemura in [here](https://www.kaggle.com/code/taichiuemura/aes-2-0-kerasnlp-starter/#%F0%9F%93%8F-%7C-Metric)."
   ]
  },
  {
   "cell_type": "code",
   "execution_count": 41,
   "id": "b7fafb8c",
   "metadata": {
    "execution": {
     "iopub.execute_input": "2024-05-19T18:17:03.316584Z",
     "iopub.status.busy": "2024-05-19T18:17:03.316271Z",
     "iopub.status.idle": "2024-05-19T18:17:03.334261Z",
     "shell.execute_reply": "2024-05-19T18:17:03.333390Z"
    },
    "papermill": {
     "duration": 0.050431,
     "end_time": "2024-05-19T18:17:03.336072",
     "exception": false,
     "start_time": "2024-05-19T18:17:03.285641",
     "status": "completed"
    },
    "tags": []
   },
   "outputs": [],
   "source": [
    "class WeightedKappa(keras.metrics.Metric):\n",
    "    def __init__(self, num_classes=6, epsilon=1e-6):\n",
    "        super().__init__(name=\"weighted_kappa\")\n",
    "        self.num_classes = num_classes\n",
    "        self.epsilon = epsilon\n",
    "\n",
    "        label_vec = keras.ops.arange(num_classes, dtype=keras.backend.floatx())\n",
    "        self.row_label_vec = keras.ops.reshape(label_vec, [1, num_classes])\n",
    "        self.col_label_vec = keras.ops.reshape(label_vec, [num_classes, 1])\n",
    "        col_mat = keras.ops.tile(self.col_label_vec, [1, num_classes])\n",
    "        row_mat = keras.ops.tile(self.row_label_vec, [num_classes, 1])\n",
    "        self.weight_mat = (col_mat - row_mat) ** 2\n",
    "\n",
    "        self.numerator = self.add_weight(name=\"numerator\", initializer=\"zeros\")\n",
    "        self.denominator = self.add_weight(name=\"denominator\", initializer=\"zeros\")\n",
    "        self.o_sum = self.add_weight(name = 'o_sum', initializer = 'zeros')\n",
    "        self.e_sum = self.add_weight(name = 'e_sum', initializer = 'zeros')\n",
    "\n",
    "    def update_state(self, y_true, y_pred, **args):\n",
    "        # revert ordinal regression labels to classification labels\n",
    "        y_true = keras.ops.one_hot(keras.ops.sum(y_true, axis=-1) - 1, 6)\n",
    "        y_pred = keras.ops.one_hot(\n",
    "            keras.ops.sum(keras.ops.cast(y_pred > 0.5, dtype=\"int8\"), axis=-1) - 1, 6\n",
    "        )\n",
    "        # weighted kappa calculation\n",
    "        y_true = keras.ops.cast(y_true, dtype=self.col_label_vec.dtype)\n",
    "        y_pred = keras.ops.cast(y_pred, dtype=self.weight_mat.dtype)\n",
    "        batch_size = keras.ops.shape(y_true)[0]\n",
    "\n",
    "        cat_labels = keras.ops.matmul(y_true, self.col_label_vec)\n",
    "        cat_label_mat = keras.ops.tile(cat_labels, [1, self.num_classes])\n",
    "        row_label_mat = keras.ops.tile(self.row_label_vec, [batch_size, 1])\n",
    "\n",
    "        weight = (cat_label_mat - row_label_mat) ** 2\n",
    "\n",
    "        self.numerator.assign_add(keras.ops.sum(weight * y_pred))\n",
    "        label_dist = keras.ops.sum(y_true, axis=0, keepdims=True)\n",
    "        pred_dist = keras.ops.sum(y_pred, axis=0, keepdims=True)\n",
    "        w_pred_dist = keras.ops.matmul(\n",
    "            self.weight_mat, keras.ops.transpose(pred_dist, [1, 0])\n",
    "        )\n",
    "        self.denominator.assign_add(\n",
    "            keras.ops.sum(keras.ops.matmul(label_dist, w_pred_dist))\n",
    "        )\n",
    "        \n",
    "        self.o_sum.assign_add(keras.ops.sum(y_pred))\n",
    "        self.e_sum.assign_add(keras.ops.sum(\n",
    "            keras.ops.matmul(keras.ops.transpose(label_dist, [1, 0]), pred_dist)\n",
    "        ))\n",
    "\n",
    "    def result(self):\n",
    "        return 1.0 - (\n",
    "            keras.ops.divide_no_nan(self.numerator, self.denominator)\n",
    "            * keras.ops.divide_no_nan(self.e_sum, self.o_sum)\n",
    "        )\n",
    "\n",
    "    def reset_state(self):\n",
    "        self.numerator.assign(0)\n",
    "        self.denominator.assign(0)\n",
    "        self.o_sum.assign(0)\n",
    "        self.e_sum.assign(0)\n"
   ]
  },
  {
   "cell_type": "markdown",
   "id": "edfb2f56",
   "metadata": {
    "papermill": {
     "duration": 0.027697,
     "end_time": "2024-05-19T18:17:03.391592",
     "exception": false,
     "start_time": "2024-05-19T18:17:03.363895",
     "status": "completed"
    },
    "tags": []
   },
   "source": [
    "# 🤖 | Modeling\n",
    "\n"
   ]
  },
  {
   "cell_type": "markdown",
   "id": "089c6b01",
   "metadata": {
    "papermill": {
     "duration": 0.027488,
     "end_time": "2024-05-19T18:17:03.446862",
     "exception": false,
     "start_time": "2024-05-19T18:17:03.419374",
     "status": "completed"
    },
    "tags": []
   },
   "source": [
    "## KerasNLP Classifier\n",
    "\n",
    "The `KerasNLP` library provides comprehensive, ready-to-use implementations of popular NLP model architectures. It features a variety of pre-trained models including `Bert`, `Roberta`, `DebertaV3`, and more. In this notebook, we'll showcase the usage of `DebertaV3`. However, feel free to explore all available models in the [KerasNLP documentation](https://keras.io/api/keras_nlp/models/). Also, for a deeper understanding of `KerasNLP`, refer to the informative [getting started guide](https://keras.io/guides/keras_nlp/getting_started/).\n",
    "\n",
    "Our approach involves using `keras_nlp.models.DebertaV3Classifier` to process each text and generate logits. These logits are passed through a `sigmoid` function to produce the final output.\n",
    "\n",
    "> Note that we are tackling this problem as an **ordinal regression** problem, thus we have used `sigmoid` activation, but we can also consider this problem as a classification problem; then, we would've used `num_classes=6`, `softmax` activation, and `categorical_crossentropy` loss. We could even consider this as a **regression** problem with `num_classes=1`, `no activation` layer, and regression losses like MSE, MAE, etc. You are welcome to experiment with the typical classification and regression methods."
   ]
  },
  {
   "cell_type": "code",
   "execution_count": 42,
   "id": "70039109",
   "metadata": {
    "execution": {
     "iopub.execute_input": "2024-05-19T18:17:03.504058Z",
     "iopub.status.busy": "2024-05-19T18:17:03.503733Z",
     "iopub.status.idle": "2024-05-19T18:17:12.579262Z",
     "shell.execute_reply": "2024-05-19T18:17:12.578336Z"
    },
    "papermill": {
     "duration": 9.106341,
     "end_time": "2024-05-19T18:17:12.581178",
     "exception": false,
     "start_time": "2024-05-19T18:17:03.474837",
     "status": "completed"
    },
    "tags": []
   },
   "outputs": [
    {
     "name": "stderr",
     "output_type": "stream",
     "text": [
      "Attaching 'config.json' from model 'keras/deberta_v3/keras/deberta_v3_extra_small_en/2' to your Kaggle notebook...\n",
      "Attaching 'config.json' from model 'keras/deberta_v3/keras/deberta_v3_extra_small_en/2' to your Kaggle notebook...\n",
      "Attaching 'model.weights.h5' from model 'keras/deberta_v3/keras/deberta_v3_extra_small_en/2' to your Kaggle notebook...\n"
     ]
    },
    {
     "data": {
      "text/html": [
       "<pre style=\"white-space:pre;overflow-x:auto;line-height:normal;font-family:Menlo,'DejaVu Sans Mono',consolas,'Courier New',monospace\"><span style=\"font-weight: bold\">Model: \"functional_1\"</span>\n",
       "</pre>\n"
      ],
      "text/plain": [
       "\u001b[1mModel: \"functional_1\"\u001b[0m\n"
      ]
     },
     "metadata": {},
     "output_type": "display_data"
    },
    {
     "data": {
      "text/html": [
       "<pre style=\"white-space:pre;overflow-x:auto;line-height:normal;font-family:Menlo,'DejaVu Sans Mono',consolas,'Courier New',monospace\">┏━━━━━━━━━━━━━━━━━━━━━┳━━━━━━━━━━━━━━━━━━━┳━━━━━━━━━━━━┳━━━━━━━━━━━━━━━━━━━┓\n",
       "┃<span style=\"font-weight: bold\"> Layer (type)        </span>┃<span style=\"font-weight: bold\"> Output Shape      </span>┃<span style=\"font-weight: bold\">    Param # </span>┃<span style=\"font-weight: bold\"> Connected to      </span>┃\n",
       "┡━━━━━━━━━━━━━━━━━━━━━╇━━━━━━━━━━━━━━━━━━━╇━━━━━━━━━━━━╇━━━━━━━━━━━━━━━━━━━┩\n",
       "│ padding_mask        │ (<span style=\"color: #00d7ff; text-decoration-color: #00d7ff\">None</span>, <span style=\"color: #00d7ff; text-decoration-color: #00d7ff\">None</span>)      │          <span style=\"color: #00af00; text-decoration-color: #00af00\">0</span> │ -                 │\n",
       "│ (<span style=\"color: #0087ff; text-decoration-color: #0087ff\">InputLayer</span>)        │                   │            │                   │\n",
       "├─────────────────────┼───────────────────┼────────────┼───────────────────┤\n",
       "│ token_ids           │ (<span style=\"color: #00d7ff; text-decoration-color: #00d7ff\">None</span>, <span style=\"color: #00d7ff; text-decoration-color: #00d7ff\">None</span>)      │          <span style=\"color: #00af00; text-decoration-color: #00af00\">0</span> │ -                 │\n",
       "│ (<span style=\"color: #0087ff; text-decoration-color: #0087ff\">InputLayer</span>)        │                   │            │                   │\n",
       "├─────────────────────┼───────────────────┼────────────┼───────────────────┤\n",
       "│ deberta_v3_classif… │ (<span style=\"color: #00d7ff; text-decoration-color: #00d7ff\">None</span>, <span style=\"color: #00af00; text-decoration-color: #00af00\">6</span>)         │ <span style=\"color: #00af00; text-decoration-color: #00af00\">70,832,262</span> │ padding_mask[<span style=\"color: #00af00; text-decoration-color: #00af00\">0</span>][<span style=\"color: #00af00; text-decoration-color: #00af00\">…</span> │\n",
       "│ (<span style=\"color: #0087ff; text-decoration-color: #0087ff\">DebertaV3Classifi…</span> │                   │            │ token_ids[<span style=\"color: #00af00; text-decoration-color: #00af00\">0</span>][<span style=\"color: #00af00; text-decoration-color: #00af00\">0</span>]   │\n",
       "├─────────────────────┼───────────────────┼────────────┼───────────────────┤\n",
       "│ activation          │ (<span style=\"color: #00d7ff; text-decoration-color: #00d7ff\">None</span>, <span style=\"color: #00af00; text-decoration-color: #00af00\">6</span>)         │          <span style=\"color: #00af00; text-decoration-color: #00af00\">0</span> │ deberta_v3_class… │\n",
       "│ (<span style=\"color: #0087ff; text-decoration-color: #0087ff\">Activation</span>)        │                   │            │                   │\n",
       "└─────────────────────┴───────────────────┴────────────┴───────────────────┘\n",
       "</pre>\n"
      ],
      "text/plain": [
       "┏━━━━━━━━━━━━━━━━━━━━━┳━━━━━━━━━━━━━━━━━━━┳━━━━━━━━━━━━┳━━━━━━━━━━━━━━━━━━━┓\n",
       "┃\u001b[1m \u001b[0m\u001b[1mLayer (type)       \u001b[0m\u001b[1m \u001b[0m┃\u001b[1m \u001b[0m\u001b[1mOutput Shape     \u001b[0m\u001b[1m \u001b[0m┃\u001b[1m \u001b[0m\u001b[1m   Param #\u001b[0m\u001b[1m \u001b[0m┃\u001b[1m \u001b[0m\u001b[1mConnected to     \u001b[0m\u001b[1m \u001b[0m┃\n",
       "┡━━━━━━━━━━━━━━━━━━━━━╇━━━━━━━━━━━━━━━━━━━╇━━━━━━━━━━━━╇━━━━━━━━━━━━━━━━━━━┩\n",
       "│ padding_mask        │ (\u001b[38;5;45mNone\u001b[0m, \u001b[38;5;45mNone\u001b[0m)      │          \u001b[38;5;34m0\u001b[0m │ -                 │\n",
       "│ (\u001b[38;5;33mInputLayer\u001b[0m)        │                   │            │                   │\n",
       "├─────────────────────┼───────────────────┼────────────┼───────────────────┤\n",
       "│ token_ids           │ (\u001b[38;5;45mNone\u001b[0m, \u001b[38;5;45mNone\u001b[0m)      │          \u001b[38;5;34m0\u001b[0m │ -                 │\n",
       "│ (\u001b[38;5;33mInputLayer\u001b[0m)        │                   │            │                   │\n",
       "├─────────────────────┼───────────────────┼────────────┼───────────────────┤\n",
       "│ deberta_v3_classif… │ (\u001b[38;5;45mNone\u001b[0m, \u001b[38;5;34m6\u001b[0m)         │ \u001b[38;5;34m70,832,262\u001b[0m │ padding_mask[\u001b[38;5;34m0\u001b[0m][\u001b[38;5;34m…\u001b[0m │\n",
       "│ (\u001b[38;5;33mDebertaV3Classifi…\u001b[0m │                   │            │ token_ids[\u001b[38;5;34m0\u001b[0m][\u001b[38;5;34m0\u001b[0m]   │\n",
       "├─────────────────────┼───────────────────┼────────────┼───────────────────┤\n",
       "│ activation          │ (\u001b[38;5;45mNone\u001b[0m, \u001b[38;5;34m6\u001b[0m)         │          \u001b[38;5;34m0\u001b[0m │ deberta_v3_class… │\n",
       "│ (\u001b[38;5;33mActivation\u001b[0m)        │                   │            │                   │\n",
       "└─────────────────────┴───────────────────┴────────────┴───────────────────┘\n"
      ]
     },
     "metadata": {},
     "output_type": "display_data"
    },
    {
     "data": {
      "text/html": [
       "<pre style=\"white-space:pre;overflow-x:auto;line-height:normal;font-family:Menlo,'DejaVu Sans Mono',consolas,'Courier New',monospace\"><span style=\"font-weight: bold\"> Total params: </span><span style=\"color: #00af00; text-decoration-color: #00af00\">70,832,262</span> (270.20 MB)\n",
       "</pre>\n"
      ],
      "text/plain": [
       "\u001b[1m Total params: \u001b[0m\u001b[38;5;34m70,832,262\u001b[0m (270.20 MB)\n"
      ]
     },
     "metadata": {},
     "output_type": "display_data"
    },
    {
     "data": {
      "text/html": [
       "<pre style=\"white-space:pre;overflow-x:auto;line-height:normal;font-family:Menlo,'DejaVu Sans Mono',consolas,'Courier New',monospace\"><span style=\"font-weight: bold\"> Trainable params: </span><span style=\"color: #00af00; text-decoration-color: #00af00\">70,832,262</span> (270.20 MB)\n",
       "</pre>\n"
      ],
      "text/plain": [
       "\u001b[1m Trainable params: \u001b[0m\u001b[38;5;34m70,832,262\u001b[0m (270.20 MB)\n"
      ]
     },
     "metadata": {},
     "output_type": "display_data"
    },
    {
     "data": {
      "text/html": [
       "<pre style=\"white-space:pre;overflow-x:auto;line-height:normal;font-family:Menlo,'DejaVu Sans Mono',consolas,'Courier New',monospace\"><span style=\"font-weight: bold\"> Non-trainable params: </span><span style=\"color: #00af00; text-decoration-color: #00af00\">0</span> (0.00 B)\n",
       "</pre>\n"
      ],
      "text/plain": [
       "\u001b[1m Non-trainable params: \u001b[0m\u001b[38;5;34m0\u001b[0m (0.00 B)\n"
      ]
     },
     "metadata": {},
     "output_type": "display_data"
    }
   ],
   "source": [
    "# Create a DebertaV3Classifier model\n",
    "classifier = keras_nlp.models.DebertaV3Classifier.from_preset(\n",
    "    CFG.preset, preprocessor=None, num_classes=6\n",
    ")\n",
    "inputs = classifier.input\n",
    "logits = classifier(inputs)\n",
    "\n",
    "# Compute final output\n",
    "outputs = keras.layers.Activation(\"sigmoid\")(logits)\n",
    "\n",
    "# Build Model\n",
    "model = keras.Model(inputs, outputs)\n",
    "\n",
    "# Compile the model with optimizer, loss, and metrics\n",
    "model.compile(\n",
    "    optimizer=keras.optimizers.Adam(5e-6),\n",
    "    loss=keras.losses.BinaryCrossentropy(),\n",
    "    metrics=[\n",
    "        WeightedKappa()\n",
    "    ],\n",
    ")\n",
    "model.summary()\n"
   ]
  },
  {
   "cell_type": "markdown",
   "id": "ea33bf6a",
   "metadata": {
    "papermill": {
     "duration": 0.029557,
     "end_time": "2024-05-19T18:17:12.640685",
     "exception": false,
     "start_time": "2024-05-19T18:17:12.611128",
     "status": "completed"
    },
    "tags": []
   },
   "source": [
    "# 🚂 | Training\n",
    "\n",
    "Following code will train the model on the training dataset and evaluate on the validation dataset."
   ]
  },
  {
   "cell_type": "code",
   "execution_count": 43,
   "id": "86f1c2ea",
   "metadata": {
    "_kg_hide-input": true,
    "execution": {
     "iopub.execute_input": "2024-05-19T18:17:12.700122Z",
     "iopub.status.busy": "2024-05-19T18:17:12.699778Z",
     "iopub.status.idle": "2024-05-19T18:52:57.857408Z",
     "shell.execute_reply": "2024-05-19T18:52:57.856430Z"
    },
    "papermill": {
     "duration": 2145.394688,
     "end_time": "2024-05-19T18:52:58.064491",
     "exception": false,
     "start_time": "2024-05-19T18:17:12.669803",
     "status": "completed"
    },
    "tags": []
   },
   "outputs": [
    {
     "name": "stdout",
     "output_type": "stream",
     "text": [
      "Epoch 1/5\n",
      "\u001b[1m432/432\u001b[0m \u001b[32m━━━━━━━━━━━━━━━━━━━━\u001b[0m\u001b[37m\u001b[0m \u001b[1m464s\u001b[0m 1000ms/step - loss: 0.4975 - weighted_kappa: 0.1241 - val_loss: 0.2140 - val_weighted_kappa: 0.6515 - learning_rate: 6.0000e-06\n",
      "Epoch 2/5\n",
      "\u001b[1m432/432\u001b[0m \u001b[32m━━━━━━━━━━━━━━━━━━━━\u001b[0m\u001b[37m\u001b[0m \u001b[1m428s\u001b[0m 991ms/step - loss: 0.1963 - weighted_kappa: 0.6853 - val_loss: 0.1680 - val_weighted_kappa: 0.7518 - learning_rate: 5.1000e-05\n",
      "Epoch 3/5\n",
      "\u001b[1m432/432\u001b[0m \u001b[32m━━━━━━━━━━━━━━━━━━━━\u001b[0m\u001b[37m\u001b[0m \u001b[1m424s\u001b[0m 981ms/step - loss: 0.1647 - weighted_kappa: 0.7419 - val_loss: 0.1695 - val_weighted_kappa: 0.7660 - learning_rate: 9.6000e-05\n",
      "Epoch 4/5\n",
      "\u001b[1m432/432\u001b[0m \u001b[32m━━━━━━━━━━━━━━━━━━━━\u001b[0m\u001b[37m\u001b[0m \u001b[1m415s\u001b[0m 959ms/step - loss: 0.1451 - weighted_kappa: 0.7896 - val_loss: 0.1720 - val_weighted_kappa: 0.7441 - learning_rate: 9.4116e-05\n",
      "Epoch 5/5\n",
      "\u001b[1m432/432\u001b[0m \u001b[32m━━━━━━━━━━━━━━━━━━━━\u001b[0m\u001b[37m\u001b[0m \u001b[1m413s\u001b[0m 955ms/step - loss: 0.1245 - weighted_kappa: 0.8249 - val_loss: 0.1624 - val_weighted_kappa: 0.7556 - learning_rate: 8.8618e-05\n"
     ]
    }
   ],
   "source": [
    "# Start training the model\n",
    "history = model.fit(\n",
    "    train_ds,\n",
    "    epochs=CFG.epochs,\n",
    "    validation_data=valid_ds,\n",
    "    callbacks=[lr_cb, ckpt_cb]\n",
    ")"
   ]
  },
  {
   "cell_type": "markdown",
   "id": "06978072",
   "metadata": {
    "papermill": {
     "duration": 0.204428,
     "end_time": "2024-05-19T18:52:58.472498",
     "exception": false,
     "start_time": "2024-05-19T18:52:58.268070",
     "status": "completed"
    },
    "tags": []
   },
   "source": [
    "## Result Summary"
   ]
  },
  {
   "cell_type": "code",
   "execution_count": 44,
   "id": "410ab91a",
   "metadata": {
    "_kg_hide-input": true,
    "execution": {
     "iopub.execute_input": "2024-05-19T18:52:58.886619Z",
     "iopub.status.busy": "2024-05-19T18:52:58.885871Z",
     "iopub.status.idle": "2024-05-19T18:52:58.891989Z",
     "shell.execute_reply": "2024-05-19T18:52:58.891212Z"
    },
    "papermill": {
     "duration": 0.216026,
     "end_time": "2024-05-19T18:52:58.894590",
     "exception": false,
     "start_time": "2024-05-19T18:52:58.678564",
     "status": "completed"
    },
    "tags": []
   },
   "outputs": [
    {
     "name": "stdout",
     "output_type": "stream",
     "text": [
      "\n",
      "================= RESULTS =================\n",
      ">>>> BEST Loss  : 0.170\n",
      ">>>> BEST Score : 0.766\n",
      ">>>> BEST Epoch : 2\n",
      "==================================================\n"
     ]
    }
   ],
   "source": [
    "# Find the epoch with the best validation accuracy\n",
    "best_epoch = np.argmax(model.history.history['val_weighted_kappa'])\n",
    "best_score = model.history.history['val_weighted_kappa'][best_epoch]\n",
    "best_loss = model.history.history['val_loss'][best_epoch]\n",
    "\n",
    "# Print and display best results\n",
    "print(f'\\n{\"=\" * 17} RESULTS {\"=\" * 17}')\n",
    "print(f'>>>> BEST Loss  : {best_loss:.3f}\\n>>>> BEST Score : {best_score:.3f}\\n>>>> BEST Epoch : {best_epoch}')\n",
    "print('=' * 50)"
   ]
  },
  {
   "cell_type": "markdown",
   "id": "472511a6",
   "metadata": {
    "papermill": {
     "duration": 0.205052,
     "end_time": "2024-05-19T18:52:59.303433",
     "exception": false,
     "start_time": "2024-05-19T18:52:59.098381",
     "status": "completed"
    },
    "tags": []
   },
   "source": [
    "# Stacking"
   ]
  },
  {
   "cell_type": "markdown",
   "id": "875ebf82",
   "metadata": {
    "papermill": {
     "duration": 0.208502,
     "end_time": "2024-05-19T18:52:59.717613",
     "exception": false,
     "start_time": "2024-05-19T18:52:59.509111",
     "status": "completed"
    },
    "tags": []
   },
   "source": [
    "# 🧪 | Testing\n",
    "\n",
    "In this section, we will visually test how our model performs on some samples from the validation data.\n",
    "\n",
    "> Note that we are converting the ordinal regression model outputs with `sum`, unlike a typical classification problem where we would use `argmax`."
   ]
  },
  {
   "cell_type": "code",
   "execution_count": 45,
   "id": "9fa41579",
   "metadata": {
    "_kg_hide-input": true,
    "execution": {
     "iopub.execute_input": "2024-05-19T18:53:00.200231Z",
     "iopub.status.busy": "2024-05-19T18:53:00.199860Z",
     "iopub.status.idle": "2024-05-19T18:53:39.618671Z",
     "shell.execute_reply": "2024-05-19T18:53:39.617699Z"
    },
    "papermill": {
     "duration": 39.868248,
     "end_time": "2024-05-19T18:53:39.829083",
     "exception": false,
     "start_time": "2024-05-19T18:52:59.960835",
     "status": "completed"
    },
    "tags": []
   },
   "outputs": [
    {
     "name": "stdout",
     "output_type": "stream",
     "text": [
      "# Predictions\n",
      "\n",
      "❓ Text 1:\n",
      "Venus, Future planet earth?\n",
      "\n",
      "Should we take more risks and stop being limited by danger and doubts? I think that the author give such good information ....  about Venus and also about why it's a good idea to start studying this planet. We have to start meeting the very edges of imagination and innovation.\n",
      "\n",
      "✅ True: 3\n",
      "\n",
      "🤖 Predicted: 2\n",
      "\n",
      "------------------------------------------------------------------------------------------ \n",
      "\n",
      "❓ Text 2:\n",
      "Joining this prgram was the best. There was a few incidents that happened while I was on this trip, but it was an amazing experience.\n",
      "\n",
      "When I was on t .... n the ocean instead of being afraid to go because of sea sick and stuff. Itll be alot of fun if people go. They will enjoy thereselves and be alright.\n",
      "\n",
      "✅ True: 3\n",
      "\n",
      "🤖 Predicted: 3\n",
      "\n",
      "------------------------------------------------------------------------------------------ \n",
      "\n",
      "❓ Text 3:\n",
      "Have you ever wonder if you car was safe? What if you were causing enviornmental damage? Would you chnage then?\n",
      "\n",
      "In VAUBAN, Germany residents of this  .... \n",
      "So as you drive you high byrd cars down the highway, stop and think what your doing to the air and evironment around you.                            \n",
      "\n",
      "✅ True: 1\n",
      "\n",
      "🤖 Predicted: 1\n",
      "\n",
      "------------------------------------------------------------------------------------------ \n",
      "\n",
      "❓ Text 4:\n",
      "The Face on Mars is a very mysterious thing, but it's only been caught on camera, clearly, once, but that was in the 1970s. The cameras in 1976 were n .... ld hard facts, which all points to the intriging rock of 1976 of being just a rock formation that was, well, lets just say, for now... misunderstood. \n",
      "\n",
      "✅ True: 3\n",
      "\n",
      "🤖 Predicted: 4\n",
      "\n",
      "------------------------------------------------------------------------------------------ \n",
      "\n",
      "❓ Text 5:\n",
      "Nearly everyone in the United States has a car, if they're of age. Many people would probably argue that they need cars. How else would you get somewh .... eone takes action to start making it easier to access places we would normally need our car to get to, limiting car usage is not going to be easy.    \n",
      "\n",
      "✅ True: 4\n",
      "\n",
      "🤖 Predicted: 3\n",
      "\n",
      "------------------------------------------------------------------------------------------ \n",
      "\n"
     ]
    }
   ],
   "source": [
    "# Load best checkpoint\n",
    "model.load_weights(\"best_model.weights.h5\")\n",
    "\n",
    "# Make predictions using the trained model on last validation data\n",
    "valid_preds = model.predict(valid_ds, verbose=0)\n",
    "\n",
    "# Format predictions and true answers\n",
    "pred_scores = np.sum((valid_preds > 0.5).astype(int), axis=-1)\n",
    "true_scores = valid_df.score.values\n",
    "\n",
    "# Check 5 Predictions\n",
    "print(\"# Predictions\\n\")\n",
    "for i in range(5):\n",
    "    row = valid_df.iloc[i]\n",
    "    text = row.full_text\n",
    "    pred_answer = pred_scores[i]\n",
    "    true_answer = true_scores[i]\n",
    "    print(f\"❓ Text {i+1}:\\n{text[:150]} .... {text[-150:]}\\n\")\n",
    "    print(f\"✅ True: {true_answer}\\n\")\n",
    "    print(f\"🤖 Predicted: {pred_answer}\\n\")\n",
    "    print(\"-\" * 90, \"\\n\")\n"
   ]
  },
  {
   "cell_type": "markdown",
   "id": "50c028dc",
   "metadata": {
    "papermill": {
     "duration": 0.20592,
     "end_time": "2024-05-19T18:53:40.291302",
     "exception": false,
     "start_time": "2024-05-19T18:53:40.085382",
     "status": "completed"
    },
    "tags": []
   },
   "source": [
    "# 📬 | Submission\n",
    "\n",
    "In this section, we will infer our model on the test data and then finally prepare the submission file."
   ]
  },
  {
   "cell_type": "markdown",
   "id": "c2cf9988",
   "metadata": {
    "papermill": {
     "duration": 0.207718,
     "end_time": "2024-05-19T18:53:40.703849",
     "exception": false,
     "start_time": "2024-05-19T18:53:40.496131",
     "status": "completed"
    },
    "tags": []
   },
   "source": [
    "## Build Test Dataset"
   ]
  },
  {
   "cell_type": "code",
   "execution_count": 46,
   "id": "e5aa2f6d",
   "metadata": {
    "execution": {
     "iopub.execute_input": "2024-05-19T18:53:41.117180Z",
     "iopub.status.busy": "2024-05-19T18:53:41.116468Z",
     "iopub.status.idle": "2024-05-19T18:53:41.554281Z",
     "shell.execute_reply": "2024-05-19T18:53:41.553482Z"
    },
    "papermill": {
     "duration": 0.648015,
     "end_time": "2024-05-19T18:53:41.556584",
     "exception": false,
     "start_time": "2024-05-19T18:53:40.908569",
     "status": "completed"
    },
    "tags": []
   },
   "outputs": [],
   "source": [
    "# # Train Data\n",
    "test_df = pd.read_csv(f\"{BASE_PATH}/test.csv\")\n",
    "test_texts = test_df.full_text.fillna(\"\").tolist()  # Extract training texts\n",
    "\n",
    "# Build training dataset\n",
    "test_ds = build_dataset(\n",
    "    test_texts,\n",
    "    labels=None,\n",
    "    batch_size=min(CFG.batch_size, len(test_df)),\n",
    "    shuffle=False,\n",
    "    drop_remainder=False,  # include all samples\n",
    ")\n"
   ]
  },
  {
   "cell_type": "markdown",
   "id": "db5a2ec0",
   "metadata": {
    "papermill": {
     "duration": 0.207157,
     "end_time": "2024-05-19T18:53:41.970315",
     "exception": false,
     "start_time": "2024-05-19T18:53:41.763158",
     "status": "completed"
    },
    "tags": []
   },
   "source": [
    "## Inference on Test Data"
   ]
  },
  {
   "cell_type": "code",
   "execution_count": 47,
   "id": "8e79c1b7",
   "metadata": {
    "execution": {
     "iopub.execute_input": "2024-05-19T18:53:42.381924Z",
     "iopub.status.busy": "2024-05-19T18:53:42.381559Z",
     "iopub.status.idle": "2024-05-19T18:53:47.948025Z",
     "shell.execute_reply": "2024-05-19T18:53:47.947296Z"
    },
    "papermill": {
     "duration": 5.775392,
     "end_time": "2024-05-19T18:53:47.950037",
     "exception": false,
     "start_time": "2024-05-19T18:53:42.174645",
     "status": "completed"
    },
    "tags": []
   },
   "outputs": [
    {
     "name": "stdout",
     "output_type": "stream",
     "text": [
      "\u001b[1m1/1\u001b[0m \u001b[32m━━━━━━━━━━━━━━━━━━━━\u001b[0m\u001b[37m\u001b[0m \u001b[1m6s\u001b[0m 6s/step\n"
     ]
    }
   ],
   "source": [
    "# Do inference\n",
    "test_preds = model.predict(test_ds, verbose=1)\n",
    "\n",
    "# Convert probabilities to class labels\n",
    "test_preds = np.sum((test_preds>0.5).astype(int), axis=-1).clip(1, 6)"
   ]
  },
  {
   "cell_type": "markdown",
   "id": "9b841e81",
   "metadata": {
    "papermill": {
     "duration": 0.203349,
     "end_time": "2024-05-19T18:53:48.359582",
     "exception": false,
     "start_time": "2024-05-19T18:53:48.156233",
     "status": "completed"
    },
    "tags": []
   },
   "source": [
    "# Inference on Original Dataset"
   ]
  },
  {
   "cell_type": "code",
   "execution_count": 48,
   "id": "d2da96fb",
   "metadata": {
    "execution": {
     "iopub.execute_input": "2024-05-19T18:53:48.772896Z",
     "iopub.status.busy": "2024-05-19T18:53:48.772526Z",
     "iopub.status.idle": "2024-05-19T18:55:59.142423Z",
     "shell.execute_reply": "2024-05-19T18:55:59.141569Z"
    },
    "papermill": {
     "duration": 130.580789,
     "end_time": "2024-05-19T18:55:59.144669",
     "exception": false,
     "start_time": "2024-05-19T18:53:48.563880",
     "status": "completed"
    },
    "tags": []
   },
   "outputs": [
    {
     "name": "stdout",
     "output_type": "stream",
     "text": [
      "\u001b[1m432/432\u001b[0m \u001b[32m━━━━━━━━━━━━━━━━━━━━\u001b[0m\u001b[37m\u001b[0m \u001b[1m126s\u001b[0m 292ms/step\n"
     ]
    }
   ],
   "source": [
    "# Do inference\n",
    "train_preds = model.predict(train_ds, verbose=1)\n",
    "\n",
    "# Convert probabilities to class labels\n",
    "train_preds = np.sum((test_preds>0.5).astype(int), axis=-1).clip(1, 6)"
   ]
  },
  {
   "cell_type": "markdown",
   "id": "ccbe931d",
   "metadata": {
    "papermill": {
     "duration": 0.239813,
     "end_time": "2024-05-19T18:55:59.623769",
     "exception": false,
     "start_time": "2024-05-19T18:55:59.383956",
     "status": "completed"
    },
    "tags": []
   },
   "source": [
    "# Stacking"
   ]
  },
  {
   "cell_type": "code",
   "execution_count": 49,
   "id": "96fb375c",
   "metadata": {
    "execution": {
     "iopub.execute_input": "2024-05-19T18:56:00.104886Z",
     "iopub.status.busy": "2024-05-19T18:56:00.104528Z",
     "iopub.status.idle": "2024-05-19T18:56:00.108644Z",
     "shell.execute_reply": "2024-05-19T18:56:00.107792Z"
    },
    "papermill": {
     "duration": 0.246699,
     "end_time": "2024-05-19T18:56:00.110556",
     "exception": false,
     "start_time": "2024-05-19T18:55:59.863857",
     "status": "completed"
    },
    "tags": []
   },
   "outputs": [],
   "source": [
    "# Generate Random Forest Predictions on RF + NLP\n",
    "\n"
   ]
  },
  {
   "cell_type": "code",
   "execution_count": 50,
   "id": "1e6e997e",
   "metadata": {
    "execution": {
     "iopub.execute_input": "2024-05-19T18:56:00.590535Z",
     "iopub.status.busy": "2024-05-19T18:56:00.590186Z",
     "iopub.status.idle": "2024-05-19T18:56:00.596712Z",
     "shell.execute_reply": "2024-05-19T18:56:00.595832Z"
    },
    "papermill": {
     "duration": 0.250181,
     "end_time": "2024-05-19T18:56:00.599162",
     "exception": false,
     "start_time": "2024-05-19T18:56:00.348981",
     "status": "completed"
    },
    "tags": []
   },
   "outputs": [
    {
     "name": "stdout",
     "output_type": "stream",
     "text": [
      "  essay_id                                          full_text\n",
      "0  000d118  Many people have car where they live. The thin...\n",
      "1  000fe60  I am a scientist at NASA that is discussing th...\n",
      "2  001ab80  People always wish they had the same technolog...\n"
     ]
    }
   ],
   "source": [
    "print(test_df.head())"
   ]
  },
  {
   "cell_type": "code",
   "execution_count": 51,
   "id": "8297d8a2",
   "metadata": {
    "execution": {
     "iopub.execute_input": "2024-05-19T18:56:01.078594Z",
     "iopub.status.busy": "2024-05-19T18:56:01.077762Z",
     "iopub.status.idle": "2024-05-19T18:56:01.082202Z",
     "shell.execute_reply": "2024-05-19T18:56:01.081184Z"
    },
    "papermill": {
     "duration": 0.244812,
     "end_time": "2024-05-19T18:56:01.084463",
     "exception": false,
     "start_time": "2024-05-19T18:56:00.839651",
     "status": "completed"
    },
    "tags": []
   },
   "outputs": [],
   "source": [
    "final_train = train_df"
   ]
  },
  {
   "cell_type": "code",
   "execution_count": 52,
   "id": "e77d8143",
   "metadata": {
    "execution": {
     "iopub.execute_input": "2024-05-19T18:56:01.566500Z",
     "iopub.status.busy": "2024-05-19T18:56:01.566139Z",
     "iopub.status.idle": "2024-05-19T18:56:01.582676Z",
     "shell.execute_reply": "2024-05-19T18:56:01.581748Z"
    },
    "papermill": {
     "duration": 0.259875,
     "end_time": "2024-05-19T18:56:01.584814",
     "exception": false,
     "start_time": "2024-05-19T18:56:01.324939",
     "status": "completed"
    },
    "tags": []
   },
   "outputs": [
    {
     "data": {
      "text/html": [
       "<div>\n",
       "<style scoped>\n",
       "    .dataframe tbody tr th:only-of-type {\n",
       "        vertical-align: middle;\n",
       "    }\n",
       "\n",
       "    .dataframe tbody tr th {\n",
       "        vertical-align: top;\n",
       "    }\n",
       "\n",
       "    .dataframe thead th {\n",
       "        text-align: right;\n",
       "    }\n",
       "</style>\n",
       "<table border=\"1\" class=\"dataframe\">\n",
       "  <thead>\n",
       "    <tr style=\"text-align: right;\">\n",
       "      <th></th>\n",
       "      <th>essay_id</th>\n",
       "      <th>full_text</th>\n",
       "      <th>score</th>\n",
       "      <th>label</th>\n",
       "      <th>char_essay_length</th>\n",
       "      <th>words_essay_length</th>\n",
       "      <th>sentiment_score</th>\n",
       "      <th>nlp_preds</th>\n",
       "    </tr>\n",
       "  </thead>\n",
       "  <tbody>\n",
       "    <tr>\n",
       "      <th>14188</th>\n",
       "      <td>d0d5c01</td>\n",
       "      <td>Now a days you see everyone with cars driving ...</td>\n",
       "      <td>4</td>\n",
       "      <td>[1.0, 1.0, 1.0, 1.0, 0.0, 0.0]</td>\n",
       "      <td>3879</td>\n",
       "      <td>732</td>\n",
       "      <td>0.9958</td>\n",
       "      <td>3</td>\n",
       "    </tr>\n",
       "    <tr>\n",
       "      <th>13755</th>\n",
       "      <td>c9f4cf0</td>\n",
       "      <td>I think we should change the elction to popula...</td>\n",
       "      <td>2</td>\n",
       "      <td>[1.0, 1.0, 0.0, 0.0, 0.0, 0.0]</td>\n",
       "      <td>1490</td>\n",
       "      <td>254</td>\n",
       "      <td>0.9930</td>\n",
       "      <td>3</td>\n",
       "    </tr>\n",
       "    <tr>\n",
       "      <th>11928</th>\n",
       "      <td>af388ed</td>\n",
       "      <td>Are you interested in traveling? Are you inter...</td>\n",
       "      <td>3</td>\n",
       "      <td>[1.0, 1.0, 1.0, 0.0, 0.0, 0.0]</td>\n",
       "      <td>2245</td>\n",
       "      <td>436</td>\n",
       "      <td>0.9974</td>\n",
       "      <td>3</td>\n",
       "    </tr>\n",
       "    <tr>\n",
       "      <th>373</th>\n",
       "      <td>06673c8</td>\n",
       "      <td>In the article \"Driverless Cars are Coming\" th...</td>\n",
       "      <td>4</td>\n",
       "      <td>[1.0, 1.0, 1.0, 1.0, 0.0, 0.0]</td>\n",
       "      <td>3459</td>\n",
       "      <td>628</td>\n",
       "      <td>0.9874</td>\n",
       "      <td>3</td>\n",
       "    </tr>\n",
       "    <tr>\n",
       "      <th>15412</th>\n",
       "      <td>e2f5624</td>\n",
       "      <td>Classrooms in this time period are filled with...</td>\n",
       "      <td>6</td>\n",
       "      <td>[1.0, 1.0, 1.0, 1.0, 1.0, 1.0]</td>\n",
       "      <td>5521</td>\n",
       "      <td>939</td>\n",
       "      <td>0.9962</td>\n",
       "      <td>3</td>\n",
       "    </tr>\n",
       "  </tbody>\n",
       "</table>\n",
       "</div>"
      ],
      "text/plain": [
       "      essay_id                                          full_text  score  \\\n",
       "14188  d0d5c01  Now a days you see everyone with cars driving ...      4   \n",
       "13755  c9f4cf0  I think we should change the elction to popula...      2   \n",
       "11928  af388ed  Are you interested in traveling? Are you inter...      3   \n",
       "373    06673c8  In the article \"Driverless Cars are Coming\" th...      4   \n",
       "15412  e2f5624  Classrooms in this time period are filled with...      6   \n",
       "\n",
       "                                label  char_essay_length  words_essay_length  \\\n",
       "14188  [1.0, 1.0, 1.0, 1.0, 0.0, 0.0]               3879                 732   \n",
       "13755  [1.0, 1.0, 0.0, 0.0, 0.0, 0.0]               1490                 254   \n",
       "11928  [1.0, 1.0, 1.0, 0.0, 0.0, 0.0]               2245                 436   \n",
       "373    [1.0, 1.0, 1.0, 1.0, 0.0, 0.0]               3459                 628   \n",
       "15412  [1.0, 1.0, 1.0, 1.0, 1.0, 1.0]               5521                 939   \n",
       "\n",
       "       sentiment_score  nlp_preds  \n",
       "14188           0.9958          3  \n",
       "13755           0.9930          3  \n",
       "11928           0.9974          3  \n",
       "373             0.9874          3  \n",
       "15412           0.9962          3  "
      ]
     },
     "execution_count": 52,
     "metadata": {},
     "output_type": "execute_result"
    }
   ],
   "source": [
    "\n",
    "final_train[\"nlp_preds\"] = train_preds\n",
    "final_train.head()"
   ]
  },
  {
   "cell_type": "code",
   "execution_count": 53,
   "id": "3ea490b3",
   "metadata": {
    "execution": {
     "iopub.execute_input": "2024-05-19T18:56:02.147755Z",
     "iopub.status.busy": "2024-05-19T18:56:02.147411Z",
     "iopub.status.idle": "2024-05-19T18:56:02.188240Z",
     "shell.execute_reply": "2024-05-19T18:56:02.187338Z"
    },
    "papermill": {
     "duration": 0.35261,
     "end_time": "2024-05-19T18:56:02.190171",
     "exception": false,
     "start_time": "2024-05-19T18:56:01.837561",
     "status": "completed"
    },
    "tags": []
   },
   "outputs": [
    {
     "name": "stdout",
     "output_type": "stream",
     "text": [
      "Sentiment Analysis:\n",
      "Positive essays: 2\n",
      "Negative essays: 1\n",
      "Neutral essays: 0\n"
     ]
    },
    {
     "data": {
      "text/html": [
       "<div>\n",
       "<style scoped>\n",
       "    .dataframe tbody tr th:only-of-type {\n",
       "        vertical-align: middle;\n",
       "    }\n",
       "\n",
       "    .dataframe tbody tr th {\n",
       "        vertical-align: top;\n",
       "    }\n",
       "\n",
       "    .dataframe thead th {\n",
       "        text-align: right;\n",
       "    }\n",
       "</style>\n",
       "<table border=\"1\" class=\"dataframe\">\n",
       "  <thead>\n",
       "    <tr style=\"text-align: right;\">\n",
       "      <th></th>\n",
       "      <th>essay_id</th>\n",
       "      <th>full_text</th>\n",
       "      <th>char_essay_length</th>\n",
       "      <th>words_essay_length</th>\n",
       "      <th>sentiment_score</th>\n",
       "    </tr>\n",
       "  </thead>\n",
       "  <tbody>\n",
       "    <tr>\n",
       "      <th>0</th>\n",
       "      <td>000d118</td>\n",
       "      <td>Many people have car where they live. The thin...</td>\n",
       "      <td>2677</td>\n",
       "      <td>498</td>\n",
       "      <td>0.9937</td>\n",
       "    </tr>\n",
       "    <tr>\n",
       "      <th>1</th>\n",
       "      <td>000fe60</td>\n",
       "      <td>I am a scientist at NASA that is discussing th...</td>\n",
       "      <td>1669</td>\n",
       "      <td>332</td>\n",
       "      <td>0.7705</td>\n",
       "    </tr>\n",
       "    <tr>\n",
       "      <th>2</th>\n",
       "      <td>001ab80</td>\n",
       "      <td>People always wish they had the same technolog...</td>\n",
       "      <td>3077</td>\n",
       "      <td>550</td>\n",
       "      <td>-0.9731</td>\n",
       "    </tr>\n",
       "  </tbody>\n",
       "</table>\n",
       "</div>"
      ],
      "text/plain": [
       "  essay_id                                          full_text  \\\n",
       "0  000d118  Many people have car where they live. The thin...   \n",
       "1  000fe60  I am a scientist at NASA that is discussing th...   \n",
       "2  001ab80  People always wish they had the same technolog...   \n",
       "\n",
       "   char_essay_length  words_essay_length  sentiment_score  \n",
       "0               2677                 498           0.9937  \n",
       "1               1669                 332           0.7705  \n",
       "2               3077                 550          -0.9731  "
      ]
     },
     "execution_count": 53,
     "metadata": {},
     "output_type": "execute_result"
    }
   ],
   "source": [
    "calculate_essay_lengths(test_df, 'full_text')\n",
    "\n",
    "analyze_sentiment(test_df, 'full_text')\n",
    "\n",
    "'''\n",
    "test_readability_df = analyze_readability(test_df, 'full_text')\n",
    "test_df[\"fkg_score\"] = test_readability_df[\"Flesch-Kincaid\"]\n",
    "test_df[\"gf_score\"] =test_readability_df[\"Gunning Fog\"]\n",
    "'''\n",
    "\n",
    "test_df.head()"
   ]
  },
  {
   "cell_type": "code",
   "execution_count": 54,
   "id": "9b5a6f23",
   "metadata": {
    "execution": {
     "iopub.execute_input": "2024-05-19T18:56:02.683803Z",
     "iopub.status.busy": "2024-05-19T18:56:02.683444Z",
     "iopub.status.idle": "2024-05-19T18:56:02.688736Z",
     "shell.execute_reply": "2024-05-19T18:56:02.687990Z"
    },
    "papermill": {
     "duration": 0.254239,
     "end_time": "2024-05-19T18:56:02.690663",
     "exception": false,
     "start_time": "2024-05-19T18:56:02.436424",
     "status": "completed"
    },
    "tags": []
   },
   "outputs": [],
   "source": [
    "test_df[\"nlp_preds\"] = test_preds"
   ]
  },
  {
   "cell_type": "code",
   "execution_count": 55,
   "id": "62ea868d",
   "metadata": {
    "execution": {
     "iopub.execute_input": "2024-05-19T18:56:03.170369Z",
     "iopub.status.busy": "2024-05-19T18:56:03.169719Z",
     "iopub.status.idle": "2024-05-19T18:56:05.787481Z",
     "shell.execute_reply": "2024-05-19T18:56:05.786298Z"
    },
    "papermill": {
     "duration": 2.858549,
     "end_time": "2024-05-19T18:56:05.789571",
     "exception": false,
     "start_time": "2024-05-19T18:56:02.931022",
     "status": "completed"
    },
    "tags": []
   },
   "outputs": [
    {
     "name": "stdout",
     "output_type": "stream",
     "text": [
      "[3 3 4]\n"
     ]
    }
   ],
   "source": [
    "# RANDOM FOREST META LEARNER: NEURAL NETWORK NLP STACKING + FEATURE ENGINEERING\n",
    "\n",
    "# Random Forest Classifier\n",
    "\n",
    "from sklearn.ensemble import RandomForestClassifier\n",
    "\n",
    "# Define the model\n",
    "model = RandomForestClassifier(n_estimators=100, random_state=CFG.seed)\n",
    "\n",
    "# Define the features and target\n",
    "features = final_train.drop(['score', 'essay_id', 'full_text', 'label'], axis=1)\n",
    "target = final_train['score']\n",
    "\n",
    "# Fit the model\n",
    "model.fit(features, target)\n",
    "\n",
    "# Get the feature importances\n",
    "feature_importances = model.feature_importances_\n",
    "\n",
    "# Test the model on the validation set\n",
    "test_features = test_df.drop(['essay_id', 'full_text'], axis=1)\n",
    "predictions = model.predict(test_features)\n",
    "\n",
    "print(predictions)\n",
    "\n"
   ]
  },
  {
   "cell_type": "markdown",
   "id": "a38cb0e4",
   "metadata": {
    "papermill": {
     "duration": 0.240885,
     "end_time": "2024-05-19T18:56:06.296930",
     "exception": false,
     "start_time": "2024-05-19T18:56:06.056045",
     "status": "completed"
    },
    "tags": []
   },
   "source": []
  },
  {
   "cell_type": "markdown",
   "id": "6d5582e5",
   "metadata": {
    "papermill": {
     "duration": 0.240225,
     "end_time": "2024-05-19T18:56:06.779042",
     "exception": false,
     "start_time": "2024-05-19T18:56:06.538817",
     "status": "completed"
    },
    "tags": []
   },
   "source": [
    "# Stacking"
   ]
  },
  {
   "cell_type": "code",
   "execution_count": null,
   "id": "82d403b0",
   "metadata": {
    "papermill": {
     "duration": 0.23819,
     "end_time": "2024-05-19T18:56:07.257256",
     "exception": false,
     "start_time": "2024-05-19T18:56:07.019066",
     "status": "completed"
    },
    "tags": []
   },
   "outputs": [],
   "source": []
  },
  {
   "cell_type": "code",
   "execution_count": 56,
   "id": "bdb74fb6",
   "metadata": {
    "execution": {
     "iopub.execute_input": "2024-05-19T18:56:07.793740Z",
     "iopub.status.busy": "2024-05-19T18:56:07.792907Z",
     "iopub.status.idle": "2024-05-19T18:56:07.800299Z",
     "shell.execute_reply": "2024-05-19T18:56:07.799390Z"
    },
    "papermill": {
     "duration": 0.304505,
     "end_time": "2024-05-19T18:56:07.802387",
     "exception": false,
     "start_time": "2024-05-19T18:56:07.497882",
     "status": "completed"
    },
    "tags": []
   },
   "outputs": [
    {
     "name": "stdout",
     "output_type": "stream",
     "text": [
      "  essay_id                                          full_text  \\\n",
      "0  000d118  Many people have car where they live. The thin...   \n",
      "1  000fe60  I am a scientist at NASA that is discussing th...   \n",
      "2  001ab80  People always wish they had the same technolog...   \n",
      "\n",
      "   char_essay_length  words_essay_length  sentiment_score  nlp_preds  \n",
      "0               2677                 498           0.9937          2  \n",
      "1               1669                 332           0.7705          2  \n",
      "2               3077                 550          -0.9731          5  \n"
     ]
    }
   ],
   "source": [
    "print(test_df)"
   ]
  },
  {
   "cell_type": "markdown",
   "id": "4349410d",
   "metadata": {
    "papermill": {
     "duration": 0.249645,
     "end_time": "2024-05-19T18:56:08.291050",
     "exception": false,
     "start_time": "2024-05-19T18:56:08.041405",
     "status": "completed"
    },
    "tags": []
   },
   "source": [
    "## Create Submission File"
   ]
  },
  {
   "cell_type": "code",
   "execution_count": 57,
   "id": "a88bc078",
   "metadata": {
    "execution": {
     "iopub.execute_input": "2024-05-19T18:56:08.773060Z",
     "iopub.status.busy": "2024-05-19T18:56:08.772342Z",
     "iopub.status.idle": "2024-05-19T18:56:08.786937Z",
     "shell.execute_reply": "2024-05-19T18:56:08.786050Z"
    },
    "papermill": {
     "duration": 0.258186,
     "end_time": "2024-05-19T18:56:08.788879",
     "exception": false,
     "start_time": "2024-05-19T18:56:08.530693",
     "status": "completed"
    },
    "tags": []
   },
   "outputs": [
    {
     "data": {
      "text/html": [
       "<div>\n",
       "<style scoped>\n",
       "    .dataframe tbody tr th:only-of-type {\n",
       "        vertical-align: middle;\n",
       "    }\n",
       "\n",
       "    .dataframe tbody tr th {\n",
       "        vertical-align: top;\n",
       "    }\n",
       "\n",
       "    .dataframe thead th {\n",
       "        text-align: right;\n",
       "    }\n",
       "</style>\n",
       "<table border=\"1\" class=\"dataframe\">\n",
       "  <thead>\n",
       "    <tr style=\"text-align: right;\">\n",
       "      <th></th>\n",
       "      <th>essay_id</th>\n",
       "      <th>score</th>\n",
       "    </tr>\n",
       "  </thead>\n",
       "  <tbody>\n",
       "    <tr>\n",
       "      <th>0</th>\n",
       "      <td>000d118</td>\n",
       "      <td>3</td>\n",
       "    </tr>\n",
       "    <tr>\n",
       "      <th>1</th>\n",
       "      <td>000fe60</td>\n",
       "      <td>3</td>\n",
       "    </tr>\n",
       "    <tr>\n",
       "      <th>2</th>\n",
       "      <td>001ab80</td>\n",
       "      <td>4</td>\n",
       "    </tr>\n",
       "  </tbody>\n",
       "</table>\n",
       "</div>"
      ],
      "text/plain": [
       "  essay_id  score\n",
       "0  000d118      3\n",
       "1  000fe60      3\n",
       "2  001ab80      4"
      ]
     },
     "execution_count": 57,
     "metadata": {},
     "output_type": "execute_result"
    }
   ],
   "source": [
    "# Create a DataFrame to store the submission\n",
    "sub_df = test_df[[\"essay_id\"]].copy()\n",
    "\n",
    "# Add the formatted predictions to the submission DataFrame\n",
    "sub_df[\"score\"] = predictions\n",
    "\n",
    "# Save Submission\n",
    "sub_df.to_csv('submission.csv',index=False)\n",
    "\n",
    "# Display the first 2 rows of the submission DataFrame\n",
    "sub_df"
   ]
  },
  {
   "cell_type": "code",
   "execution_count": 58,
   "id": "3e018606",
   "metadata": {
    "execution": {
     "iopub.execute_input": "2024-05-19T18:56:09.274382Z",
     "iopub.status.busy": "2024-05-19T18:56:09.273479Z",
     "iopub.status.idle": "2024-05-19T18:56:09.278864Z",
     "shell.execute_reply": "2024-05-19T18:56:09.277969Z"
    },
    "papermill": {
     "duration": 0.246481,
     "end_time": "2024-05-19T18:56:09.280842",
     "exception": false,
     "start_time": "2024-05-19T18:56:09.034361",
     "status": "completed"
    },
    "tags": []
   },
   "outputs": [
    {
     "name": "stdout",
     "output_type": "stream",
     "text": [
      "GPUs: [PhysicalDevice(name='/physical_device:GPU:0', device_type='GPU')]\n"
     ]
    }
   ],
   "source": [
    "import tensorflow as tf\n",
    "\n",
    "# List available physical devices\n",
    "devices = tf.config.list_physical_devices('GPU')\n",
    "print(\"GPUs:\", devices)"
   ]
  },
  {
   "cell_type": "markdown",
   "id": "9fe1484b",
   "metadata": {
    "papermill": {
     "duration": 0.238928,
     "end_time": "2024-05-19T18:56:09.758752",
     "exception": false,
     "start_time": "2024-05-19T18:56:09.519824",
     "status": "completed"
    },
    "tags": []
   },
   "source": [
    "# ✍️ | Reference\n",
    "* [LLM Science Exam: KerasCore + KerasNLP [TPU]](https://www.kaggle.com/code/awsaf49/llm-science-exam-kerascore-kerasnlp-tpu)\n",
    "* [Keras NLP](https://keras.io/api/keras_nlp/)\n",
    "* [Triple Stratified KFold with TFRecords](https://www.kaggle.com/code/cdeotte/triple-stratified-kfold-with-tfrecords) by @cdeotte"
   ]
  }
 ],
 "metadata": {
  "kaggle": {
   "accelerator": "gpu",
   "dataSources": [
    {
     "databundleVersionId": 8059942,
     "sourceId": 71485,
     "sourceType": "competition"
    },
    {
     "modelInstanceId": 4684,
     "sourceId": 6063,
     "sourceType": "modelInstanceVersion"
    },
    {
     "modelInstanceId": 4686,
     "sourceId": 6065,
     "sourceType": "modelInstanceVersion"
    }
   ],
   "isGpuEnabled": true,
   "isInternetEnabled": false,
   "language": "python",
   "sourceType": "notebook"
  },
  "kernelspec": {
   "display_name": "Python 3",
   "language": "python",
   "name": "python3"
  },
  "language_info": {
   "codemirror_mode": {
    "name": "ipython",
    "version": 3
   },
   "file_extension": ".py",
   "mimetype": "text/x-python",
   "name": "python",
   "nbconvert_exporter": "python",
   "pygments_lexer": "ipython3",
   "version": "3.8.8"
  },
  "papermill": {
   "default_parameters": {},
   "duration": 2484.583471,
   "end_time": "2024-05-19T18:56:12.918754",
   "environment_variables": {},
   "exception": null,
   "input_path": "__notebook__.ipynb",
   "output_path": "__notebook__.ipynb",
   "parameters": {},
   "start_time": "2024-05-19T18:14:48.335283",
   "version": "2.5.0"
  }
 },
 "nbformat": 4,
 "nbformat_minor": 5
}
