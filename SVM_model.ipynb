{
 "cells": [
  {
   "cell_type": "code",
   "execution_count": 1,
   "id": "2739453e",
   "metadata": {
    "_cell_guid": "b1076dfc-b9ad-4769-8c92-a6c4dae69d19",
    "_uuid": "8f2839f25d086af736a60e9eeb907d3b93b6e0e5",
    "execution": {
     "iopub.execute_input": "2024-05-21T12:41:01.561137Z",
     "iopub.status.busy": "2024-05-21T12:41:01.560221Z",
     "iopub.status.idle": "2024-05-21T12:41:02.567268Z",
     "shell.execute_reply": "2024-05-21T12:41:02.566101Z"
    },
    "papermill": {
     "duration": 1.02462,
     "end_time": "2024-05-21T12:41:02.570083",
     "exception": false,
     "start_time": "2024-05-21T12:41:01.545463",
     "status": "completed"
    },
    "tags": []
   },
   "outputs": [
    {
     "name": "stdout",
     "output_type": "stream",
     "text": [
      "/kaggle/input/pyspellchecker/pyspellchecker-0.7.2-py3-none-any.whl\n",
      "/kaggle/input/learning-agency-lab-automated-essay-scoring-2/sample_submission.csv\n",
      "/kaggle/input/learning-agency-lab-automated-essay-scoring-2/train.csv\n",
      "/kaggle/input/learning-agency-lab-automated-essay-scoring-2/test.csv\n"
     ]
    }
   ],
   "source": [
    "# This Python 3 environment comes with many helpful analytics libraries installed\n",
    "# It is defined by the kaggle/python Docker image: https://github.com/kaggle/docker-python\n",
    "# For example, here's several helpful packages to load\n",
    "\n",
    "import numpy as np # linear algebra\n",
    "import pandas as pd # data processing, CSV file I/O (e.g. pd.read_csv)\n",
    "\n",
    "# Input data files are available in the read-only \"../input/\" directory\n",
    "# For example, running this (by clicking run or pressing Shift+Enter) will list all files under the input directory\n",
    "\n",
    "import os\n",
    "for dirname, _, filenames in os.walk('/kaggle/input'):\n",
    "    for filename in filenames:\n",
    "        print(os.path.join(dirname, filename))\n",
    "\n",
    "# You can write up to 20GB to the current directory (/kaggle/working/) that gets preserved as output when you create a version using \"Save & Run All\" \n",
    "# You can also write temporary files to /kaggle/temp/, but they won't be saved outside of the current session"
   ]
  },
  {
   "cell_type": "markdown",
   "id": "e7aa92e0",
   "metadata": {
    "papermill": {
     "duration": 0.009082,
     "end_time": "2024-05-21T12:41:02.588198",
     "exception": false,
     "start_time": "2024-05-21T12:41:02.579116",
     "status": "completed"
    },
    "tags": []
   },
   "source": [
    "# Install Imports"
   ]
  },
  {
   "cell_type": "code",
   "execution_count": 2,
   "id": "a6484b72",
   "metadata": {
    "execution": {
     "iopub.execute_input": "2024-05-21T12:41:02.607303Z",
     "iopub.status.busy": "2024-05-21T12:41:02.606305Z",
     "iopub.status.idle": "2024-05-21T12:41:04.958250Z",
     "shell.execute_reply": "2024-05-21T12:41:04.957138Z"
    },
    "papermill": {
     "duration": 2.36452,
     "end_time": "2024-05-21T12:41:04.961107",
     "exception": false,
     "start_time": "2024-05-21T12:41:02.596587",
     "status": "completed"
    },
    "tags": []
   },
   "outputs": [],
   "source": [
    "import re\n",
    "import numpy as np\n",
    "import matplotlib.pyplot as plt\n",
    "import matplotlib.cm as cm\n",
    "import matplotlib as mpl\n",
    "import scipy as sp\n",
    "import seaborn as sns\n",
    "import pandas as pd\n",
    "from sklearn.metrics import cohen_kappa_score\n",
    "import polars as pl\n",
    "from sklearn.linear_model import LogisticRegression\n",
    "from sklearn.svm import SVC\n",
    "from sklearn.ensemble import RandomForestClassifier\n",
    "from sklearn.metrics import accuracy_score, precision_score, recall_score, f1_score\n",
    "from sklearn.model_selection import train_test_split\n",
    "from sklearn.feature_extraction.text import TfidfVectorizer"
   ]
  },
  {
   "cell_type": "code",
   "execution_count": 3,
   "id": "bed948d7",
   "metadata": {
    "execution": {
     "iopub.execute_input": "2024-05-21T12:41:04.980030Z",
     "iopub.status.busy": "2024-05-21T12:41:04.979589Z",
     "iopub.status.idle": "2024-05-21T12:41:04.984394Z",
     "shell.execute_reply": "2024-05-21T12:41:04.983153Z"
    },
    "papermill": {
     "duration": 0.017424,
     "end_time": "2024-05-21T12:41:04.986834",
     "exception": false,
     "start_time": "2024-05-21T12:41:04.969410",
     "status": "completed"
    },
    "tags": []
   },
   "outputs": [],
   "source": [
    "np.random.seed(42)"
   ]
  },
  {
   "cell_type": "markdown",
   "id": "9da08fb4",
   "metadata": {
    "papermill": {
     "duration": 0.007783,
     "end_time": "2024-05-21T12:41:05.002883",
     "exception": false,
     "start_time": "2024-05-21T12:41:04.995100",
     "status": "completed"
    },
    "tags": []
   },
   "source": [
    "# Load Dataset"
   ]
  },
  {
   "cell_type": "code",
   "execution_count": 4,
   "id": "b84952f5",
   "metadata": {
    "execution": {
     "iopub.execute_input": "2024-05-21T12:41:05.021416Z",
     "iopub.status.busy": "2024-05-21T12:41:05.020687Z",
     "iopub.status.idle": "2024-05-21T12:41:05.896492Z",
     "shell.execute_reply": "2024-05-21T12:41:05.895242Z"
    },
    "papermill": {
     "duration": 0.888074,
     "end_time": "2024-05-21T12:41:05.899079",
     "exception": false,
     "start_time": "2024-05-21T12:41:05.011005",
     "status": "completed"
    },
    "tags": []
   },
   "outputs": [],
   "source": [
    "train = pd.read_csv(\"/kaggle/input/learning-agency-lab-automated-essay-scoring-2/train.csv\")\n",
    "test = pd.read_csv(\"/kaggle/input/learning-agency-lab-automated-essay-scoring-2/test.csv\")\n",
    "submission = pd.read_csv(\"/kaggle/input/learning-agency-lab-automated-essay-scoring-2/sample_submission.csv\")"
   ]
  },
  {
   "cell_type": "code",
   "execution_count": 5,
   "id": "a000a693",
   "metadata": {
    "execution": {
     "iopub.execute_input": "2024-05-21T12:41:05.918500Z",
     "iopub.status.busy": "2024-05-21T12:41:05.918083Z",
     "iopub.status.idle": "2024-05-21T12:41:05.937756Z",
     "shell.execute_reply": "2024-05-21T12:41:05.936576Z"
    },
    "papermill": {
     "duration": 0.031789,
     "end_time": "2024-05-21T12:41:05.940321",
     "exception": false,
     "start_time": "2024-05-21T12:41:05.908532",
     "status": "completed"
    },
    "tags": []
   },
   "outputs": [
    {
     "data": {
      "text/html": [
       "<div>\n",
       "<style scoped>\n",
       "    .dataframe tbody tr th:only-of-type {\n",
       "        vertical-align: middle;\n",
       "    }\n",
       "\n",
       "    .dataframe tbody tr th {\n",
       "        vertical-align: top;\n",
       "    }\n",
       "\n",
       "    .dataframe thead th {\n",
       "        text-align: right;\n",
       "    }\n",
       "</style>\n",
       "<table border=\"1\" class=\"dataframe\">\n",
       "  <thead>\n",
       "    <tr style=\"text-align: right;\">\n",
       "      <th></th>\n",
       "      <th>essay_id</th>\n",
       "      <th>full_text</th>\n",
       "      <th>score</th>\n",
       "    </tr>\n",
       "  </thead>\n",
       "  <tbody>\n",
       "    <tr>\n",
       "      <th>0</th>\n",
       "      <td>000d118</td>\n",
       "      <td>Many people have car where they live. The thin...</td>\n",
       "      <td>3</td>\n",
       "    </tr>\n",
       "    <tr>\n",
       "      <th>1</th>\n",
       "      <td>000fe60</td>\n",
       "      <td>I am a scientist at NASA that is discussing th...</td>\n",
       "      <td>3</td>\n",
       "    </tr>\n",
       "    <tr>\n",
       "      <th>2</th>\n",
       "      <td>001ab80</td>\n",
       "      <td>People always wish they had the same technolog...</td>\n",
       "      <td>4</td>\n",
       "    </tr>\n",
       "    <tr>\n",
       "      <th>3</th>\n",
       "      <td>001bdc0</td>\n",
       "      <td>We all heard about Venus, the planet without a...</td>\n",
       "      <td>4</td>\n",
       "    </tr>\n",
       "    <tr>\n",
       "      <th>4</th>\n",
       "      <td>002ba53</td>\n",
       "      <td>Dear, State Senator\\n\\nThis is a letter to arg...</td>\n",
       "      <td>3</td>\n",
       "    </tr>\n",
       "  </tbody>\n",
       "</table>\n",
       "</div>"
      ],
      "text/plain": [
       "  essay_id                                          full_text  score\n",
       "0  000d118  Many people have car where they live. The thin...      3\n",
       "1  000fe60  I am a scientist at NASA that is discussing th...      3\n",
       "2  001ab80  People always wish they had the same technolog...      4\n",
       "3  001bdc0  We all heard about Venus, the planet without a...      4\n",
       "4  002ba53  Dear, State Senator\\n\\nThis is a letter to arg...      3"
      ]
     },
     "execution_count": 5,
     "metadata": {},
     "output_type": "execute_result"
    }
   ],
   "source": [
    "train.head()"
   ]
  },
  {
   "cell_type": "code",
   "execution_count": 6,
   "id": "7d335a6e",
   "metadata": {
    "execution": {
     "iopub.execute_input": "2024-05-21T12:41:05.958943Z",
     "iopub.status.busy": "2024-05-21T12:41:05.958501Z",
     "iopub.status.idle": "2024-05-21T12:41:05.967625Z",
     "shell.execute_reply": "2024-05-21T12:41:05.966834Z"
    },
    "papermill": {
     "duration": 0.020753,
     "end_time": "2024-05-21T12:41:05.969617",
     "exception": false,
     "start_time": "2024-05-21T12:41:05.948864",
     "status": "completed"
    },
    "tags": []
   },
   "outputs": [
    {
     "data": {
      "text/html": [
       "<div>\n",
       "<style scoped>\n",
       "    .dataframe tbody tr th:only-of-type {\n",
       "        vertical-align: middle;\n",
       "    }\n",
       "\n",
       "    .dataframe tbody tr th {\n",
       "        vertical-align: top;\n",
       "    }\n",
       "\n",
       "    .dataframe thead th {\n",
       "        text-align: right;\n",
       "    }\n",
       "</style>\n",
       "<table border=\"1\" class=\"dataframe\">\n",
       "  <thead>\n",
       "    <tr style=\"text-align: right;\">\n",
       "      <th></th>\n",
       "      <th>essay_id</th>\n",
       "      <th>full_text</th>\n",
       "    </tr>\n",
       "  </thead>\n",
       "  <tbody>\n",
       "    <tr>\n",
       "      <th>0</th>\n",
       "      <td>000d118</td>\n",
       "      <td>Many people have car where they live. The thin...</td>\n",
       "    </tr>\n",
       "    <tr>\n",
       "      <th>1</th>\n",
       "      <td>000fe60</td>\n",
       "      <td>I am a scientist at NASA that is discussing th...</td>\n",
       "    </tr>\n",
       "    <tr>\n",
       "      <th>2</th>\n",
       "      <td>001ab80</td>\n",
       "      <td>People always wish they had the same technolog...</td>\n",
       "    </tr>\n",
       "  </tbody>\n",
       "</table>\n",
       "</div>"
      ],
      "text/plain": [
       "  essay_id                                          full_text\n",
       "0  000d118  Many people have car where they live. The thin...\n",
       "1  000fe60  I am a scientist at NASA that is discussing th...\n",
       "2  001ab80  People always wish they had the same technolog..."
      ]
     },
     "execution_count": 6,
     "metadata": {},
     "output_type": "execute_result"
    }
   ],
   "source": [
    "test.head()"
   ]
  },
  {
   "cell_type": "markdown",
   "id": "1e6aa51f",
   "metadata": {
    "papermill": {
     "duration": 0.008206,
     "end_time": "2024-05-21T12:41:05.986416",
     "exception": false,
     "start_time": "2024-05-21T12:41:05.978210",
     "status": "completed"
    },
    "tags": []
   },
   "source": [
    "# Feature Engineering"
   ]
  },
  {
   "cell_type": "code",
   "execution_count": 7,
   "id": "f83a9026",
   "metadata": {
    "execution": {
     "iopub.execute_input": "2024-05-21T12:41:06.005777Z",
     "iopub.status.busy": "2024-05-21T12:41:06.005070Z",
     "iopub.status.idle": "2024-05-21T12:41:06.018639Z",
     "shell.execute_reply": "2024-05-21T12:41:06.016958Z"
    },
    "papermill": {
     "duration": 0.026489,
     "end_time": "2024-05-21T12:41:06.021407",
     "exception": false,
     "start_time": "2024-05-21T12:41:05.994918",
     "status": "completed"
    },
    "tags": []
   },
   "outputs": [],
   "source": [
    "cList = {\n",
    "  \"ain't\": \"am not\",\"aren't\": \"are not\",\"can't\": \"cannot\",\"can't've\": \"cannot have\",\"'cause\": \"because\",  \"could've\": \"could have\",\"couldn't\": \"could not\",\"couldn't've\": \"could not have\",\"didn't\": \"did not\",\"doesn't\": \"does not\",\"don't\": \"do not\",\"hadn't\": \"had not\",\"hadn't've\": \"had not have\",\"hasn't\": \"has not\",\n",
    "  \"haven't\": \"have not\",\"he'd\": \"he would\",\"he'd've\": \"he would have\",\"he'll\": \"he will\",\"he'll've\": \"he will have\",\"he's\": \"he is\",\n",
    "  \"how'd\": \"how did\",\"how'd'y\": \"how do you\",\"how'll\": \"how will\",\"how's\": \"how is\",\"I'd\": \"I would\",\"I'd've\": \"I would have\",\"I'll\": \"I will\",\"I'll've\": \"I will have\",\"I'm\": \"I am\",\"I've\": \"I have\",\n",
    "  \"isn't\": \"is not\",\"it'd\": \"it had\",\"it'd've\": \"it would have\",\"it'll\": \"it will\", \"it'll've\": \"it will have\",\"it's\": \"it is\",\"let's\": \"let us\",\"ma'am\": \"madam\",\"mayn't\": \"may not\",\n",
    "  \"might've\": \"might have\",\"mightn't\": \"might not\",\"mightn't've\": \"might not have\",\"must've\": \"must have\",\"mustn't\": \"must not\",\"mustn't've\": \"must not have\",\"needn't\": \"need not\",\"needn't've\": \"need not have\",\"o'clock\": \"of the clock\",\"oughtn't\": \"ought not\",\"oughtn't've\": \"ought not have\",\"shan't\": \"shall not\",\"sha'n't\": \"shall not\",\n",
    "  \"shan't've\": \"shall not have\",\"she'd\": \"she would\",\"she'd've\": \"she would have\",\"she'll\": \"she will\",\"she'll've\": \"she will have\",\"she's\": \"she is\",\n",
    "  \"should've\": \"should have\",\"shouldn't\": \"should not\",\"shouldn't've\": \"should not have\",\"so've\": \"so have\",\"so's\": \"so is\",\"that'd\": \"that would\",\"that'd've\": \"that would have\",\"that's\": \"that is\",\"there'd\": \"there had\",\"there'd've\": \"there would have\",\"there's\": \"there is\",\"they'd\": \"they would\",\"they'd've\": \"they would have\",\"they'll\": \"they will\",\"they'll've\": \"they will have\",\"they're\": \"they are\",\"they've\": \"they have\",\"to've\": \"to have\",\"wasn't\": \"was not\",\"we'd\": \"we had\",\n",
    "  \"we'd've\": \"we would have\",\"we'll\": \"we will\",\"we'll've\": \"we will have\",\"we're\": \"we are\",\"we've\": \"we have\",\n",
    "  \"weren't\": \"were not\",\"what'll\": \"what will\",\"what'll've\": \"what will have\",\n",
    "  \"what're\": \"what are\",\"what's\": \"what is\",\"what've\": \"what have\",\"when's\": \"when is\",\"when've\": \"when have\",\n",
    "  \"where'd\": \"where did\",\"where's\": \"where is\",\"where've\": \"where have\",\"who'll\": \"who will\",\"who'll've\": \"who will have\",\"who's\": \"who is\",\"who've\": \"who have\",\"why's\": \"why is\",\n",
    "  \"why've\": \"why have\",\"will've\": \"will have\",\"won't\": \"will not\",\"won't've\": \"will not have\",\"would've\": \"would have\",\"wouldn't\": \"would not\",\n",
    "  \"wouldn't've\": \"would not have\",\"y'all\": \"you all\",\"y'alls\": \"you alls\",\"y'all'd\": \"you all would\",\n",
    "  \"y'all'd've\": \"you all would have\",\"y'all're\": \"you all are\",\"y'all've\": \"you all have\",\"you'd\": \"you had\",\"you'd've\": \"you would have\",\"you'll\": \"you you will\",\"you'll've\": \"you you will have\",\"you're\": \"you are\",  \"you've\": \"you have\"\n",
    "   }"
   ]
  },
  {
   "cell_type": "code",
   "execution_count": 8,
   "id": "9a9edfdf",
   "metadata": {
    "execution": {
     "iopub.execute_input": "2024-05-21T12:41:06.040709Z",
     "iopub.status.busy": "2024-05-21T12:41:06.040279Z",
     "iopub.status.idle": "2024-05-21T12:41:06.051891Z",
     "shell.execute_reply": "2024-05-21T12:41:06.050944Z"
    },
    "papermill": {
     "duration": 0.023851,
     "end_time": "2024-05-21T12:41:06.054246",
     "exception": false,
     "start_time": "2024-05-21T12:41:06.030395",
     "status": "completed"
    },
    "tags": []
   },
   "outputs": [],
   "source": [
    "c_re = re.compile('(%s)' % '|'.join(cList.keys()))\n",
    "\n",
    "def expandContractions(text, c_re=c_re):\n",
    "    def replace(match):\n",
    "        return cList[match.group(0)]\n",
    "    return c_re.sub(replace, text)\n",
    "\n",
    "def removeHTML(x):\n",
    "    html = re.compile(r'<.*?>')\n",
    "    return html.sub(r'',x) # html -> ''\n",
    "\n",
    "def dataPreprocessing(x):\n",
    "    \n",
    "    x = x.lower()\n",
    "    # remove html\n",
    "    x = removeHTML(x)\n",
    "    \n",
    "    #remove string with starting @\n",
    "    x = re.sub(\"@\\w+\",'',x)\n",
    "    \n",
    "    # remove number\n",
    "    x = re.sub(\"'\\d+\",'',x)\n",
    "    x = re.sub(\"\\d+\",'',x)\n",
    "    \n",
    "    # remove url\n",
    "    x = re.sub(\"http\\w+\",'',x)\n",
    "    \n",
    "    # Replace consecutive empty spaces with a single empty spaces\n",
    "    x = re.sub(r'\\s+', \" \", x)\n",
    "    # Replace consecutive commas and periods with a single comma and period\n",
    "    x = expandContractions(x)\n",
    "    x = re.sub(r'\\.+', \".\",x)\n",
    "    x = re.sub(r'\\,+', \",\",x)\n",
    "    x = re.sub(r'[^\\w\\s.,;:\"\"''?!]', '', x)\n",
    "    # Remove empty character at the beginning and end\n",
    "    x = x.strip()\n",
    "    return x"
   ]
  },
  {
   "cell_type": "code",
   "execution_count": 9,
   "id": "c2038400",
   "metadata": {
    "execution": {
     "iopub.execute_input": "2024-05-21T12:41:06.073236Z",
     "iopub.status.busy": "2024-05-21T12:41:06.072494Z",
     "iopub.status.idle": "2024-05-21T12:41:20.292518Z",
     "shell.execute_reply": "2024-05-21T12:41:20.291453Z"
    },
    "papermill": {
     "duration": 14.232132,
     "end_time": "2024-05-21T12:41:20.295047",
     "exception": false,
     "start_time": "2024-05-21T12:41:06.062915",
     "status": "completed"
    },
    "tags": []
   },
   "outputs": [
    {
     "name": "stderr",
     "output_type": "stream",
     "text": [
      "/tmp/ipykernel_18/4137260655.py:3: MapWithoutReturnDtypeWarning: Calling `map_elements` without specifying `return_dtype` can lead to unpredictable results. Specify `return_dtype` to silence this warning.\n",
      "  train = train.with_columns(\n"
     ]
    }
   ],
   "source": [
    "train = pl.from_pandas(train)\n",
    "\n",
    "train = train.with_columns(\n",
    "         pl.col('full_text').map_elements(lambda x: dataPreprocessing(x))\n",
    ")\n",
    "train = train.to_pandas()"
   ]
  },
  {
   "cell_type": "code",
   "execution_count": 10,
   "id": "3e5ce865",
   "metadata": {
    "execution": {
     "iopub.execute_input": "2024-05-21T12:41:20.314557Z",
     "iopub.status.busy": "2024-05-21T12:41:20.314164Z",
     "iopub.status.idle": "2024-05-21T12:41:20.328811Z",
     "shell.execute_reply": "2024-05-21T12:41:20.327648Z"
    },
    "papermill": {
     "duration": 0.027647,
     "end_time": "2024-05-21T12:41:20.331828",
     "exception": false,
     "start_time": "2024-05-21T12:41:20.304181",
     "status": "completed"
    },
    "tags": []
   },
   "outputs": [
    {
     "name": "stderr",
     "output_type": "stream",
     "text": [
      "/tmp/ipykernel_18/1235424326.py:3: MapWithoutReturnDtypeWarning: Calling `map_elements` without specifying `return_dtype` can lead to unpredictable results. Specify `return_dtype` to silence this warning.\n",
      "  test = test.with_columns(\n"
     ]
    }
   ],
   "source": [
    "test = pl.from_pandas(test)\n",
    "\n",
    "test = test.with_columns(\n",
    "         pl.col('full_text').map_elements(lambda x: dataPreprocessing(x))\n",
    ")\n",
    "test = test.to_pandas()"
   ]
  },
  {
   "cell_type": "code",
   "execution_count": 11,
   "id": "bd5df964",
   "metadata": {
    "execution": {
     "iopub.execute_input": "2024-05-21T12:41:20.351414Z",
     "iopub.status.busy": "2024-05-21T12:41:20.350516Z",
     "iopub.status.idle": "2024-05-21T12:41:20.358611Z",
     "shell.execute_reply": "2024-05-21T12:41:20.357383Z"
    },
    "papermill": {
     "duration": 0.020273,
     "end_time": "2024-05-21T12:41:20.360887",
     "exception": false,
     "start_time": "2024-05-21T12:41:20.340614",
     "status": "completed"
    },
    "tags": []
   },
   "outputs": [
    {
     "data": {
      "text/plain": [
       "'many people have car where they live. the thing they do not know is that when you use a car alot of thing can happen like you can get in accidet or the smoke that the car has is bad to breath on if someone is walk but in vauban,germany they dont have that proble because percent of vaubans families do not own cars,and percent sold a car to move there. street parkig ,driveways and home garages are forbidden on the outskirts of freiburd that near the french and swiss borders. you probaly will not see a car in vaubans streets because they are completely \"car free\" but if some that lives in vauban that owns a car ownership is allowed,but there are only two places that you can park a large garages at the edge of the development,where a car owner buys a space but it not cheap to buy one they sell the space for you car for , along with a home. the vauban people completed this in ,they said that this an example of a growing trend in europe,the untile states and some where else are suburban life from auto use this is called \"smart planning\". the current efforts to drastically reduce greenhouse gas emissions from tailes the passengee cars are responsible for percent of greenhouse gas emissions in europe and up to percent in some car intensive in the united states. i honeslty think that good idea that they did that is vaudan because that makes cities denser and better for walking and in vauban there are , residents within a rectangular square mile. in the artical david gold berg said that \"all of our development since world war has been centered on the cars,and that will have to change\" and i think that was very true what david gold said because alot thing we need cars to do we can go anyway were with out cars beacuse some people are a very lazy to walk to place thats why they alot of people use car and i think that it was a good idea that that they did that in vauban so people can see how we really do not need car to go to place from place because we can walk from were we need to go or we can ride bycles with out the use of a car. it good that they are doing that if you thik about your help the earth in way and thats a very good thing to. in the united states ,the environmental protection agency is promoting what is called \"car reduced\"communtunties,and the legislators are starting to act,if cautiously. maany experts expect pubic transport serving suburbs to play a much larger role in a new six years federal transportation bill to approved this year. in previous bill, percent of appropriations have by law gone to highways and only percent to other transports. there many good reason why they should do this.'"
      ]
     },
     "execution_count": 11,
     "metadata": {},
     "output_type": "execute_result"
    }
   ],
   "source": [
    "train[\"full_text\"][0]"
   ]
  },
  {
   "cell_type": "markdown",
   "id": "e9ec4d32",
   "metadata": {
    "papermill": {
     "duration": 0.008353,
     "end_time": "2024-05-21T12:41:20.377988",
     "exception": false,
     "start_time": "2024-05-21T12:41:20.369635",
     "status": "completed"
    },
    "tags": []
   },
   "source": [
    "## Feature Engineering"
   ]
  },
  {
   "cell_type": "code",
   "execution_count": 12,
   "id": "f16142b5",
   "metadata": {
    "execution": {
     "iopub.execute_input": "2024-05-21T12:41:20.397336Z",
     "iopub.status.busy": "2024-05-21T12:41:20.396641Z",
     "iopub.status.idle": "2024-05-21T12:41:20.403521Z",
     "shell.execute_reply": "2024-05-21T12:41:20.402339Z"
    },
    "papermill": {
     "duration": 0.019368,
     "end_time": "2024-05-21T12:41:20.406095",
     "exception": false,
     "start_time": "2024-05-21T12:41:20.386727",
     "status": "completed"
    },
    "tags": []
   },
   "outputs": [],
   "source": [
    "class TextFeatureExtractor:\n",
    "    def __init__(self):\n",
    "        pass\n",
    "    \n",
    "    def word_count(self, text):\n",
    "        return len(text.split())\n",
    "    \n",
    "    def sentence_count(self, text):\n",
    "        return len(text.split('.'))\n",
    "    \n",
    "    def essay_length(self, text):\n",
    "        return len(text)\n",
    "    \n",
    "    def extract_features(self, text):\n",
    "        features = {\n",
    "            'word_count': self.word_count(text),\n",
    "            'sentence_count': self.sentence_count(text),\n",
    "            'essay_length': self.essay_length(text)\n",
    "        }\n",
    "        return features"
   ]
  },
  {
   "cell_type": "code",
   "execution_count": 13,
   "id": "b4febe06",
   "metadata": {
    "execution": {
     "iopub.execute_input": "2024-05-21T12:41:20.425720Z",
     "iopub.status.busy": "2024-05-21T12:41:20.425030Z",
     "iopub.status.idle": "2024-05-21T12:41:20.865792Z",
     "shell.execute_reply": "2024-05-21T12:41:20.864907Z"
    },
    "papermill": {
     "duration": 0.453434,
     "end_time": "2024-05-21T12:41:20.868314",
     "exception": false,
     "start_time": "2024-05-21T12:41:20.414880",
     "status": "completed"
    },
    "tags": []
   },
   "outputs": [],
   "source": [
    "def apply_text_features(df, text_column):\n",
    "    extractor = TextFeatureExtractor()\n",
    "    for feature in ['word_count', 'sentence_count', 'essay_length']:\n",
    "        df[feature] = df[text_column].apply(lambda x: getattr(extractor, feature)(x))\n",
    "\n",
    "apply_text_features(train, 'full_text')\n",
    "apply_text_features(test, 'full_text')"
   ]
  },
  {
   "cell_type": "code",
   "execution_count": 14,
   "id": "525f1b9b",
   "metadata": {
    "execution": {
     "iopub.execute_input": "2024-05-21T12:41:20.888393Z",
     "iopub.status.busy": "2024-05-21T12:41:20.887702Z",
     "iopub.status.idle": "2024-05-21T12:41:20.903558Z",
     "shell.execute_reply": "2024-05-21T12:41:20.902301Z"
    },
    "papermill": {
     "duration": 0.02836,
     "end_time": "2024-05-21T12:41:20.905897",
     "exception": false,
     "start_time": "2024-05-21T12:41:20.877537",
     "status": "completed"
    },
    "tags": []
   },
   "outputs": [
    {
     "data": {
      "text/html": [
       "<div>\n",
       "<style scoped>\n",
       "    .dataframe tbody tr th:only-of-type {\n",
       "        vertical-align: middle;\n",
       "    }\n",
       "\n",
       "    .dataframe tbody tr th {\n",
       "        vertical-align: top;\n",
       "    }\n",
       "\n",
       "    .dataframe thead th {\n",
       "        text-align: right;\n",
       "    }\n",
       "</style>\n",
       "<table border=\"1\" class=\"dataframe\">\n",
       "  <thead>\n",
       "    <tr style=\"text-align: right;\">\n",
       "      <th></th>\n",
       "      <th>essay_id</th>\n",
       "      <th>full_text</th>\n",
       "      <th>score</th>\n",
       "      <th>word_count</th>\n",
       "      <th>sentence_count</th>\n",
       "      <th>essay_length</th>\n",
       "    </tr>\n",
       "  </thead>\n",
       "  <tbody>\n",
       "    <tr>\n",
       "      <th>0</th>\n",
       "      <td>000d118</td>\n",
       "      <td>many people have car where they live. the thin...</td>\n",
       "      <td>3</td>\n",
       "      <td>494</td>\n",
       "      <td>14</td>\n",
       "      <td>2642</td>\n",
       "    </tr>\n",
       "    <tr>\n",
       "      <th>1</th>\n",
       "      <td>000fe60</td>\n",
       "      <td>i am a scientist at nasa that is discussing th...</td>\n",
       "      <td>3</td>\n",
       "      <td>335</td>\n",
       "      <td>18</td>\n",
       "      <td>1665</td>\n",
       "    </tr>\n",
       "    <tr>\n",
       "      <th>2</th>\n",
       "      <td>001ab80</td>\n",
       "      <td>people always wish they had the same technolog...</td>\n",
       "      <td>4</td>\n",
       "      <td>550</td>\n",
       "      <td>25</td>\n",
       "      <td>3061</td>\n",
       "    </tr>\n",
       "    <tr>\n",
       "      <th>3</th>\n",
       "      <td>001bdc0</td>\n",
       "      <td>we all heard about venus, the planet without a...</td>\n",
       "      <td>4</td>\n",
       "      <td>445</td>\n",
       "      <td>21</td>\n",
       "      <td>2665</td>\n",
       "    </tr>\n",
       "    <tr>\n",
       "      <th>4</th>\n",
       "      <td>002ba53</td>\n",
       "      <td>dear, state senator this is a letter to argue ...</td>\n",
       "      <td>3</td>\n",
       "      <td>372</td>\n",
       "      <td>16</td>\n",
       "      <td>2168</td>\n",
       "    </tr>\n",
       "    <tr>\n",
       "      <th>...</th>\n",
       "      <td>...</td>\n",
       "      <td>...</td>\n",
       "      <td>...</td>\n",
       "      <td>...</td>\n",
       "      <td>...</td>\n",
       "      <td>...</td>\n",
       "    </tr>\n",
       "    <tr>\n",
       "      <th>17302</th>\n",
       "      <td>ffd378d</td>\n",
       "      <td>the story \" the challenge of exploing venus \" ...</td>\n",
       "      <td>2</td>\n",
       "      <td>157</td>\n",
       "      <td>10</td>\n",
       "      <td>854</td>\n",
       "    </tr>\n",
       "    <tr>\n",
       "      <th>17303</th>\n",
       "      <td>ffddf1f</td>\n",
       "      <td>technology has changed a lot of ways that we l...</td>\n",
       "      <td>4</td>\n",
       "      <td>574</td>\n",
       "      <td>29</td>\n",
       "      <td>3313</td>\n",
       "    </tr>\n",
       "    <tr>\n",
       "      <th>17304</th>\n",
       "      <td>fff016d</td>\n",
       "      <td>if you do not like sitting around all day than...</td>\n",
       "      <td>2</td>\n",
       "      <td>220</td>\n",
       "      <td>16</td>\n",
       "      <td>1125</td>\n",
       "    </tr>\n",
       "    <tr>\n",
       "      <th>17305</th>\n",
       "      <td>fffb49b</td>\n",
       "      <td>in \"the challenge of exporing venus,\" the auth...</td>\n",
       "      <td>1</td>\n",
       "      <td>227</td>\n",
       "      <td>12</td>\n",
       "      <td>1409</td>\n",
       "    </tr>\n",
       "    <tr>\n",
       "      <th>17306</th>\n",
       "      <td>fffed3e</td>\n",
       "      <td>venus is worthy place to study but dangerous. ...</td>\n",
       "      <td>2</td>\n",
       "      <td>155</td>\n",
       "      <td>13</td>\n",
       "      <td>782</td>\n",
       "    </tr>\n",
       "  </tbody>\n",
       "</table>\n",
       "<p>17307 rows × 6 columns</p>\n",
       "</div>"
      ],
      "text/plain": [
       "      essay_id                                          full_text  score  \\\n",
       "0      000d118  many people have car where they live. the thin...      3   \n",
       "1      000fe60  i am a scientist at nasa that is discussing th...      3   \n",
       "2      001ab80  people always wish they had the same technolog...      4   \n",
       "3      001bdc0  we all heard about venus, the planet without a...      4   \n",
       "4      002ba53  dear, state senator this is a letter to argue ...      3   \n",
       "...        ...                                                ...    ...   \n",
       "17302  ffd378d  the story \" the challenge of exploing venus \" ...      2   \n",
       "17303  ffddf1f  technology has changed a lot of ways that we l...      4   \n",
       "17304  fff016d  if you do not like sitting around all day than...      2   \n",
       "17305  fffb49b  in \"the challenge of exporing venus,\" the auth...      1   \n",
       "17306  fffed3e  venus is worthy place to study but dangerous. ...      2   \n",
       "\n",
       "       word_count  sentence_count  essay_length  \n",
       "0             494              14          2642  \n",
       "1             335              18          1665  \n",
       "2             550              25          3061  \n",
       "3             445              21          2665  \n",
       "4             372              16          2168  \n",
       "...           ...             ...           ...  \n",
       "17302         157              10           854  \n",
       "17303         574              29          3313  \n",
       "17304         220              16          1125  \n",
       "17305         227              12          1409  \n",
       "17306         155              13           782  \n",
       "\n",
       "[17307 rows x 6 columns]"
      ]
     },
     "execution_count": 14,
     "metadata": {},
     "output_type": "execute_result"
    }
   ],
   "source": [
    "train"
   ]
  },
  {
   "cell_type": "code",
   "execution_count": 15,
   "id": "1ab2d1bc",
   "metadata": {
    "execution": {
     "iopub.execute_input": "2024-05-21T12:41:20.925744Z",
     "iopub.status.busy": "2024-05-21T12:41:20.925357Z",
     "iopub.status.idle": "2024-05-21T12:41:20.935550Z",
     "shell.execute_reply": "2024-05-21T12:41:20.934469Z"
    },
    "papermill": {
     "duration": 0.022943,
     "end_time": "2024-05-21T12:41:20.937891",
     "exception": false,
     "start_time": "2024-05-21T12:41:20.914948",
     "status": "completed"
    },
    "tags": []
   },
   "outputs": [
    {
     "data": {
      "text/html": [
       "<div>\n",
       "<style scoped>\n",
       "    .dataframe tbody tr th:only-of-type {\n",
       "        vertical-align: middle;\n",
       "    }\n",
       "\n",
       "    .dataframe tbody tr th {\n",
       "        vertical-align: top;\n",
       "    }\n",
       "\n",
       "    .dataframe thead th {\n",
       "        text-align: right;\n",
       "    }\n",
       "</style>\n",
       "<table border=\"1\" class=\"dataframe\">\n",
       "  <thead>\n",
       "    <tr style=\"text-align: right;\">\n",
       "      <th></th>\n",
       "      <th>essay_id</th>\n",
       "      <th>full_text</th>\n",
       "      <th>word_count</th>\n",
       "      <th>sentence_count</th>\n",
       "      <th>essay_length</th>\n",
       "    </tr>\n",
       "  </thead>\n",
       "  <tbody>\n",
       "    <tr>\n",
       "      <th>0</th>\n",
       "      <td>000d118</td>\n",
       "      <td>many people have car where they live. the thin...</td>\n",
       "      <td>494</td>\n",
       "      <td>14</td>\n",
       "      <td>2642</td>\n",
       "    </tr>\n",
       "    <tr>\n",
       "      <th>1</th>\n",
       "      <td>000fe60</td>\n",
       "      <td>i am a scientist at nasa that is discussing th...</td>\n",
       "      <td>335</td>\n",
       "      <td>18</td>\n",
       "      <td>1665</td>\n",
       "    </tr>\n",
       "    <tr>\n",
       "      <th>2</th>\n",
       "      <td>001ab80</td>\n",
       "      <td>people always wish they had the same technolog...</td>\n",
       "      <td>550</td>\n",
       "      <td>25</td>\n",
       "      <td>3061</td>\n",
       "    </tr>\n",
       "  </tbody>\n",
       "</table>\n",
       "</div>"
      ],
      "text/plain": [
       "  essay_id                                          full_text  word_count  \\\n",
       "0  000d118  many people have car where they live. the thin...         494   \n",
       "1  000fe60  i am a scientist at nasa that is discussing th...         335   \n",
       "2  001ab80  people always wish they had the same technolog...         550   \n",
       "\n",
       "   sentence_count  essay_length  \n",
       "0              14          2642  \n",
       "1              18          1665  \n",
       "2              25          3061  "
      ]
     },
     "execution_count": 15,
     "metadata": {},
     "output_type": "execute_result"
    }
   ],
   "source": [
    "test"
   ]
  },
  {
   "cell_type": "markdown",
   "id": "49789bba",
   "metadata": {
    "papermill": {
     "duration": 0.008934,
     "end_time": "2024-05-21T12:41:20.956240",
     "exception": false,
     "start_time": "2024-05-21T12:41:20.947306",
     "status": "completed"
    },
    "tags": []
   },
   "source": [
    "# Preparing Data"
   ]
  },
  {
   "cell_type": "code",
   "execution_count": 16,
   "id": "3b1f6e58",
   "metadata": {
    "execution": {
     "iopub.execute_input": "2024-05-21T12:41:20.976469Z",
     "iopub.status.busy": "2024-05-21T12:41:20.976064Z",
     "iopub.status.idle": "2024-05-21T12:41:20.992440Z",
     "shell.execute_reply": "2024-05-21T12:41:20.991525Z"
    },
    "papermill": {
     "duration": 0.029452,
     "end_time": "2024-05-21T12:41:20.994888",
     "exception": false,
     "start_time": "2024-05-21T12:41:20.965436",
     "status": "completed"
    },
    "tags": []
   },
   "outputs": [],
   "source": [
    "from sklearn.preprocessing import StandardScaler\n",
    "from scipy.sparse import hstack, csr_matrix\n",
    "\n",
    "# Exclude 'essay_id' from features\n",
    "features_scale = ['word_count', 'sentence_count', 'essay_length']\n",
    "scaler = StandardScaler()\n",
    "\n",
    "# Scaling\n",
    "train[features_scale] = scaler.fit_transform(train[features_scale])\n",
    "test[features_scale] = scaler.transform(test[features_scale])"
   ]
  },
  {
   "cell_type": "code",
   "execution_count": 17,
   "id": "b41b07e7",
   "metadata": {
    "execution": {
     "iopub.execute_input": "2024-05-21T12:41:21.015715Z",
     "iopub.status.busy": "2024-05-21T12:41:21.014874Z",
     "iopub.status.idle": "2024-05-21T12:41:21.028965Z",
     "shell.execute_reply": "2024-05-21T12:41:21.027759Z"
    },
    "papermill": {
     "duration": 0.026983,
     "end_time": "2024-05-21T12:41:21.031333",
     "exception": false,
     "start_time": "2024-05-21T12:41:21.004350",
     "status": "completed"
    },
    "tags": []
   },
   "outputs": [
    {
     "data": {
      "text/html": [
       "<div>\n",
       "<style scoped>\n",
       "    .dataframe tbody tr th:only-of-type {\n",
       "        vertical-align: middle;\n",
       "    }\n",
       "\n",
       "    .dataframe tbody tr th {\n",
       "        vertical-align: top;\n",
       "    }\n",
       "\n",
       "    .dataframe thead th {\n",
       "        text-align: right;\n",
       "    }\n",
       "</style>\n",
       "<table border=\"1\" class=\"dataframe\">\n",
       "  <thead>\n",
       "    <tr style=\"text-align: right;\">\n",
       "      <th></th>\n",
       "      <th>essay_id</th>\n",
       "      <th>full_text</th>\n",
       "      <th>score</th>\n",
       "      <th>word_count</th>\n",
       "      <th>sentence_count</th>\n",
       "      <th>essay_length</th>\n",
       "    </tr>\n",
       "  </thead>\n",
       "  <tbody>\n",
       "    <tr>\n",
       "      <th>0</th>\n",
       "      <td>000d118</td>\n",
       "      <td>many people have car where they live. the thin...</td>\n",
       "      <td>3</td>\n",
       "      <td>0.830949</td>\n",
       "      <td>-0.684363</td>\n",
       "      <td>0.703004</td>\n",
       "    </tr>\n",
       "    <tr>\n",
       "      <th>1</th>\n",
       "      <td>000fe60</td>\n",
       "      <td>i am a scientist at nasa that is discussing th...</td>\n",
       "      <td>3</td>\n",
       "      <td>-0.224303</td>\n",
       "      <td>-0.205395</td>\n",
       "      <td>-0.432615</td>\n",
       "    </tr>\n",
       "    <tr>\n",
       "      <th>2</th>\n",
       "      <td>001ab80</td>\n",
       "      <td>people always wish they had the same technolog...</td>\n",
       "      <td>4</td>\n",
       "      <td>1.202610</td>\n",
       "      <td>0.632798</td>\n",
       "      <td>1.190030</td>\n",
       "    </tr>\n",
       "    <tr>\n",
       "      <th>3</th>\n",
       "      <td>001bdc0</td>\n",
       "      <td>we all heard about venus, the planet without a...</td>\n",
       "      <td>4</td>\n",
       "      <td>0.505746</td>\n",
       "      <td>0.153830</td>\n",
       "      <td>0.729738</td>\n",
       "    </tr>\n",
       "    <tr>\n",
       "      <th>4</th>\n",
       "      <td>002ba53</td>\n",
       "      <td>dear, state senator this is a letter to argue ...</td>\n",
       "      <td>3</td>\n",
       "      <td>0.021259</td>\n",
       "      <td>-0.444879</td>\n",
       "      <td>0.152049</td>\n",
       "    </tr>\n",
       "  </tbody>\n",
       "</table>\n",
       "</div>"
      ],
      "text/plain": [
       "  essay_id                                          full_text  score  \\\n",
       "0  000d118  many people have car where they live. the thin...      3   \n",
       "1  000fe60  i am a scientist at nasa that is discussing th...      3   \n",
       "2  001ab80  people always wish they had the same technolog...      4   \n",
       "3  001bdc0  we all heard about venus, the planet without a...      4   \n",
       "4  002ba53  dear, state senator this is a letter to argue ...      3   \n",
       "\n",
       "   word_count  sentence_count  essay_length  \n",
       "0    0.830949       -0.684363      0.703004  \n",
       "1   -0.224303       -0.205395     -0.432615  \n",
       "2    1.202610        0.632798      1.190030  \n",
       "3    0.505746        0.153830      0.729738  \n",
       "4    0.021259       -0.444879      0.152049  "
      ]
     },
     "execution_count": 17,
     "metadata": {},
     "output_type": "execute_result"
    }
   ],
   "source": [
    "train.head()"
   ]
  },
  {
   "cell_type": "code",
   "execution_count": 18,
   "id": "825bf346",
   "metadata": {
    "execution": {
     "iopub.execute_input": "2024-05-21T12:41:21.052682Z",
     "iopub.status.busy": "2024-05-21T12:41:21.052010Z",
     "iopub.status.idle": "2024-05-21T12:41:21.064321Z",
     "shell.execute_reply": "2024-05-21T12:41:21.063155Z"
    },
    "papermill": {
     "duration": 0.02624,
     "end_time": "2024-05-21T12:41:21.067204",
     "exception": false,
     "start_time": "2024-05-21T12:41:21.040964",
     "status": "completed"
    },
    "tags": []
   },
   "outputs": [
    {
     "data": {
      "text/html": [
       "<div>\n",
       "<style scoped>\n",
       "    .dataframe tbody tr th:only-of-type {\n",
       "        vertical-align: middle;\n",
       "    }\n",
       "\n",
       "    .dataframe tbody tr th {\n",
       "        vertical-align: top;\n",
       "    }\n",
       "\n",
       "    .dataframe thead th {\n",
       "        text-align: right;\n",
       "    }\n",
       "</style>\n",
       "<table border=\"1\" class=\"dataframe\">\n",
       "  <thead>\n",
       "    <tr style=\"text-align: right;\">\n",
       "      <th></th>\n",
       "      <th>essay_id</th>\n",
       "      <th>full_text</th>\n",
       "      <th>word_count</th>\n",
       "      <th>sentence_count</th>\n",
       "      <th>essay_length</th>\n",
       "    </tr>\n",
       "  </thead>\n",
       "  <tbody>\n",
       "    <tr>\n",
       "      <th>0</th>\n",
       "      <td>000d118</td>\n",
       "      <td>many people have car where they live. the thin...</td>\n",
       "      <td>0.830949</td>\n",
       "      <td>-0.684363</td>\n",
       "      <td>0.703004</td>\n",
       "    </tr>\n",
       "    <tr>\n",
       "      <th>1</th>\n",
       "      <td>000fe60</td>\n",
       "      <td>i am a scientist at nasa that is discussing th...</td>\n",
       "      <td>-0.224303</td>\n",
       "      <td>-0.205395</td>\n",
       "      <td>-0.432615</td>\n",
       "    </tr>\n",
       "    <tr>\n",
       "      <th>2</th>\n",
       "      <td>001ab80</td>\n",
       "      <td>people always wish they had the same technolog...</td>\n",
       "      <td>1.202610</td>\n",
       "      <td>0.632798</td>\n",
       "      <td>1.190030</td>\n",
       "    </tr>\n",
       "  </tbody>\n",
       "</table>\n",
       "</div>"
      ],
      "text/plain": [
       "  essay_id                                          full_text  word_count  \\\n",
       "0  000d118  many people have car where they live. the thin...    0.830949   \n",
       "1  000fe60  i am a scientist at nasa that is discussing th...   -0.224303   \n",
       "2  001ab80  people always wish they had the same technolog...    1.202610   \n",
       "\n",
       "   sentence_count  essay_length  \n",
       "0       -0.684363      0.703004  \n",
       "1       -0.205395     -0.432615  \n",
       "2        0.632798      1.190030  "
      ]
     },
     "execution_count": 18,
     "metadata": {},
     "output_type": "execute_result"
    }
   ],
   "source": [
    "test.head()"
   ]
  },
  {
   "cell_type": "code",
   "execution_count": 19,
   "id": "1411b59b",
   "metadata": {
    "execution": {
     "iopub.execute_input": "2024-05-21T12:41:21.089616Z",
     "iopub.status.busy": "2024-05-21T12:41:21.088375Z",
     "iopub.status.idle": "2024-05-21T12:41:25.944433Z",
     "shell.execute_reply": "2024-05-21T12:41:25.943297Z"
    },
    "papermill": {
     "duration": 4.869932,
     "end_time": "2024-05-21T12:41:25.947116",
     "exception": false,
     "start_time": "2024-05-21T12:41:21.077184",
     "status": "completed"
    },
    "tags": []
   },
   "outputs": [],
   "source": [
    "# Vectorize text data\n",
    "tfid_vectorizer = TfidfVectorizer(max_features=5000)\n",
    "\n",
    "X_train_tfidf = tfid_vectorizer.fit_transform(train['full_text'])\n",
    "\n",
    "# Convert scaled features into sparse format\n",
    "features_train = csr_matrix(train[features_scale])\n",
    "\n",
    "# Combine TF-IDF features with additional features\n",
    "X_train_combined = hstack([X_train_tfidf, features_train])"
   ]
  },
  {
   "cell_type": "code",
   "execution_count": 20,
   "id": "0dc4490b",
   "metadata": {
    "execution": {
     "iopub.execute_input": "2024-05-21T12:41:25.969331Z",
     "iopub.status.busy": "2024-05-21T12:41:25.968951Z",
     "iopub.status.idle": "2024-05-21T12:41:25.979456Z",
     "shell.execute_reply": "2024-05-21T12:41:25.978065Z"
    },
    "papermill": {
     "duration": 0.024583,
     "end_time": "2024-05-21T12:41:25.981927",
     "exception": false,
     "start_time": "2024-05-21T12:41:25.957344",
     "status": "completed"
    },
    "tags": []
   },
   "outputs": [],
   "source": [
    "# Vectorize text data\n",
    "X_test_tfidf = tfid_vectorizer.transform(test['full_text'])  \n",
    "\n",
    "# Convert scaled features into sparse format\n",
    "features_test = csr_matrix(test[features_scale])\n",
    "\n",
    "# Combine TF-IDF features with additional features\n",
    "X_test_combined = hstack([X_test_tfidf, features_test])"
   ]
  },
  {
   "cell_type": "markdown",
   "id": "178c3e67",
   "metadata": {
    "papermill": {
     "duration": 0.009387,
     "end_time": "2024-05-21T12:41:26.001504",
     "exception": false,
     "start_time": "2024-05-21T12:41:25.992117",
     "status": "completed"
    },
    "tags": []
   },
   "source": [
    "## Split data"
   ]
  },
  {
   "cell_type": "code",
   "execution_count": 21,
   "id": "2ba1af10",
   "metadata": {
    "execution": {
     "iopub.execute_input": "2024-05-21T12:41:26.022671Z",
     "iopub.status.busy": "2024-05-21T12:41:26.022276Z",
     "iopub.status.idle": "2024-05-21T12:41:26.026406Z",
     "shell.execute_reply": "2024-05-21T12:41:26.025453Z"
    },
    "papermill": {
     "duration": 0.017148,
     "end_time": "2024-05-21T12:41:26.028389",
     "exception": false,
     "start_time": "2024-05-21T12:41:26.011241",
     "status": "completed"
    },
    "tags": []
   },
   "outputs": [],
   "source": [
    "y = train['score']"
   ]
  },
  {
   "cell_type": "code",
   "execution_count": 22,
   "id": "c30880bb",
   "metadata": {
    "execution": {
     "iopub.execute_input": "2024-05-21T12:41:26.050291Z",
     "iopub.status.busy": "2024-05-21T12:41:26.049661Z",
     "iopub.status.idle": "2024-05-21T12:41:26.066706Z",
     "shell.execute_reply": "2024-05-21T12:41:26.065534Z"
    },
    "papermill": {
     "duration": 0.031061,
     "end_time": "2024-05-21T12:41:26.069361",
     "exception": false,
     "start_time": "2024-05-21T12:41:26.038300",
     "status": "completed"
    },
    "tags": []
   },
   "outputs": [],
   "source": [
    "X_train,X_val,y_train,y_val = train_test_split(X_train_combined,y,test_size = 0.2)"
   ]
  },
  {
   "cell_type": "markdown",
   "id": "24d049be",
   "metadata": {
    "papermill": {
     "duration": 0.009287,
     "end_time": "2024-05-21T12:41:26.088472",
     "exception": false,
     "start_time": "2024-05-21T12:41:26.079185",
     "status": "completed"
    },
    "tags": []
   },
   "source": [
    "## Model Selection + Training"
   ]
  },
  {
   "cell_type": "code",
   "execution_count": 23,
   "id": "b58a2dc4",
   "metadata": {
    "execution": {
     "iopub.execute_input": "2024-05-21T12:41:26.109792Z",
     "iopub.status.busy": "2024-05-21T12:41:26.109376Z",
     "iopub.status.idle": "2024-05-21T12:41:26.114829Z",
     "shell.execute_reply": "2024-05-21T12:41:26.113409Z"
    },
    "papermill": {
     "duration": 0.018855,
     "end_time": "2024-05-21T12:41:26.117036",
     "exception": false,
     "start_time": "2024-05-21T12:41:26.098181",
     "status": "completed"
    },
    "tags": []
   },
   "outputs": [],
   "source": [
    "classifier = SVC()"
   ]
  },
  {
   "cell_type": "code",
   "execution_count": 24,
   "id": "33df7d20",
   "metadata": {
    "execution": {
     "iopub.execute_input": "2024-05-21T12:41:26.139169Z",
     "iopub.status.busy": "2024-05-21T12:41:26.138674Z",
     "iopub.status.idle": "2024-05-21T12:46:04.397071Z",
     "shell.execute_reply": "2024-05-21T12:46:04.394301Z"
    },
    "papermill": {
     "duration": 278.281748,
     "end_time": "2024-05-21T12:46:04.408576",
     "exception": false,
     "start_time": "2024-05-21T12:41:26.126828",
     "status": "completed"
    },
    "tags": []
   },
   "outputs": [
    {
     "data": {
      "text/html": [
       "<style>#sk-container-id-1 {color: black;background-color: white;}#sk-container-id-1 pre{padding: 0;}#sk-container-id-1 div.sk-toggleable {background-color: white;}#sk-container-id-1 label.sk-toggleable__label {cursor: pointer;display: block;width: 100%;margin-bottom: 0;padding: 0.3em;box-sizing: border-box;text-align: center;}#sk-container-id-1 label.sk-toggleable__label-arrow:before {content: \"▸\";float: left;margin-right: 0.25em;color: #696969;}#sk-container-id-1 label.sk-toggleable__label-arrow:hover:before {color: black;}#sk-container-id-1 div.sk-estimator:hover label.sk-toggleable__label-arrow:before {color: black;}#sk-container-id-1 div.sk-toggleable__content {max-height: 0;max-width: 0;overflow: hidden;text-align: left;background-color: #f0f8ff;}#sk-container-id-1 div.sk-toggleable__content pre {margin: 0.2em;color: black;border-radius: 0.25em;background-color: #f0f8ff;}#sk-container-id-1 input.sk-toggleable__control:checked~div.sk-toggleable__content {max-height: 200px;max-width: 100%;overflow: auto;}#sk-container-id-1 input.sk-toggleable__control:checked~label.sk-toggleable__label-arrow:before {content: \"▾\";}#sk-container-id-1 div.sk-estimator input.sk-toggleable__control:checked~label.sk-toggleable__label {background-color: #d4ebff;}#sk-container-id-1 div.sk-label input.sk-toggleable__control:checked~label.sk-toggleable__label {background-color: #d4ebff;}#sk-container-id-1 input.sk-hidden--visually {border: 0;clip: rect(1px 1px 1px 1px);clip: rect(1px, 1px, 1px, 1px);height: 1px;margin: -1px;overflow: hidden;padding: 0;position: absolute;width: 1px;}#sk-container-id-1 div.sk-estimator {font-family: monospace;background-color: #f0f8ff;border: 1px dotted black;border-radius: 0.25em;box-sizing: border-box;margin-bottom: 0.5em;}#sk-container-id-1 div.sk-estimator:hover {background-color: #d4ebff;}#sk-container-id-1 div.sk-parallel-item::after {content: \"\";width: 100%;border-bottom: 1px solid gray;flex-grow: 1;}#sk-container-id-1 div.sk-label:hover label.sk-toggleable__label {background-color: #d4ebff;}#sk-container-id-1 div.sk-serial::before {content: \"\";position: absolute;border-left: 1px solid gray;box-sizing: border-box;top: 0;bottom: 0;left: 50%;z-index: 0;}#sk-container-id-1 div.sk-serial {display: flex;flex-direction: column;align-items: center;background-color: white;padding-right: 0.2em;padding-left: 0.2em;position: relative;}#sk-container-id-1 div.sk-item {position: relative;z-index: 1;}#sk-container-id-1 div.sk-parallel {display: flex;align-items: stretch;justify-content: center;background-color: white;position: relative;}#sk-container-id-1 div.sk-item::before, #sk-container-id-1 div.sk-parallel-item::before {content: \"\";position: absolute;border-left: 1px solid gray;box-sizing: border-box;top: 0;bottom: 0;left: 50%;z-index: -1;}#sk-container-id-1 div.sk-parallel-item {display: flex;flex-direction: column;z-index: 1;position: relative;background-color: white;}#sk-container-id-1 div.sk-parallel-item:first-child::after {align-self: flex-end;width: 50%;}#sk-container-id-1 div.sk-parallel-item:last-child::after {align-self: flex-start;width: 50%;}#sk-container-id-1 div.sk-parallel-item:only-child::after {width: 0;}#sk-container-id-1 div.sk-dashed-wrapped {border: 1px dashed gray;margin: 0 0.4em 0.5em 0.4em;box-sizing: border-box;padding-bottom: 0.4em;background-color: white;}#sk-container-id-1 div.sk-label label {font-family: monospace;font-weight: bold;display: inline-block;line-height: 1.2em;}#sk-container-id-1 div.sk-label-container {text-align: center;}#sk-container-id-1 div.sk-container {/* jupyter's `normalize.less` sets `[hidden] { display: none; }` but bootstrap.min.css set `[hidden] { display: none !important; }` so we also need the `!important` here to be able to override the default hidden behavior on the sphinx rendered scikit-learn.org. See: https://github.com/scikit-learn/scikit-learn/issues/21755 */display: inline-block !important;position: relative;}#sk-container-id-1 div.sk-text-repr-fallback {display: none;}</style><div id=\"sk-container-id-1\" class=\"sk-top-container\"><div class=\"sk-text-repr-fallback\"><pre>SVC()</pre><b>In a Jupyter environment, please rerun this cell to show the HTML representation or trust the notebook. <br />On GitHub, the HTML representation is unable to render, please try loading this page with nbviewer.org.</b></div><div class=\"sk-container\" hidden><div class=\"sk-item\"><div class=\"sk-estimator sk-toggleable\"><input class=\"sk-toggleable__control sk-hidden--visually\" id=\"sk-estimator-id-1\" type=\"checkbox\" checked><label for=\"sk-estimator-id-1\" class=\"sk-toggleable__label sk-toggleable__label-arrow\">SVC</label><div class=\"sk-toggleable__content\"><pre>SVC()</pre></div></div></div></div></div>"
      ],
      "text/plain": [
       "SVC()"
      ]
     },
     "execution_count": 24,
     "metadata": {},
     "output_type": "execute_result"
    }
   ],
   "source": [
    "classifier.fit(X_train,y_train)"
   ]
  },
  {
   "cell_type": "code",
   "execution_count": 25,
   "id": "9ba61378",
   "metadata": {
    "execution": {
     "iopub.execute_input": "2024-05-21T12:46:04.434085Z",
     "iopub.status.busy": "2024-05-21T12:46:04.433526Z",
     "iopub.status.idle": "2024-05-21T12:47:26.710271Z",
     "shell.execute_reply": "2024-05-21T12:47:26.709072Z"
    },
    "papermill": {
     "duration": 82.293703,
     "end_time": "2024-05-21T12:47:26.713410",
     "exception": false,
     "start_time": "2024-05-21T12:46:04.419707",
     "status": "completed"
    },
    "tags": []
   },
   "outputs": [],
   "source": [
    "val_pred = classifier.predict(X_val)"
   ]
  },
  {
   "cell_type": "code",
   "execution_count": 26,
   "id": "ad39e5e4",
   "metadata": {
    "execution": {
     "iopub.execute_input": "2024-05-21T12:47:26.736626Z",
     "iopub.status.busy": "2024-05-21T12:47:26.735649Z",
     "iopub.status.idle": "2024-05-21T12:47:26.757505Z",
     "shell.execute_reply": "2024-05-21T12:47:26.756306Z"
    },
    "papermill": {
     "duration": 0.035792,
     "end_time": "2024-05-21T12:47:26.759978",
     "exception": false,
     "start_time": "2024-05-21T12:47:26.724186",
     "status": "completed"
    },
    "tags": []
   },
   "outputs": [
    {
     "name": "stdout",
     "output_type": "stream",
     "text": [
      "Test Accuracy: 0.6062969381860196\n",
      "Test Precision: 0.6112535080144684\n",
      "Test Recall: 0.416456916595465\n",
      "Test F1 Score: 0.42172544861889866\n"
     ]
    }
   ],
   "source": [
    "# Calculate test metrics\n",
    "val_accuracy = accuracy_score(y_val, val_pred)\n",
    "val_precision = precision_score(y_val, val_pred, average='macro')  \n",
    "val_recall = recall_score(y_val, val_pred, average='macro') \n",
    "val_f1 = f1_score(y_val, val_pred, average='macro')  \n",
    "\n",
    "# Print test metrics\n",
    "print(\"Test Accuracy:\", val_accuracy)\n",
    "print(\"Test Precision:\", val_precision)\n",
    "print(\"Test Recall:\", val_recall)\n",
    "print(\"Test F1 Score:\", val_f1)"
   ]
  },
  {
   "cell_type": "code",
   "execution_count": 27,
   "id": "d397665e",
   "metadata": {
    "execution": {
     "iopub.execute_input": "2024-05-21T12:47:26.783179Z",
     "iopub.status.busy": "2024-05-21T12:47:26.782740Z",
     "iopub.status.idle": "2024-05-21T12:47:26.793205Z",
     "shell.execute_reply": "2024-05-21T12:47:26.791610Z"
    },
    "papermill": {
     "duration": 0.024793,
     "end_time": "2024-05-21T12:47:26.795756",
     "exception": false,
     "start_time": "2024-05-21T12:47:26.770963",
     "status": "completed"
    },
    "tags": []
   },
   "outputs": [
    {
     "name": "stdout",
     "output_type": "stream",
     "text": [
      "Cohen's Kappa Score: 0.4467467939154066\n"
     ]
    }
   ],
   "source": [
    "# Cohen's Kappa Score\n",
    "val_kappa = cohen_kappa_score(y_val, val_pred)\n",
    "print(\"Cohen's Kappa Score:\", val_kappa)"
   ]
  },
  {
   "cell_type": "markdown",
   "id": "d3987346",
   "metadata": {
    "papermill": {
     "duration": 0.009962,
     "end_time": "2024-05-21T12:47:26.815964",
     "exception": false,
     "start_time": "2024-05-21T12:47:26.806002",
     "status": "completed"
    },
    "tags": []
   },
   "source": [
    "## Submission"
   ]
  },
  {
   "cell_type": "code",
   "execution_count": 28,
   "id": "a21bbb26",
   "metadata": {
    "execution": {
     "iopub.execute_input": "2024-05-21T12:47:26.839017Z",
     "iopub.status.busy": "2024-05-21T12:47:26.838338Z",
     "iopub.status.idle": "2024-05-21T12:47:26.933727Z",
     "shell.execute_reply": "2024-05-21T12:47:26.932575Z"
    },
    "papermill": {
     "duration": 0.10995,
     "end_time": "2024-05-21T12:47:26.936583",
     "exception": false,
     "start_time": "2024-05-21T12:47:26.826633",
     "status": "completed"
    },
    "tags": []
   },
   "outputs": [],
   "source": [
    "submission['score'] = classifier.predict(X_test_combined)"
   ]
  },
  {
   "cell_type": "code",
   "execution_count": 29,
   "id": "139e4bbe",
   "metadata": {
    "execution": {
     "iopub.execute_input": "2024-05-21T12:47:26.959490Z",
     "iopub.status.busy": "2024-05-21T12:47:26.959111Z",
     "iopub.status.idle": "2024-05-21T12:47:26.967756Z",
     "shell.execute_reply": "2024-05-21T12:47:26.966822Z"
    },
    "papermill": {
     "duration": 0.023265,
     "end_time": "2024-05-21T12:47:26.970165",
     "exception": false,
     "start_time": "2024-05-21T12:47:26.946900",
     "status": "completed"
    },
    "tags": []
   },
   "outputs": [],
   "source": [
    "submission.to_csv(\"submission.csv\",index = False)"
   ]
  }
 ],
 "metadata": {
  "kaggle": {
   "accelerator": "none",
   "dataSources": [
    {
     "databundleVersionId": 8059942,
     "sourceId": 71485,
     "sourceType": "competition"
    },
    {
     "datasetId": 3596984,
     "sourceId": 6258399,
     "sourceType": "datasetVersion"
    }
   ],
   "dockerImageVersionId": 30698,
   "isGpuEnabled": false,
   "isInternetEnabled": false,
   "language": "python",
   "sourceType": "notebook"
  },
  "kernelspec": {
   "display_name": "Python 3",
   "language": "python",
   "name": "python3"
  },
  "language_info": {
   "codemirror_mode": {
    "name": "ipython",
    "version": 3
   },
   "file_extension": ".py",
   "mimetype": "text/x-python",
   "name": "python",
   "nbconvert_exporter": "python",
   "pygments_lexer": "ipython3",
   "version": "3.10.13"
  },
  "papermill": {
   "default_parameters": {},
   "duration": 389.114371,
   "end_time": "2024-05-21T12:47:27.805153",
   "environment_variables": {},
   "exception": null,
   "input_path": "__notebook__.ipynb",
   "output_path": "__notebook__.ipynb",
   "parameters": {},
   "start_time": "2024-05-21T12:40:58.690782",
   "version": "2.5.0"
  }
 },
 "nbformat": 4,
 "nbformat_minor": 5
}
